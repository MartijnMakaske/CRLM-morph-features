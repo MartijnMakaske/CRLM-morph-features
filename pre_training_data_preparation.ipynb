{
 "cells": [
  {
   "cell_type": "code",
   "execution_count": null,
   "metadata": {},
   "outputs": [],
   "source": [
    "#imports\n",
    "import nibabel as nib\n",
    "import numpy as np\n",
    "import os\n",
    "import monai \n",
    "import pydicom\n",
    "import dicom2nifti"
   ]
  },
  {
   "cell_type": "markdown",
   "metadata": {},
   "source": [
    "# Pre-Training data preparation"
   ]
  },
  {
   "cell_type": "markdown",
   "metadata": {},
   "source": [
    "### convert to other folder structure"
   ]
  },
  {
   "cell_type": "code",
   "execution_count": null,
   "metadata": {},
   "outputs": [],
   "source": [
    "import shutil\n",
    "import os\n",
    "\n",
    "dicom_dir = \"L:/Basic/divi/jstoker/slicer_pdac/Master Students WS 24/Martijn/data/Pre-training/dataset/Colorectal-Liver-Metastases\"\n",
    "scans_dir = \"L:/Basic/divi/jstoker/slicer_pdac/Master Students WS 24/Martijn/data/Pre-training/dataset/scans\"\n",
    "seg_dir = \"L:/Basic/divi/jstoker/slicer_pdac/Master Students WS 24/Martijn/data/Pre-training/dataset/segmentations\"\n",
    "\n",
    "# Iterate over patient folders\n",
    "for patient in os.listdir(dicom_dir):\n",
    "    patient_id = patient.split(\"_\")[-1]\n",
    "    patient_nr = patient.split(\"-\")[-1]\n",
    "    if int(patient_nr) > 1182: \n",
    "        folder_path = os.path.join(dicom_dir, patient, os.listdir(os.path.join(dicom_dir, patient))[0])  # Get the first subfolder\n",
    "\n",
    "        for subfolder in os.listdir(folder_path):\n",
    "            subfolder_path = os.path.join(folder_path, subfolder)\n",
    "\n",
    "            if \"Segmentation\" in subfolder:\n",
    "                # Copy segmentation folder\n",
    "                destination_seg_folder = os.path.join(seg_dir, f\"{patient_id}_segmentation\")\n",
    "                try:\n",
    "                    shutil.copytree(subfolder_path, destination_seg_folder)\n",
    "                    print(f\"Copied segmentation folder to {destination_seg_folder}\")\n",
    "                except FileExistsError:\n",
    "                    print(f\"Segmentation folder {destination_seg_folder} already exists.\")\n",
    "                except Exception as e:\n",
    "                    print(f\"Failed to copy segmentation folder: {e}\")\n",
    "            else:\n",
    "                # Copy scan folder\n",
    "                destination_scan_folder = os.path.join(scans_dir, f\"{patient_id}_scan\")\n",
    "                try:\n",
    "                    shutil.copytree(subfolder_path, destination_scan_folder)\n",
    "                    print(f\"Copied scan folder to {destination_scan_folder}\")\n",
    "                except FileExistsError:\n",
    "                    print(f\"Scan folder {destination_scan_folder} already exists.\")\n",
    "                except Exception as e:\n",
    "                    print(f\"Failed to copy scan folder: {e}\")"
   ]
  },
  {
   "cell_type": "markdown",
   "metadata": {},
   "source": [
    "## Convert to NIFTI"
   ]
  },
  {
   "cell_type": "markdown",
   "metadata": {},
   "source": [
    "### converts DICOM scans to nifti"
   ]
  },
  {
   "cell_type": "code",
   "execution_count": null,
   "metadata": {},
   "outputs": [],
   "source": [
    "scans_path = \"L:/Basic/divi/jstoker/slicer_pdac/Master Students WS 24/Martijn/data/Pre-training/dataset/scans\"\n",
    "segm_path = \"L:/Basic/divi/jstoker/slicer_pdac/Master Students WS 24/Martijn/data/Pre-training/dataset/segmentations\"\n",
    "\n",
    "nifti_scan_path = \"L:/Basic/divi/jstoker/slicer_pdac/Master Students WS 24/Martijn/data/Pre-training/dataset/nifti_scans\"\n",
    "nifti_segm_path = \"L:/Basic/divi/jstoker/slicer_pdac/Master Students WS 24/Martijn/data/Pre-training/dataset/nifti_segmentations\"\n",
    "\n",
    "#convert scans\n",
    "for scan in os.listdir(scans_path):\n",
    "    dicom_directory = os.path.join(scans_path, scan)\n",
    "    output_file = os.path.join(nifti_scan_path, scan + \".nii.gz\")\n",
    "    dicom2nifti.convert_directory(dicom_directory, os.path.dirname(output_file))\n",
    "    print(f\"Converted {scan} to nifti\")\n",
    "\n"
   ]
  },
  {
   "cell_type": "markdown",
   "metadata": {},
   "source": [
    "### convert segmentations to nifti (not working yet)"
   ]
  },
  {
   "cell_type": "code",
   "execution_count": null,
   "metadata": {},
   "outputs": [],
   "source": [
    "import SimpleITK as sitk\n",
    "\n",
    "scans_path = \"L:/Basic/divi/jstoker/slicer_pdac/Master Students WS 24/Martijn/data/Pre-training/dataset/scans\"\n",
    "segm_path = \"L:/Basic/divi/jstoker/slicer_pdac/Master Students WS 24/Martijn/data/Pre-training/dataset/segmentations\"\n",
    "\n",
    "nifti_scan_path = \"L:/Basic/divi/jstoker/slicer_pdac/Master Students WS 24/Martijn/data/Pre-training/dataset/nifti_scans\"\n",
    "nifti_segm_path = \"L:/Basic/divi/jstoker/slicer_pdac/Master Students WS 24/Martijn/data/Pre-training/dataset/nifti_segmentations\"\n",
    "\n",
    "for segmentation in os.listdir(segm_path):   \n",
    "    # Load the DICOM series\n",
    "    reader = sitk.ImageSeriesReader()\n",
    "    dicom_names = reader.GetGDCMSeriesFileNames(os.path.join(segm_path, scan))\n",
    "    reader.SetFileNames(dicom_names)\n",
    "\n",
    "    # Read and convert to NIfTI\n",
    "    image = reader.Execute()\n",
    "    sitk.WriteImage(image, os.path.join(nifti_segm_path, segmentation + \".nii.gz\"))\n",
    "    print(f\"Converted {segmentation} to nifti\")\n",
    "    break"
   ]
  },
  {
   "cell_type": "code",
   "execution_count": 18,
   "metadata": {},
   "outputs": [
    {
     "name": "stdout",
     "output_type": "stream",
     "text": [
      "Conversion successful: L:/Basic/divi/jstoker/slicer_pdac/Master Students WS 24/Martijn/data/Pre-training/dataset/nifti_segmentations\\CRLM-CT-1001_segmentation.nii.gz\n"
     ]
    }
   ],
   "source": [
    "import pydicom\n",
    "import highdicom as hd\n",
    "import numpy as np\n",
    "import nibabel as nib\n",
    "import SimpleITK as sitk\n",
    "\n",
    "scans_path = \"L:/Basic/divi/jstoker/slicer_pdac/Master Students WS 24/Martijn/data/Pre-training/dataset/scans\"\n",
    "segm_path = \"L:/Basic/divi/jstoker/slicer_pdac/Master Students WS 24/Martijn/data/Pre-training/dataset/segmentations\"\n",
    "\n",
    "nifti_scan_path = \"L:/Basic/divi/jstoker/slicer_pdac/Master Students WS 24/Martijn/data/Pre-training/dataset/nifti_scans\"\n",
    "nifti_segm_path = \"L:/Basic/divi/jstoker/slicer_pdac/Master Students WS 24/Martijn/data/Pre-training/dataset/nifti_segmentations\"\n",
    "\n",
    "for segm in os.listdir(segm_path):\n",
    "    # Read the single DICOM file\n",
    "    dicom_file = os.path.join(segm_path, segm + \"/1-1.dcm\")\n",
    "    image = sitk.ReadImage(dicom_file)\n",
    "\n",
    "    # Save as NIfTI\n",
    "    nifti_file = os.path.join(nifti_segm_path, segm + \".nii.gz\")\n",
    "    sitk.WriteImage(image, nifti_file)\n",
    "\n",
    "    print(f\"Conversion successful: {nifti_file}\")\n",
    "    break"
   ]
  }
 ],
 "metadata": {
  "kernelspec": {
   "display_name": "Python 3",
   "language": "python",
   "name": "python3"
  },
  "language_info": {
   "codemirror_mode": {
    "name": "ipython",
    "version": 3
   },
   "file_extension": ".py",
   "mimetype": "text/x-python",
   "name": "python",
   "nbconvert_exporter": "python",
   "pygments_lexer": "ipython3",
   "version": "3.11.0"
  }
 },
 "nbformat": 4,
 "nbformat_minor": 2
}
