{
 "cells": [
  {
   "cell_type": "markdown",
   "metadata": {},
   "source": [
    "# CAIRO5 data preparation"
   ]
  },
  {
   "cell_type": "code",
   "execution_count": null,
   "metadata": {},
   "outputs": [],
   "source": [
    "#imports\n",
    "import nibabel as nib\n",
    "import os\n",
    "import numpy as np\n",
    "import matplotlib.pyplot as plt\n",
    "import math\n",
    "import monai\n",
    "from monai.transforms import Resize\n",
    "import shutil\n",
    "\n",
    "# Set numpy print options to avoid truncation\n",
    "#np.set_printoptions(threshold=np.inf)"
   ]
  },
  {
   "cell_type": "markdown",
   "metadata": {},
   "source": [
    "## Testing"
   ]
  },
  {
   "cell_type": "code",
   "execution_count": null,
   "metadata": {},
   "outputs": [
    {
     "name": "stdout",
     "output_type": "stream",
     "text": [
      "[162 119   3] [459 349  52]\n"
     ]
    }
   ],
   "source": [
    "#use first image as example\n",
    "\n",
    "#12 and 13 are liver\n",
    "\n",
    "scans_path = \"L:/Basic/divi/jstoker/slicer_pdac/Master Students WS 24/Martijn/data/last_scans\"\n",
    "segmentations_path = \"L:/Basic/divi/jstoker/slicer_pdac/Master Students WS 24/Martijn/data/last_segmentations\"\n",
    "\n",
    "#load first image and segmentation\n",
    "image = nib.load(os.path.join(scans_path, \"CAESAR001_1_0000.nii.gz\"))\n",
    "segmentation = nib.load(os.path.join(segmentations_path, \"CAESAR001_1.nii.gz\"))\n",
    "\n",
    "image_data = image.get_fdata()\n",
    "segmentation_data = segmentation.get_fdata()\n",
    "\n",
    "liver_mask = (segmentation_data == 12) | (segmentation_data == 13)\n",
    "\n",
    "#apply mask to image\n",
    "liver_image = np.copy(image_data)\n",
    "liver_image[~liver_mask] = 0\n",
    "\n",
    "# Find the indices of the liver mask\n",
    "mask_indices = np.argwhere(liver_mask)\n",
    "\n",
    "# Calculate the bounding box\n",
    "min_indices = mask_indices.min(axis=0)\n",
    "max_indices = mask_indices.max(axis=0)\n",
    "\n",
    "print(min_indices, max_indices)\n",
    "\n",
    "# Crop the liver image using the bounding box\n",
    "cropped_liver_image = liver_image[min_indices[0]:max_indices[0]+1, min_indices[1]:max_indices[1]+1, min_indices[2]:max_indices[2]+1]\n",
    "\n",
    "\n",
    "\n",
    "# # Create a new NIfTI image\n",
    "new_image = nib.Nifti1Image(cropped_liver_image, affine=image.affine, header=image.header)\n",
    "\n",
    "# # Save the new NIfTI image to a file\n",
    "#output_path = \"L:/Basic/divi/jstoker/slicer_pdac/Master Students WS 24/Martijn/data/boundingbox_liver_scans/test_liver_image.nii.gz\"\n",
    "nib.save(new_image, output_path)\n"
   ]
  },
  {
   "cell_type": "markdown",
   "metadata": {},
   "source": [
    "### Define all useful paths"
   ]
  },
  {
   "cell_type": "code",
   "execution_count": 2,
   "metadata": {},
   "outputs": [],
   "source": [
    "# all paths \n",
    "all_scans_path = \"L:/Basic/divi/jstoker/slicer_pdac/Master Students WS 24/Martijn/data/Training/all_scans\"\n",
    "all_segmentations_path = \"L:/Basic/divi/jstoker/slicer_pdac/Master Students WS 24/Martijn/data/Training/all_segmentations\"\n",
    "\n",
    "segmented_scans_path = \"L:/Basic/divi/jstoker/slicer_pdac/Master Students WS 24/Martijn/data/Training/segmented_scans\"\n",
    "paired_scans_path = \"L:/Basic/divi/jstoker/slicer_pdac/Master Students WS 24/Martijn/data/Training/paired_scans\"\n",
    "\n",
    "resized_scans_path = \"L:/Basic/divi/jstoker/slicer_pdac/Master Students WS 24/Martijn/data/Training/resized_scans\""
   ]
  },
  {
   "cell_type": "markdown",
   "metadata": {},
   "source": [
    "## Delete 2 scans with missing segmentations  "
   ]
  },
  {
   "cell_type": "code",
   "execution_count": 9,
   "metadata": {},
   "outputs": [
    {
     "name": "stdout",
     "output_type": "stream",
     "text": [
      "Scans without segmentations: ['CAESAR269_2_0000.nii.gz', 'CAESAR581_1_0000.nii.gz']\n"
     ]
    }
   ],
   "source": [
    "\"\"\"\n",
    "Checks which scans do not have corresponding segmentations\n",
    "\"\"\"\n",
    "\n",
    "# Initialize a list to store scans without segmentations\n",
    "scans_without_segmentation = []\n",
    "\n",
    "# Iterate through all scans\n",
    "for scan in os.listdir(all_scans_path):\n",
    "    name = (scan.split(\".\")[0])[0:-5]\n",
    "    has_segmentation = False\n",
    "\n",
    "    # Check if a corresponding segmentation exists\n",
    "    for segm in os.listdir(all_segmentations_path):\n",
    "        if name in segm:\n",
    "            has_segmentation = True\n",
    "            break\n",
    "\n",
    "    # If no segmentation is found, add the scan to the list\n",
    "    if not has_segmentation:\n",
    "        scans_without_segmentation.append(scan)\n",
    "\n",
    "# Print the scans without segmentations\n",
    "print(\"Scans without segmentations:\", scans_without_segmentation)"
   ]
  },
  {
   "cell_type": "markdown",
   "metadata": {},
   "source": [
    "The above scans are removed from the folder \"all_scans\""
   ]
  },
  {
   "cell_type": "markdown",
   "metadata": {},
   "source": [
    "## Segment liver and apply bounding box"
   ]
  },
  {
   "cell_type": "code",
   "execution_count": null,
   "metadata": {},
   "outputs": [],
   "source": [
    "\"\"\"\n",
    "Segments the liver and applies a bounding box \n",
    "\"\"\"\n",
    "\n",
    "\n",
    "for scan in os.listdir(all_scans_path):\n",
    "    print(f\"currently processing: {scan}\")\n",
    "    \n",
    "    #load image and corresponding segmentation\n",
    "    image = nib.load(os.path.join(all_scans_path, scan))\n",
    "\n",
    "    segm_filename = scan.replace(\"_0000\", \"\")\n",
    "    segmentation = nib.load(os.path.join(all_segmentations_path, segm_filename))\n",
    "\n",
    "    image_data = image.get_fdata()\n",
    "    segmentation_data = segmentation.get_fdata()\n",
    "\n",
    "    liver_mask = (segmentation_data == 12) | (segmentation_data == 13)\n",
    "\n",
    "    #apply mask to image\n",
    "    liver_image = np.copy(image_data)\n",
    "    liver_image[~liver_mask] = 0\n",
    "\n",
    "    # Find the indices of the liver mask\n",
    "    mask_indices = np.argwhere(liver_mask)\n",
    "\n",
    "    # Calculate the bounding box\n",
    "    min_indices = mask_indices.min(axis=0)\n",
    "    max_indices = mask_indices.max(axis=0)\n",
    "\n",
    "    # Crop the liver image using the bounding box\n",
    "    cropped_liver_image = liver_image[min_indices[0]:max_indices[0]+1, min_indices[1]:max_indices[1]+1, min_indices[2]:max_indices[2]+1]\n",
    "\n",
    "    # Create a new NIfTI image\n",
    "    new_image = nib.Nifti1Image(cropped_liver_image, affine=image.affine, header=image.header)\n",
    "\n",
    "    # Save the new NIfTI image to a file with the original name\n",
    "    new_filename = (scan.split(\".\")[0])[0:-5] + \".nii.gz\"\n",
    "    output_file_path = os.path.join(segmented_scans_path, new_filename)\n",
    "    nib.save(new_image, output_file_path)\n"
   ]
  },
  {
   "cell_type": "markdown",
   "metadata": {},
   "source": [
    "## Subset 0 & 1 scans"
   ]
  },
  {
   "cell_type": "code",
   "execution_count": null,
   "metadata": {},
   "outputs": [
    {
     "name": "stdout",
     "output_type": "stream",
     "text": [
      "{'CAESAR082': {'1', '0'}, 'CAESAR215': {'1', '0'}, 'CAESAR386': {'1', '0'}, 'CAESAR326': {'1', '0'}, 'CAESAR102': {'1', '0', '2'}, 'CAESAR011': {'1', '0', '2'}, 'CAESAR324': {'0', '2'}, 'CAESAR381': {'1', '0'}, 'CAESAR191': {'1', '0'}, 'CAESAR449': {'1', '0'}, 'CAESAR284': {'1', '0'}, 'CAESAR454': {'1', '0'}, 'CAESAR185': {'1', '0', '2'}, 'CAESAR118': {'1', '0', '2'}, 'CAESAR367': {'1'}, 'CAESAR108': {'0'}, 'CAESAR032': {'1', '0'}, 'CAESAR029': {'1', '0'}, 'CAESAR075': {'1', '0', '2'}, 'CAESAR229': {'1', '0'}, 'CAESAR208': {'1', '0', '2'}, 'CAESAR047': {'1', '0', '2'}, 'CAESAR318': {'1', '0', '2'}, 'CAESAR157': {'1', '0', '2'}, 'CAESAR057': {'1', '0'}, 'CAESAR269': {'1', '0'}, 'CAESAR477': {'1', '0'}, 'CAESAR112': {'1', '0'}, 'CAESAR334': {'1', '0'}, 'CAESAR404': {'1', '0'}, 'CAESAR406': {'1', '0'}, 'CAESAR475': {'1', '0'}, 'CAESAR524': {'1', '0'}, 'CAESAR195': {'1', '0'}, 'CAESAR066': {'1', '0'}, 'CAESAR339': {'1', '0'}, 'CAESAR507': {'1', '0'}, 'CAESAR296': {'1', '0'}, 'CAESAR378': {'1', '0'}, 'CAESAR196': {'0'}, 'CAESAR291': {'0', '2'}, 'CAESAR481': {'1', '0'}, 'CAESAR017': {'1', '0'}, 'CAESAR186': {'1', '0', '2'}, 'CAESAR425': {'1', '0'}, 'CAESAR152': {'1', '0', '2'}, 'CAESAR537': {'1', '0', '2'}, 'CAESAR126': {'1', '0'}, 'CAESAR176': {'1', '0'}, 'CAESAR547': {'1', '0'}, 'CAESAR207': {'1', '0'}, 'CAESAR129': {'1', '0'}, 'CAESAR132': {'1', '0'}, 'CAESAR319': {'1', '0'}, 'CAESAR358': {'1', '0', '2'}, 'CAESAR341': {'1', '0', '2'}, 'CAESAR498': {'1', '0', '2'}, 'CAESAR330': {'1', '0'}, 'CAESAR421': {'1', '0', '2'}, 'CAESAR461': {'1', '0', '2'}, 'CAESAR466': {'1', '0'}, 'CAESAR180': {'1', '0'}, 'CAESAR105': {'1', '0'}, 'CAESAR212': {'1', '0'}, 'CAESAR453': {'1', '0'}, 'CAESAR299': {'1', '0'}, 'CAESAR457': {'1', '0', '2'}, 'CAESAR570': {'1', '0'}, 'CAESAR135': {'1', '0'}, 'CAESAR134': {'1', '0'}, 'CAESAR004': {'1', '0'}, 'CAESAR173': {'1', '0'}, 'CAESAR037': {'1', '0'}, 'CAESAR022': {'1', '0', '2'}, 'CAESAR038': {'1', '0'}, 'CAESAR447': {'1', '0', '2'}, 'CAESAR030': {'1', '0'}, 'CAESAR423': {'1', '0', '2'}, 'CAESAR310': {'2'}, 'CAESAR442': {'1', '0'}, 'CAESAR267': {'1', '0', '2'}, 'CAESAR074': {'1', '0'}, 'CAESAR140': {'1', '0'}, 'CAESAR422': {'1', '0'}, 'CAESAR021': {'1', '0'}, 'CAESAR177': {'1', '0'}, 'CAESAR400': {'1', '0'}, 'CAESAR259': {'0'}, 'CAESAR540': {'1', '0'}, 'CAESAR583': {'1', '0'}, 'CAESAR297': {'1', '0', '2'}, 'CAESAR306': {'1', '0', '2'}, 'CAESAR072': {'1', '0'}, 'CAESAR027': {'1', '0'}, 'CAESAR580': {'1', '0'}, 'CAESAR569': {'1', '0'}, 'CAESAR111': {'1', '0', '2'}, 'CAESAR451': {'1', '0'}, 'CAESAR504': {'1', '0'}, 'CAESAR028': {'1', '0'}, 'CAESAR142': {'1', '0'}, 'CAESAR394': {'1', '0', '2'}, 'CAESAR323': {'1', '0'}, 'CAESAR226': {'1', '0', '2'}, 'CAESAR175': {'1', '0'}, 'CAESAR183': {'1', '0'}, 'CAESAR204': {'1', '0'}, 'CAESAR308': {'1', '0', '2'}, 'CAESAR433': {'1', '0'}, 'CAESAR304': {'1', '0'}, 'CAESAR210': {'1', '0'}, 'CAESAR300': {'1', '0', '2'}, 'CAESAR370': {'1', '0', '2'}, 'CAESAR247': {'1', '0', '2'}, 'CAESAR123': {'1', '0'}, 'CAESAR402': {'1', '0'}, 'CAESAR139': {'1', '0'}, 'CAESAR309': {'1', '0'}, 'CAESAR151': {'1', '0'}, 'CAESAR313': {'1', '0', '2'}, 'CAESAR218': {'1', '0', '2'}, 'CAESAR565': {'1'}, 'CAESAR113': {'1', '0'}, 'CAESAR166': {'1', '0', '2'}, 'CAESAR007': {'1', '0'}, 'CAESAR133': {'1', '0', '2'}, 'CAESAR062': {'1', '0'}, 'CAESAR487': {'0'}, 'CAESAR463': {'1', '0', '2'}, 'CAESAR560': {'1', '0'}, 'CAESAR043': {'1', '0'}, 'CAESAR165': {'1', '0', '2'}, 'CAESAR529': {'1', '0'}, 'CAESAR036': {'1', '0'}, 'CAESAR086': {'1', '0'}, 'CAESAR443': {'1', '0'}, 'CAESAR053': {'1', '0'}, 'CAESAR198': {'1', '0'}, 'CAESAR271': {'1', '0', '2'}, 'CAESAR385': {'1', '0'}, 'CAESAR104': {'1', '0'}, 'CAESAR137': {'1', '0'}, 'CAESAR079': {'1', '0'}, 'CAESAR315': {'1', '0'}, 'CAESAR362': {'1', '0', '2'}, 'CAESAR237': {'1', '0'}, 'CAESAR178': {'1', '0', '2'}, 'CAESAR353': {'1', '0', '2'}, 'CAESAR335': {'1', '0'}, 'CAESAR348': {'1', '0', '2'}, 'CAESAR575': {'1', '0'}, 'CAESAR026': {'1', '0'}, 'CAESAR209': {'1', '0', '2'}, 'CAESAR410': {'1', '0'}, 'CAESAR232': {'1', '0', '2'}, 'CAESAR438': {'1', '0'}, 'CAESAR455': {'1', '0'}, 'CAESAR154': {'1', '0', '2'}, 'CAESAR352': {'1', '0'}, 'CAESAR559': {'1', '0'}, 'CAESAR242': {'1', '0', '2'}, 'CAESAR241': {'1', '0'}, 'CAESAR444': {'1', '0'}, 'CAESAR356': {'0'}, 'CAESAR584': {'1', '0', '2'}, 'CAESAR211': {'1', '0', '2'}, 'CAESAR388': {'0'}, 'CAESAR168': {'1', '0'}, 'CAESAR130': {'1', '0'}, 'CAESAR430': {'1', '0'}, 'CAESAR122': {'1', '0', '2'}, 'CAESAR473': {'1', '0', '2'}, 'CAESAR045': {'1', '0'}, 'CAESAR412': {'1', '0'}, 'CAESAR128': {'1', '0'}, 'CAESAR189': {'1', '0'}, 'CAESAR205': {'1', '0'}, 'CAESAR236': {'1', '0', '2'}, 'CAESAR098': {'1', '0'}, 'CAESAR078': {'1', '0', '2'}, 'CAESAR167': {'1', '0'}, 'CAESAR018': {'1', '0', '2'}, 'CAESAR562': {'1', '0', '2'}, 'CAESAR417': {'1', '0'}, 'CAESAR434': {'1', '0'}, 'CAESAR065': {'1', '0', '2'}, 'CAESAR013': {'1', '0', '2'}, 'CAESAR213': {'1', '0'}, 'CAESAR327': {'1', '0'}, 'CAESAR426': {'1', '0', '2'}, 'CAESAR322': {'1', '0'}, 'CAESAR096': {'0'}, 'CAESAR224': {'1', '0'}, 'CAESAR571': {'1'}, 'CAESAR063': {'1', '0'}, 'CAESAR076': {'1', '0'}, 'CAESAR131': {'1', '0', '2'}, 'CAESAR136': {'1', '0'}, 'CAESAR121': {'1', '0'}, 'CAESAR500': {'1', '0'}, 'CAESAR083': {'1', '0', '2'}, 'CAESAR486': {'1', '0'}, 'CAESAR159': {'1', '0'}, 'CAESAR216': {'0'}, 'CAESAR472': {'1', '0'}, 'CAESAR415': {'1', '0'}, 'CAESAR084': {'1', '0'}, 'CAESAR054': {'1', '0'}, 'CAESAR092': {'1', '0'}, 'CAESAR107': {'1', '0', '2'}, 'CAESAR303': {'1', '0'}, 'CAESAR516': {'1', '0'}, 'CAESAR144': {'1', '0'}, 'CAESAR295': {'1', '0'}, 'CAESAR041': {'1', '0'}, 'CAESAR528': {'1', '2'}, 'CAESAR375': {'1', '0'}, 'CAESAR200': {'1', '0', '2'}, 'CAESAR336': {'1', '0'}, 'CAESAR366': {'1', '0'}, 'CAESAR538': {'1', '0', '2'}, 'CAESAR049': {'1', '0'}, 'CAESAR014': {'1', '0'}, 'CAESAR298': {'1', '0'}, 'CAESAR484': {'1', '0'}, 'CAESAR512': {'1', '0', '2'}, 'CAESAR490': {'1', '0'}, 'CAESAR409': {'1', '0'}, 'CAESAR162': {'1'}, 'CAESAR141': {'1', '0'}, 'CAESAR197': {'1', '0'}, 'CAESAR033': {'1', '0', '2'}, 'CAESAR077': {'1', '0', '2'}, 'CAESAR127': {'1', '0'}, 'CAESAR440': {'1', '0'}, 'CAESAR502': {'1', '0', '2'}, 'CAESAR373': {'0'}, 'CAESAR202': {'1', '0'}, 'CAESAR548': {'1', '0'}, 'CAESAR407': {'1', '0'}, 'CAESAR051': {'1', '0'}, 'CAESAR087': {'1', '0', '2'}, 'CAESAR372': {'1', '0', '2'}, 'CAESAR255': {'1', '0', '2'}, 'CAESAR311': {'1', '0'}, 'CAESAR188': {'1', '0'}, 'CAESAR052': {'1', '0'}, 'CAESAR264': {'1', '0'}, 'CAESAR332': {'1', '0'}, 'CAESAR088': {'1', '0'}, 'CAESAR101': {'1', '0'}, 'CAESAR001': {'1', '0'}, 'CAESAR257': {'1', '0', '2'}, 'CAESAR266': {'1', '0'}, 'CAESAR058': {'1', '0'}, 'CAESAR182': {'1', '0'}, 'CAESAR418': {'1', '0'}, 'CAESAR010': {'1', '0'}, 'CAESAR125': {'1', '0'}, 'CAESAR357': {'1', '0'}, 'CAESAR093': {'1', '0'}, 'CAESAR148': {'1', '0'}, 'CAESAR344': {'1', '0', '2'}, 'CAESAR230': {'1', '0'}, 'CAESAR342': {'1', '0'}, 'CAESAR048': {'1', '0'}, 'CAESAR349': {'2'}, 'CAESAR161': {'1', '0'}, 'CAESAR435': {'1', '0', '2'}, 'CAESAR067': {'1', '0'}, 'CAESAR354': {'1', '0'}, 'CAESAR420': {'1', '0'}, 'CAESAR169': {'1', '0'}, 'CAESAR055': {'1', '0'}, 'CAESAR089': {'1', '0'}, 'CAESAR220': {'1', '0'}, 'CAESAR456': {'1', '0'}, 'CAESAR293': {'1', '0'}, 'CAESAR513': {'1', '0'}, 'CAESAR235': {'0', '2'}, 'CAESAR277': {'0'}, 'CAESAR515': {'1', '0'}, 'CAESAR070': {'0', '2'}, 'CAESAR068': {'1', '0'}, 'CAESAR325': {'1', '0', '2'}, 'CAESAR221': {'1', '0'}, 'CAESAR494': {'1', '0'}, 'CAESAR579': {'1'}, 'CAESAR124': {'1', '0'}, 'CAESAR533': {'1', '0'}, 'CAESAR192': {'1', '0'}, 'CAESAR253': {'1', '0', '2'}, 'CAESAR550': {'1', '0'}, 'CAESAR392': {'1', '0'}, 'CAESAR194': {'1', '0', '2'}, 'CAESAR446': {'1', '0'}, 'CAESAR566': {'1'}, 'CAESAR338': {'1', '0'}, 'CAESAR174': {'1', '0'}, 'CAESAR564': {'1', '0'}, 'CAESAR347': {'1', '0'}, 'CAESAR034': {'1', '0'}, 'CAESAR097': {'1', '0'}, 'CAESAR116': {'1', '0'}, 'CAESAR535': {'1', '0'}, 'CAESAR012': {'1', '0'}, 'CAESAR046': {'1', '0'}, 'CAESAR384': {'0', '2'}, 'CAESAR138': {'1', '0'}, 'CAESAR544': {'1'}, 'CAESAR419': {'1', '0'}, 'CAESAR015': {'1', '0'}, 'CAESAR391': {'1', '0'}, 'CAESAR458': {'0'}, 'CAESAR556': {'1'}, 'CAESAR256': {'1', '0'}, 'CAESAR061': {'1'}, 'CAESAR340': {'1', '0'}, 'CAESAR471': {'0'}, 'CAESAR522': {'1', '0'}, 'CAESAR100': {'0'}, 'CAESAR359': {'1', '0'}, 'CAESAR153': {'1'}, 'CAESAR521': {'0'}, 'CAESAR110': {'1', '0'}, 'CAESAR223': {'1'}, 'CAESAR287': {'1', '0'}, 'CAESAR511': {'1', '0'}, 'CAESAR390': {'1'}, 'CAESAR383': {'1', '0'}, 'CAESAR489': {'1', '0'}, 'CAESAR085': {'1'}, 'CAESAR286': {'0', '2'}, 'CAESAR411': {'1'}, 'CAESAR371': {'0'}, 'CAESAR376': {'1', '0'}, 'CAESAR429': {'1'}, 'CAESAR545': {'1', '0'}, 'CAESAR285': {'0'}, 'CAESAR368': {'1', '0'}, 'CAESAR044': {'1', '0'}, 'CAESAR245': {'1', '0'}, 'CAESAR158': {'1', '0'}, 'CAESAR073': {'0'}, 'CAESAR519': {'1', '0'}, 'CAESAR413': {'1', '0'}, 'CAESAR095': {'1', '0'}, 'CAESAR530': {'1', '0'}, 'CAESAR479': {'0'}, 'CAESAR506': {'1', '0'}, 'CAESAR117': {'1', '0'}, 'CAESAR501': {'1'}, 'CAESAR143': {'1', '0'}, 'CAESAR534': {'1'}, 'CAESAR360': {'1'}, 'CAESAR448': {'1', '0'}, 'CAESAR156': {'0'}, 'CAESAR171': {'0'}, 'CAESAR351': {'2'}, 'CAESAR050': {'1', '0'}, 'CAESAR225': {'1'}}\n"
     ]
    }
   ],
   "source": [
    "\"\"\"\n",
    "copies scans of patients that have both 0 and 1 scans\n",
    "\"\"\"\n",
    "\n",
    "# Create a dictionary to track patient scans\n",
    "patient_scans = {}\n",
    "\n",
    "# Iterate through all scans\n",
    "for scan in os.listdir(segmented_scans_path):\n",
    "    # Extract the patient ID and scan type (0 or 1)\n",
    "\n",
    "    patient_id, scan_type = scan.split(\"_\")[0], scan[0:-7].split(\"_\")[1]\n",
    "\n",
    "    # Add the scan type to the patient's record\n",
    "    if patient_id not in patient_scans:\n",
    "        patient_scans[patient_id] = set()\n",
    "    patient_scans[patient_id].add(scan_type)\n",
    "\n",
    "# Move scans of patients that have both 0 and 1 scans\n",
    "for patient_id, scan_types in patient_scans.items():\n",
    "    if \"0\" in scan_types and \"1\" in scan_types:\n",
    "        first_scan = f\"{patient_id}_0.nii.gz\"\n",
    "        second_scan = f\"{patient_id}_1.nii.gz\"\n",
    "        shutil.copy(os.path.join(segmented_scans_path, first_scan), os.path.join(paired_scans_path, first_scan))\n",
    "        shutil.copy(os.path.join(segmented_scans_path, second_scan), os.path.join(paired_scans_path, second_scan))"
   ]
  },
  {
   "cell_type": "markdown",
   "metadata": {},
   "source": [
    "## Resize scans"
   ]
  },
  {
   "cell_type": "code",
   "execution_count": null,
   "metadata": {},
   "outputs": [
    {
     "name": "stdout",
     "output_type": "stream",
     "text": [
      "Resizing: CAESAR082_0.nii.gz\n",
      "Original shape: (309, 225, 87)\n",
      "Added channel dimension: (1, 309, 225, 87)\n",
      "Resized shape (with channel): torch.Size([1, 300, 300, 100])\n",
      "Resized shape (without channel): torch.Size([300, 300, 100])\n"
     ]
    }
   ],
   "source": [
    "\n",
    "\n",
    "\n",
    "# Define the desired size\n",
    "#(depth, height, width)\n",
    "desired_size = (300, 300, 100)\n",
    "\n",
    "# Initialize the Monai Resize transform\n",
    "resize_transform = Resize(spatial_size=desired_size, mode=\"linear\")\n",
    "\n",
    "# Iterate through all scans in the paired scans folder\n",
    "for scan in os.listdir(paired_scans_path):\n",
    "    print(f\"Resizing: {scan}\")\n",
    "    \n",
    "    # Load the scan\n",
    "    image = nib.load(os.path.join(paired_scans_path, scan))\n",
    "    image_data = image.get_fdata()\n",
    "\n",
    "    # Add a channel dimension if missing\n",
    "    if len(image_data.shape) == 3:  # Shape is [H, W, D]\n",
    "        image_data = image_data[None, ...]  # Add a channel dimension: [1, H, W, D]\n",
    "    \n",
    "    # Apply the resize transform\n",
    "    resized_image_data = resize_transform(image_data)\n",
    "    \n",
    "    # Remove the channel dimension after resizing\n",
    "    resized_image_data = resized_image_data[0]  # Remove channel dimension: [H, W, D]\n",
    "\n",
    "    # Create a new NIfTI image\n",
    "    resized_image = nib.Nifti1Image(resized_image_data, affine=image.affine, header=image.header)\n",
    "    resized_image_path = os.path.join(resized_scans_path, scan)\n",
    "\n",
    "    # Save the resized image\n",
    "    nib.save(resized_image, resized_image_path)"
   ]
  },
  {
   "cell_type": "markdown",
   "metadata": {},
   "source": [
    "### Distribution of number of slices"
   ]
  },
  {
   "cell_type": "code",
   "execution_count": null,
   "metadata": {},
   "outputs": [
    {
     "name": "stdout",
     "output_type": "stream",
     "text": [
      "328\n",
      "376\n"
     ]
    }
   ],
   "source": [
    "#distribution of slices\n",
    "scans_path = \"L:/Basic/divi/jstoker/slicer_pdac/Master Students WS 24/Martijn/data/last_scans\"\n",
    "\n",
    "max_slices = 0\n",
    "\n",
    "number_of_slices = []\n",
    "for scan in os.listdir(scans_path):\n",
    "    image = nib.load(os.path.join(scans_path, scan))\n",
    "    image_shape = image.header.get_data_shape()\n",
    "    max_slices = max(max_slices, image_shape[2])    \n",
    "    if image_shape[2] < 150:\n",
    "        number_of_slices.append(image_shape[2])\n",
    "\n",
    "print(f\"Max number of slices {max_slices}\")\n",
    "plt.hist(number_of_slices)\n",
    "plt.show() "
   ]
  },
  {
   "cell_type": "markdown",
   "metadata": {},
   "source": [
    "### Create segmentation and bounding box"
   ]
  },
  {
   "cell_type": "code",
   "execution_count": null,
   "metadata": {},
   "outputs": [],
   "source": [
    "\"\"\"\n",
    "Segments the liver and apply bounding box \n",
    "\"\"\"\n",
    "\n",
    "scans_path = \"L:/Basic/divi/jstoker/slicer_pdac/Master Students WS 24/Martijn/data/last_scans\"\n",
    "segmentations_path = \"L:/Basic/divi/jstoker/slicer_pdac/Master Students WS 24/Martijn/data/last_segmentations\"\n",
    "output_path = \"L:/Basic/divi/jstoker/slicer_pdac/Master Students WS 24/Martijn/data/boundingbox_liver_scans\"\n",
    "\n",
    "max_dimensions = [0, 0, 0]\n",
    "\n",
    "for scan in os.listdir(scans_path):\n",
    "    print(scan)\n",
    "    \n",
    "    #load image and corresponding segmentation\n",
    "    image = nib.load(os.path.join(scans_path, scan))\n",
    "\n",
    "    segm_filename = scan.replace(\"_0000\", \"\")\n",
    "    segmentation = nib.load(os.path.join(segmentations_path, segm_filename))\n",
    "\n",
    "    image_data = image.get_fdata()\n",
    "    segmentation_data = segmentation.get_fdata()\n",
    "\n",
    "    liver_mask = (segmentation_data == 12) | (segmentation_data == 13)\n",
    "\n",
    "    #apply mask to image\n",
    "    liver_image = np.copy(image_data)\n",
    "    liver_image[~liver_mask] = 0\n",
    "\n",
    "    # Find the indices of the liver mask\n",
    "    mask_indices = np.argwhere(liver_mask)\n",
    "\n",
    "    # Calculate the bounding box\n",
    "    min_indices = mask_indices.min(axis=0)\n",
    "    max_indices = mask_indices.max(axis=0)\n",
    "\n",
    "    # Crop the liver image using the bounding box\n",
    "    cropped_liver_image = liver_image[min_indices[0]:max_indices[0]+1, min_indices[1]:max_indices[1]+1, min_indices[2]:max_indices[2]+1]\n",
    "    \n",
    "    # Update the maximum dimensions\n",
    "    max_dimensions = np.maximum(max_dimensions, cropped_liver_image.shape)\n",
    "\n",
    "    # Create a new NIfTI image\n",
    "    new_image = nib.Nifti1Image(cropped_liver_image, affine=image.affine, header=image.header)\n",
    "\n",
    "    # Save the new NIfTI image to a file with the original name\n",
    "    new_filename = scan.split(\".\")[0] + \"_cropped.nii.gz\"\n",
    "    output_file_path = os.path.join(output_path, new_filename)\n",
    "    nib.save(new_image, output_file_path)\n",
    "\n",
    "print(f\"max dimensions: {max_dimensions}\")"
   ]
  },
  {
   "cell_type": "markdown",
   "metadata": {},
   "source": [
    "### Distribution of dimension sizes"
   ]
  },
  {
   "cell_type": "code",
   "execution_count": null,
   "metadata": {},
   "outputs": [
    {
     "name": "stdout",
     "output_type": "stream",
     "text": [
      "366\n"
     ]
    }
   ],
   "source": [
    "\"\"\"\n",
    "Checks the shape of every scan and print the max number of slices\n",
    "\"\"\"\n",
    "scans_path = \"L:/Basic/divi/jstoker/slicer_pdac/Master Students WS 24/Martijn/data/boundingbox_liver_scans\"\n",
    "\n",
    "first_dim = []\n",
    "second_dim = []\n",
    "third_dim = []\n",
    "max_slices = 0\n",
    "\n",
    "for scan in os.listdir(scans_path):\n",
    "    image = nib.load(os.path.join(scans_path, scan))\n",
    "    image_data = image.get_fdata()\n",
    "    first_dim.append(image_data.shape[0])\n",
    "    second_dim.append(image_data.shape[1])\n",
    "    third_dim.append(image_data.shape[2])\n",
    "\n",
    "print(f\"Max number of slices: {max(third_dim)}\")\n"
   ]
  },
  {
   "cell_type": "code",
   "execution_count": 42,
   "metadata": {},
   "outputs": [
    {
     "data": {
      "image/png": "[encoded data removed]",
      "text/plain": [
       "<Figure size 640x480 with 1 Axes>"
      ]
     },
     "metadata": {},
     "output_type": "display_data"
    }
   ],
   "source": [
    "plt.hist(first_dim, color='red')\n",
    "plt.hist(second_dim, color='blue')\n",
    "plt.hist(third_dim, color='green')\n",
    "plt.show()"
   ]
  },
  {
   "cell_type": "markdown",
   "metadata": {},
   "source": [
    "## Sanity checks"
   ]
  },
  {
   "cell_type": "code",
   "execution_count": null,
   "metadata": {},
   "outputs": [
    {
     "name": "stdout",
     "output_type": "stream",
     "text": [
      "All images have the same size.\n"
     ]
    }
   ],
   "source": [
    "\"\"\"\n",
    "Check if all scans in a folder have the same size\n",
    "\"\"\"\n",
    "\n",
    "# Path to the folder containing padded and/or downsized liver segmentations\n",
    "path = \"L:/Basic/divi/jstoker/slicer_pdac/Master Students WS 24/Martijn/data/padded_liver_scans\"\n",
    "#path = \"L:/Basic/divi/jstoker/slicer_pdac/Master Students WS 24/Martijn/data/downsized_padded_liver_scans\"\n",
    "\n",
    "\n",
    "# Initialize a variable to store the shape of the first image\n",
    "reference_shape = None\n",
    "all_same_size = True\n",
    "\n",
    "# Iterate through all files in the folder\n",
    "for scan in os.listdir(path):\n",
    "    # Load the image\n",
    "    image = nib.load(os.path.join(padded_segm_path, scan))\n",
    "    image_data = image.get_fdata()\n",
    "    \n",
    "    # Get the shape of the current image\n",
    "    current_shape = image_data.shape\n",
    "    \n",
    "    # If reference_shape is None, set it to the shape of the first image\n",
    "    if reference_shape is None:\n",
    "        reference_shape = current_shape\n",
    "    else:\n",
    "        # Compare the shape of the current image with the reference shape\n",
    "        if current_shape != reference_shape:\n",
    "            all_same_size = False\n",
    "            print(f\"Image {scan} has a different size: {current_shape}\")\n",
    "            break\n",
    "\n",
    "if all_same_size:\n",
    "    print(\"All images have the same size.\")\n",
    "else:\n",
    "    print(\"Not all images have the same size.\")"
   ]
  },
  {
   "cell_type": "code",
   "execution_count": null,
   "metadata": {},
   "outputs": [],
   "source": [
    "#write check to see if 0&1 is correct"
   ]
  }
 ],
 "metadata": {
  "kernelspec": {
   "display_name": ".venv",
   "language": "python",
   "name": "python3"
  },
  "language_info": {
   "codemirror_mode": {
    "name": "ipython",
    "version": 3
   },
   "file_extension": ".py",
   "mimetype": "text/x-python",
   "name": "python",
   "nbconvert_exporter": "python",
   "pygments_lexer": "ipython3",
   "version": "3.10.0"
  }
 },
 "nbformat": 4,
 "nbformat_minor": 2
}
