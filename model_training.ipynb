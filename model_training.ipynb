{
 "cells": [
  {
   "cell_type": "code",
   "execution_count": 1,
   "metadata": {},
   "outputs": [],
   "source": [
    "#imports\n",
    "import os\n",
    "\n",
    "import torch\n",
    "import torch.nn as nn\n",
    "import numpy as np\n",
    "import pandas as pd\n",
    "\n",
    "from monai.transforms import (\n",
    "    EnsureChannelFirst,\n",
    "    Resize,\n",
    "    ScaleIntensity,\n",
    "    Compose\n",
    ")\n",
    "\n",
    "import glob\n",
    "import nibabel as nib\n",
    "from sklearn.model_selection import train_test_split\n",
    "from monai.data import Dataset\n"
   ]
  },
  {
   "cell_type": "markdown",
   "metadata": {},
   "source": [
    "# Training"
   ]
  },
  {
   "cell_type": "markdown",
   "metadata": {},
   "source": [
    "### Loading the data"
   ]
  },
  {
   "cell_type": "code",
   "execution_count": 2,
   "metadata": {},
   "outputs": [
    {
     "name": "stdout",
     "output_type": "stream",
     "text": [
      "cpu\n"
     ]
    }
   ],
   "source": [
    "\n",
    "device = torch.device(\"cuda\" if torch.cuda.is_available() else \"cpu\")\n",
    "print(device)"
   ]
  },
  {
   "cell_type": "code",
   "execution_count": 3,
   "metadata": {},
   "outputs": [],
   "source": [
    "data_dir = \"L:/Basic/divi/jstoker/slicer_pdac/Master Students WS 24/Martijn/data/Training/paired_scans\" #fill in training datapath\n",
    "clinical_data_dir = \"C:/Users/P095550/OneDrive - Amsterdam UMC/Documenten/GitHub/CRLM-morph-features\"\n",
    "nifti_images = sorted(glob.glob(os.path.join(data_dir, \"*.nii.gz\")))      "
   ]
  },
  {
   "cell_type": "code",
   "execution_count": 4,
   "metadata": {},
   "outputs": [],
   "source": [
    "class PairedMedicalDataset(Dataset):\n",
    "    def __init__(self, image_pairs, metadata, labels, transform=None):\n",
    "        self.image_pairs = image_pairs\n",
    "        self.metadata = metadata\n",
    "        self.labels = labels\n",
    "        self.transform = Compose(transform)\n",
    "    \n",
    "    def __len__(self):\n",
    "        return len(self.image_pairs)\n",
    "    \n",
    "    def __getitem__(self, idx):\n",
    "        img1_path, img2_path = self.image_pairs[idx]\n",
    "        \n",
    "        # Load images using nibabel (for NIfTI)\n",
    "        img1 = nib.load(img1_path).get_fdata()\n",
    "        img2 = nib.load(img2_path).get_fdata()\n",
    "\n",
    "        # Add channel dimension for CNN input (C, H, W, D)\n",
    "        img1 = np.expand_dims(img1, axis=0)\n",
    "        img2 = np.expand_dims(img2, axis=0)\n",
    "        \n",
    "        metadata = self.metadata[idx]\n",
    "        label = self.labels[idx]\n",
    "        \n",
    "        if self.transform:\n",
    "            img1 = self.transform(img1)\n",
    "            img2 = self.transform(img2)\n",
    "\n",
    "        # Convert to tensor\n",
    "        img1 = torch.tensor(img1, dtype=torch.float32)\n",
    "        img2 = torch.tensor(img2, dtype=torch.float32)\n",
    "        label = torch.tensor(label, dtype=torch.float32)\n",
    "        \n",
    "        return img1, img2, metadata, label"
   ]
  },
  {
   "cell_type": "code",
   "execution_count": 5,
   "metadata": {},
   "outputs": [],
   "source": [
    "# Create pairs (e.g., first and second file are paired)\n",
    "image_pairs = [(nifti_images[i], nifti_images[i + 1]) for i in range(0, len(nifti_images) - 1, 2)]\n",
    "\n",
    "pd_metadata = pd.read_csv(os.path.join(clinical_data_dir, \"training_input.csv\"))\n",
    "metadata = torch.tensor(pd_metadata.values.tolist())\n",
    "\n",
    "pd_labels = pd.read_csv(os.path.join(clinical_data_dir, \"training_labels.csv\"))\n",
    "labels = torch.tensor(pd_labels.values.tolist()) #Fill in correct path. response, PFS, and OS\n",
    "\n",
    "\n",
    "# Split the data into training and validation sets\n",
    "train_image_pairs, val_image_pairs, train_metadata, val_metadata, train_labels, val_labels = train_test_split(\n",
    "    image_pairs, metadata, labels, test_size=0.2, random_state=42  # 20% for validation\n",
    ")\n",
    "\n",
    "\n",
    "# Create training dataset\n",
    "train_dataset = PairedMedicalDataset(\n",
    "    train_image_pairs, train_metadata, train_labels, transform=[ScaleIntensity(), Resize((64, 256, 256))]\n",
    ")\n",
    "\n",
    "# Create validation dataset\n",
    "val_dataset = PairedMedicalDataset(\n",
    "    val_image_pairs, val_metadata, val_labels, transform=[ScaleIntensity(), Resize((64, 256, 256))]\n",
    ")\n",
    "\n",
    "# DataLoaders\n",
    "train_loader = torch.utils.data.DataLoader(train_dataset, batch_size=2, shuffle=False)\n",
    "val_loader = torch.utils.data.DataLoader(val_dataset, batch_size=2, shuffle=False)"
   ]
  },
  {
   "cell_type": "code",
   "execution_count": null,
   "metadata": {},
   "outputs": [],
   "source": [
    "# Display a few examples from the train_loader\n",
    "for i, (img1, img2, metadata, label) in enumerate(train_loader):\n",
    "    print(f\"Batch {i + 1}:\")\n",
    "    print(f\"Image 1 shape: {img1.shape}\")\n",
    "    print(f\"Image 2 shape: {img2.shape}\")\n",
    "    print(f\"Metadata: {metadata}\")\n",
    "    print(f\"Label: {label}\")\n",
    "    print(\"-\" * 50)\n",
    "    if i == 2:  # Display only the first 3 batches\n",
    "        break"
   ]
  },
  {
   "cell_type": "markdown",
   "metadata": {},
   "source": [
    "### Initialize model"
   ]
  },
  {
   "cell_type": "code",
   "execution_count": 6,
   "metadata": {},
   "outputs": [],
   "source": [
    "class SiameseNetwork(nn.Module):\n",
    "    def __init__(self, base_model):\n",
    "        super(SiameseNetwork, self).__init__()\n",
    "        self.base_model = base_model\n",
    "        self.adaptive_pool = nn.AdaptiveAvgPool3d((1, 1, 1))\n",
    "        self.classifier = nn.Sequential(\n",
    "            nn.Linear(2053,128),\n",
    "            nn.ReLU(),\n",
    "            nn.Linear(128,6),      #8 classes (Path. resp. 2, PFS 3, OS 3)\n",
    "            nn.Sigmoid()\n",
    "        )\n",
    "\n",
    "    \n",
    "    def forward(self, image1, image2, metadata):\n",
    "        # Pass both inputs through the shared model\n",
    "        output1 = self.base_model(image1)\n",
    "        output2 = self.base_model(image2)\n",
    "\n",
    "        # Apply adaptive average pooling to both outputs\n",
    "        output1 = self.adaptive_pool(output1).view(output1.size(0), -1)  # Flatten after pooling\n",
    "        output2 = self.adaptive_pool(output2).view(output2.size(0), -1)  # Flatten after pooling\n",
    "\n",
    "        combined_embeddings = torch.cat((output1, output2, metadata), dim=1)\n",
    "        output3 = self.classifier(combined_embeddings)\n",
    "        return output3\n"
   ]
  },
  {
   "cell_type": "code",
   "execution_count": 7,
   "metadata": {},
   "outputs": [
    {
     "name": "stderr",
     "output_type": "stream",
     "text": [
      "Using cache found in C:\\Users\\P095550/.cache\\torch\\hub\\Warvito_MedicalNet-models_main\n"
     ]
    }
   ],
   "source": [
    "resnet_model = torch.hub.load('Warvito/MedicalNet-models', 'medicalnet_resnet50')\n",
    "\n",
    "# Remove the final classification layer (fc) to keep only the encoder part\n",
    "encoder = nn.Sequential(*list(resnet_model.children())[:-1])"
   ]
  },
  {
   "cell_type": "code",
   "execution_count": 8,
   "metadata": {},
   "outputs": [],
   "source": [
    "model = SiameseNetwork(encoder)\n"
   ]
  },
  {
   "cell_type": "markdown",
   "metadata": {},
   "source": [
    "### Training"
   ]
  },
  {
   "cell_type": "code",
   "execution_count": 10,
   "metadata": {},
   "outputs": [],
   "source": [
    "import torch\n",
    "import torch.nn as nn\n",
    "import torch.optim as optim\n",
    "from torch.optim.lr_scheduler import StepLR\n",
    "from tqdm import tqdm\n",
    "\n",
    "def train_model(model, train_loader, val_loader, criterion, optimizer, scheduler, num_epochs=10, device=\"cuda\"):\n",
    "    best_val_loss = float('inf')\n",
    "\n",
    "    for epoch in range(num_epochs):\n",
    "        print(f\"\\nEpoch {epoch + 1}/{num_epochs}\")\n",
    "        print('-' * 20)\n",
    "\n",
    "        # ---------------------------\n",
    "        # TRAINING PHASE\n",
    "        # ---------------------------\n",
    "        model.train()\n",
    "        running_loss = 0.0\n",
    "        correct = 0\n",
    "        total = 0\n",
    "        \n",
    "        for img_1, img_2, metadata, labels in tqdm(train_loader):\n",
    "            img_1, img_2, metadata, labels = img_1.to(device), img_2.to(device), metadata.to(device), labels.to(device)\n",
    "            \n",
    "            # Forward pass\n",
    "            outputs = model(img_1, img_2, metadata)\n",
    "            loss = criterion(outputs, labels)\n",
    "            \n",
    "            # Backward pass and optimization\n",
    "            optimizer.zero_grad()\n",
    "            loss.backward()\n",
    "            optimizer.step()\n",
    "            \n",
    "            # Track metrics\n",
    "            running_loss += loss.item()\n",
    "            print(preds)\n",
    "            print(labels)\n",
    "            _, preds = torch.max(outputs, 1)\n",
    "            correct += (preds == labels).sum().item()\n",
    "            total += labels.size(0)\n",
    "        \n",
    "        epoch_loss = running_loss / len(train_loader)\n",
    "        epoch_acc = correct / total\n",
    "        \n",
    "        print(f'Train Loss: {epoch_loss:.4f} | Train Acc: {epoch_acc:.4f}')\n",
    "\n",
    "        # ---------------------------\n",
    "        # VALIDATION PHASE\n",
    "        # ---------------------------\n",
    "        model.eval()\n",
    "        val_loss = 0.0\n",
    "        correct = 0\n",
    "        total = 0\n",
    "        \n",
    "        with torch.no_grad():\n",
    "            for img_1, img_2, metadata, labels in val_loader:\n",
    "                img_1, img_2, metadata, labels = img_1.to(device), img_2.to(device), metadata.to(device), labels.to(device)\n",
    "                \n",
    "                outputs = model(img_1, img_2, metadata)\n",
    "                loss = criterion(outputs, labels)\n",
    "                \n",
    "                val_loss += loss.item()\n",
    "                _, preds = torch.max(outputs, 1)\n",
    "                correct += (preds == labels).sum().item()\n",
    "                total += labels.size(0)\n",
    "        \n",
    "        val_loss /= len(val_loader)\n",
    "        val_acc = correct / total\n",
    "        print(f'Val Loss: {val_loss:.4f} | Val Acc: {val_acc:.4f}')\n",
    "        \n",
    "        # ---------------------------\n",
    "        # LEARNING RATE SCHEDULER STEP\n",
    "        # ---------------------------\n",
    "        scheduler.step(val_loss)\n",
    "\n",
    "        # ---------------------------\n",
    "        # SAVE BEST MODEL\n",
    "        # ---------------------------\n",
    "        if val_loss < best_val_loss:\n",
    "            best_val_loss = val_loss\n",
    "            torch.save(model.state_dict(), 'best_model.pth')\n",
    "            print(\"Best model saved!\")\n",
    "        break\n",
    "\n",
    "    print(\"\\nTraining complete. Best Val Loss: {:.4f}\".format(best_val_loss))\n",
    "\n"
   ]
  },
  {
   "cell_type": "code",
   "execution_count": null,
   "metadata": {},
   "outputs": [
    {
     "name": "stdout",
     "output_type": "stream",
     "text": [
      "\n",
      "Epoch 1/20\n",
      "--------------------\n"
     ]
    },
    {
     "name": "stderr",
     "output_type": "stream",
     "text": [
      "  0%|          | 0/115 [00:00<?, ?it/s]"
     ]
    },
    {
     "name": "stderr",
     "output_type": "stream",
     "text": [
      "C:\\Users\\P095550\\AppData\\Local\\Temp\\ipykernel_14032\\1377056948.py:30: UserWarning: To copy construct from a tensor, it is recommended to use sourceTensor.clone().detach() or sourceTensor.clone().detach().requires_grad_(True), rather than torch.tensor(sourceTensor).\n",
      "  img1 = torch.tensor(img1, dtype=torch.float32)\n",
      "C:\\Users\\P095550\\AppData\\Local\\Temp\\ipykernel_14032\\1377056948.py:31: UserWarning: To copy construct from a tensor, it is recommended to use sourceTensor.clone().detach() or sourceTensor.clone().detach().requires_grad_(True), rather than torch.tensor(sourceTensor).\n",
      "  img2 = torch.tensor(img2, dtype=torch.float32)\n",
      "C:\\Users\\P095550\\AppData\\Local\\Temp\\ipykernel_14032\\1377056948.py:32: UserWarning: To copy construct from a tensor, it is recommended to use sourceTensor.clone().detach() or sourceTensor.clone().detach().requires_grad_(True), rather than torch.tensor(sourceTensor).\n",
      "  label = torch.tensor(label, dtype=torch.float32)\n",
      "C:\\Users\\P095550\\AppData\\Local\\Temp\\ipykernel_14032\\1377056948.py:30: UserWarning: To copy construct from a tensor, it is recommended to use sourceTensor.clone().detach() or sourceTensor.clone().detach().requires_grad_(True), rather than torch.tensor(sourceTensor).\n",
      "  img1 = torch.tensor(img1, dtype=torch.float32)\n",
      "C:\\Users\\P095550\\AppData\\Local\\Temp\\ipykernel_14032\\1377056948.py:31: UserWarning: To copy construct from a tensor, it is recommended to use sourceTensor.clone().detach() or sourceTensor.clone().detach().requires_grad_(True), rather than torch.tensor(sourceTensor).\n",
      "  img2 = torch.tensor(img2, dtype=torch.float32)\n",
      "C:\\Users\\P095550\\AppData\\Local\\Temp\\ipykernel_14032\\1377056948.py:32: UserWarning: To copy construct from a tensor, it is recommended to use sourceTensor.clone().detach() or sourceTensor.clone().detach().requires_grad_(True), rather than torch.tensor(sourceTensor).\n",
      "  label = torch.tensor(label, dtype=torch.float32)\n",
      "  0%|          | 0/115 [00:40<?, ?it/s]\n"
     ]
    }
   ],
   "source": [
    "# Model\n",
    "model = model.to(device)\n",
    "\n",
    "# Loss function (for classification)\n",
    "criterion = nn.CrossEntropyLoss()\n",
    "\n",
    "# Optimizer\n",
    "optimizer = optim.Adam(model.parameters(), lr=1e-4)\n",
    "\n",
    "# Learning rate scheduler\n",
    "scheduler = StepLR(optimizer, step_size=5, gamma=0.1)\n",
    "\n",
    "# Start training!\n",
    "train_model(model, train_loader, val_loader, criterion, optimizer, scheduler, num_epochs=20, device=device)\n"
   ]
  }
 ],
 "metadata": {
  "kernelspec": {
   "display_name": ".venv",
   "language": "python",
   "name": "python3"
  },
  "language_info": {
   "codemirror_mode": {
    "name": "ipython",
    "version": 3
   },
   "file_extension": ".py",
   "mimetype": "text/x-python",
   "name": "python",
   "nbconvert_exporter": "python",
   "pygments_lexer": "ipython3",
   "version": "3.10.0"
  }
 },
 "nbformat": 4,
 "nbformat_minor": 2
}
