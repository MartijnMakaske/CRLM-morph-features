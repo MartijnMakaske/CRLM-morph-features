{
 "cells": [
  {
   "cell_type": "code",
   "execution_count": 18,
   "metadata": {},
   "outputs": [],
   "source": [
    "#imports\n",
    "import pandas as pd\n",
    "import numpy as np\n",
    "import matplotlib.pyplot as plt\n",
    "import os\n",
    "from lifelines import KaplanMeierFitter\n",
    "import matplotlib.pyplot as plt"
   ]
  },
  {
   "cell_type": "markdown",
   "metadata": {},
   "source": [
    "# Clinical data preparation (Pre-Training)"
   ]
  },
  {
   "cell_type": "code",
   "execution_count": null,
   "metadata": {},
   "outputs": [],
   "source": [
    "#read the data\n",
    "pre_training_data_path = \"L:/Basic/divi/jstoker/slicer_pdac/Master Students WS 24/Martijn/data/Pre-training/Colorectal-Liver-Metastases-Clinical-data-April-2023.xlsx\"\n",
    "pre_training_data = pd.read_excel(pre_training_data_path)\n"
   ]
  },
  {
   "cell_type": "code",
   "execution_count": null,
   "metadata": {},
   "outputs": [
    {
     "data": {
      "text/plain": [
       "Patient-ID                 0\n",
       "overall_survival_months    0\n",
       "dtype: int64"
      ]
     },
     "execution_count": 6,
     "metadata": {},
     "output_type": "execute_result"
    }
   ],
   "source": [
    "relevant_data = pre_training_data[['Patient-ID', 'overall_survival_months']]\n",
    "relevant_data = relevant_data.drop(index=72) #this patient was scanned on its stomach\n",
    "\n",
    "relevant_data.isna().sum()\n"
   ]
  },
  {
   "cell_type": "code",
   "execution_count": 5,
   "metadata": {},
   "outputs": [],
   "source": [
    "# Initialize the Kaplan-Meier fitter\n",
    "kmf = KaplanMeierFitter()\n",
    "\n",
    "# Fit the data\n",
    "kmf.fit(durations=relevant_data['overall_survival_months'], event_observed=None)\n",
    "\n",
    "# Plot the Kaplan-Meier survival curve\n",
    "plt.figure(figsize=(10, 6))\n",
    "kmf.plot_survival_function()\n",
    "plt.title('Kaplan-Meier Curve for Overall Survival')\n",
    "plt.xlabel('Time (months)')\n",
    "plt.ylabel('Survival Probability')\n",
    "plt.grid(True)\n",
    "plt.show()"
   ]
  },
  {
   "cell_type": "code",
   "execution_count": null,
   "metadata": {},
   "outputs": [],
   "source": [
    "# Read the metadata CSV file\n",
    "metadata_path = \"L:/Basic/divi/jstoker/slicer_pdac/Master Students WS 24/Martijn/data/Pre-training/dataset/metadata.csv\"\n",
    "\n",
    "# Replace with the actual path to your metadata file\n",
    "metadata = pd.read_csv(metadata_path)\n",
    "\n",
    "print(metadata['Number of Images'])\n",
    "\n",
    "#max number of images is 126"
   ]
  },
  {
   "cell_type": "markdown",
   "metadata": {},
   "source": [
    "# Clinical data preparation (Training, CAIRO5)"
   ]
  },
  {
   "cell_type": "code",
   "execution_count": null,
   "metadata": {},
   "outputs": [],
   "source": [
    "#Read in the data\n",
    "data_path = \"L:/Basic/divi/jstoker/slicer_pdac/Master Students WS 24/Martijn/data/dataset_CAESAR_dec23_MASTER.xlsx\"\n",
    "all_data = pd.read_excel(data_path)"
   ]
  },
  {
   "cell_type": "code",
   "execution_count": null,
   "metadata": {},
   "outputs": [
    {
     "data": {
      "application/vnd.microsoft.datawrangler.viewer.v0+json": {
       "columns": [
        {
         "name": "index",
         "rawType": "int64",
         "type": "integer"
        },
        {
         "name": "SubjectKey",
         "rawType": "int64",
         "type": "integer"
        },
        {
         "name": "KRAS",
         "rawType": "int64",
         "type": "integer"
        },
        {
         "name": "BRAF",
         "rawType": "int64",
         "type": "integer"
        },
        {
         "name": "NRAS",
         "rawType": "int64",
         "type": "integer"
        },
        {
         "name": "treatment",
         "rawType": "object",
         "type": "string"
        },
        {
         "name": "PFSm",
         "rawType": "float64",
         "type": "float"
        },
        {
         "name": "OSm",
         "rawType": "float64",
         "type": "float"
        }
       ],
       "conversionMethod": "pd.DataFrame",
       "ref": "009f736e-9a34-462e-8a8c-104b12529edc",
       "rows": [
        [
         "0",
         "1",
         "0",
         "1",
         "0",
         "FOLFOX-B",
         "11.40041067761807",
         "22.40657084188912"
        ],
        [
         "1",
         "2",
         "0",
         "0",
         "0",
         "FOLFOX-P",
         "7.68788501026694",
         "48.39425051334702"
        ],
        [
         "2",
         "3",
         "1",
         "0",
         "0",
         "FOLFOX-B",
         "8.147843942505133",
         "31.67145790554415"
        ],
        [
         "3",
         "4",
         "0",
         "0",
         "0",
         "FOLFOX-P",
         "21.88090349075975",
         "37.35523613963039"
        ],
        [
         "4",
         "5",
         "0",
         "0",
         "0",
         "FOLFIRI-B",
         "1.609856262833675",
         "4.435318275154004"
        ]
       ],
       "shape": {
        "columns": 7,
        "rows": 5
       }
      },
      "text/html": [
       "<div>\n",
       "<style scoped>\n",
       "    .dataframe tbody tr th:only-of-type {\n",
       "        vertical-align: middle;\n",
       "    }\n",
       "\n",
       "    .dataframe tbody tr th {\n",
       "        vertical-align: top;\n",
       "    }\n",
       "\n",
       "    .dataframe thead th {\n",
       "        text-align: right;\n",
       "    }\n",
       "</style>\n",
       "<table border=\"1\" class=\"dataframe\">\n",
       "  <thead>\n",
       "    <tr style=\"text-align: right;\">\n",
       "      <th></th>\n",
       "      <th>SubjectKey</th>\n",
       "      <th>KRAS</th>\n",
       "      <th>BRAF</th>\n",
       "      <th>NRAS</th>\n",
       "      <th>treatment</th>\n",
       "      <th>PFSm</th>\n",
       "      <th>OSm</th>\n",
       "    </tr>\n",
       "  </thead>\n",
       "  <tbody>\n",
       "    <tr>\n",
       "      <th>0</th>\n",
       "      <td>1</td>\n",
       "      <td>0</td>\n",
       "      <td>1</td>\n",
       "      <td>0</td>\n",
       "      <td>FOLFOX-B</td>\n",
       "      <td>11.400411</td>\n",
       "      <td>22.406571</td>\n",
       "    </tr>\n",
       "    <tr>\n",
       "      <th>1</th>\n",
       "      <td>2</td>\n",
       "      <td>0</td>\n",
       "      <td>0</td>\n",
       "      <td>0</td>\n",
       "      <td>FOLFOX-P</td>\n",
       "      <td>7.687885</td>\n",
       "      <td>48.394251</td>\n",
       "    </tr>\n",
       "    <tr>\n",
       "      <th>2</th>\n",
       "      <td>3</td>\n",
       "      <td>1</td>\n",
       "      <td>0</td>\n",
       "      <td>0</td>\n",
       "      <td>FOLFOX-B</td>\n",
       "      <td>8.147844</td>\n",
       "      <td>31.671458</td>\n",
       "    </tr>\n",
       "    <tr>\n",
       "      <th>3</th>\n",
       "      <td>4</td>\n",
       "      <td>0</td>\n",
       "      <td>0</td>\n",
       "      <td>0</td>\n",
       "      <td>FOLFOX-P</td>\n",
       "      <td>21.880903</td>\n",
       "      <td>37.355236</td>\n",
       "    </tr>\n",
       "    <tr>\n",
       "      <th>4</th>\n",
       "      <td>5</td>\n",
       "      <td>0</td>\n",
       "      <td>0</td>\n",
       "      <td>0</td>\n",
       "      <td>FOLFIRI-B</td>\n",
       "      <td>1.609856</td>\n",
       "      <td>4.435318</td>\n",
       "    </tr>\n",
       "  </tbody>\n",
       "</table>\n",
       "</div>"
      ],
      "text/plain": [
       "   SubjectKey  KRAS  BRAF  NRAS  treatment       PFSm        OSm\n",
       "0           1     0     1     0   FOLFOX-B  11.400411  22.406571\n",
       "1           2     0     0     0   FOLFOX-P   7.687885  48.394251\n",
       "2           3     1     0     0   FOLFOX-B   8.147844  31.671458\n",
       "3           4     0     0     0   FOLFOX-P  21.880903  37.355236\n",
       "4           5     0     0     0  FOLFIRI-B   1.609856   4.435318"
      ]
     },
     "execution_count": 58,
     "metadata": {},
     "output_type": "execute_result"
    }
   ],
   "source": [
    "relavant_data = all_data[[\"SubjectKey\", \"KRAS\", \"BRAF\", \"NRAS\", \"treatment\", \"PFSm\", \"OSm\"]] \n",
    "relavant_data.head()"
   ]
  },
  {
   "cell_type": "code",
   "execution_count": null,
   "metadata": {},
   "outputs": [],
   "source": [
    "# SELECT SUBJECTS WITH SCANS\n",
    "\n",
    "scans_path = \"L:/Basic/divi/jstoker/slicer_pdac/Master Students WS 24/Martijn/data/Training/paired_scans\"\n",
    "subjects = []\n",
    "\n",
    "for scan in os.listdir(scans_path):\n",
    "    subject = scan.split(\"_\")[0]\n",
    "    subject_int = int(subject[-3:])\n",
    "    subjects.append(subject_int)\n",
    "\n",
    "training_data = relavant_data[relavant_data[\"SubjectKey\"].isin(subjects)]"
   ]
  },
  {
   "cell_type": "code",
   "execution_count": null,
   "metadata": {},
   "outputs": [
    {
     "name": "stdout",
     "output_type": "stream",
     "text": [
      "set()\n"
     ]
    }
   ],
   "source": [
    "# 2 missing subjects: 73, 406       \n",
    "missing_subjects = set(subjects) - set(training_data[\"SubjectKey\"])\n",
    "print(missing_subjects)\n"
   ]
  },
  {
   "cell_type": "markdown",
   "metadata": {},
   "source": [
    "Delete scans of patient 104,\n",
    "Check what happend with patients 73 and 406"
   ]
  },
  {
   "cell_type": "markdown",
   "metadata": {},
   "source": [
    "## Create input and labels"
   ]
  },
  {
   "cell_type": "code",
   "execution_count": null,
   "metadata": {},
   "outputs": [],
   "source": [
    "# ------------------------------------\n",
    "# CREATE INPUT CSV\n",
    "# ------------------------------------\n",
    "\n",
    "training_input = training_data[[\"SubjectKey\", \"KRAS\", \"BRAF\", \"NRAS\", \"treatment\"]].copy()\n",
    "\n",
    "# One-hot encode treatment into two categories: ending with 'P' or 'B'\n",
    "training_input['treatment_P'] = training_input['treatment'].str.endswith('P').astype(int)\n",
    "training_input['treatment_B'] = training_input['treatment'].str.endswith('B').astype(int)\n",
    "\n",
    "training_input.drop(columns=[\"SubjectKey\", \"treatment\", \"TRG_cat\"], inplace= True)\n",
    "\n",
    "#-----------------------------\n",
    "# LABELS\n",
    "#-------------------------------\n",
    "\n",
    "#one-hot encode path. response into three categories: no resp, partial response, major response\n",
    "#Nan is all 0\n",
    "# One-hot encode the TRG_cat column into three categories\n",
    "training_labels['no_resp'] = (training_labels['TRG_cat'] == 'No histological response').astype(int)\n",
    "training_labels['partial_resp'] = (training_labels['TRG_cat'] == 'Partial histological response').astype(int)\n",
    "training_labels['major_resp'] = (training_labels['TRG_cat'] == 'Major histological response').astype(int)\n",
    "\n",
    "# Fill NaN values with 0\n",
    "training_labels[['no_resp', 'partial_resp', 'major_resp']] = training_labels[['no_resp', 'partial_resp', 'major_resp']].fillna(0)\n",
    "\n",
    "# Save the training input to a CSV file\n",
    "training_input.to_csv('training_input.csv', index=False)\n",
    "\n",
    "# ------------------------------------\n",
    "# CREATE LABEL CSV\n",
    "# ------------------------------------\n",
    "\n",
    "training_labels = training_data[[\"SubjectKey\", \"PFSm\", \"OSm\"]].copy()\n",
    "\n",
    "# Create thresholds\n",
    "half_year_pfs, one_year_pfs, two_year_pfs = 6, 12, 24  \n",
    "one_year_os, three_year_os, five_year_os = 12, 36, 60 \n",
    "\n",
    "# Create one-hot encoded columns for progression-free survival thresholds\n",
    "training_labels['6m_PFS'] = (training_labels['PFSm'] >= half_year_pfs).astype(int)\n",
    "training_labels['1y_PFS'] = (training_labels['PFSm'] >= one_year_pfs).astype(int)\n",
    "training_labels['2y_PFS'] = (training_labels['PFSm'] >= two_year_pfs).astype(int)\n",
    "\n",
    "# Create one-hot encoded columns for overall survival thresholds\n",
    "training_labels['1y_OS'] = (training_labels['OSm'] >= one_year_os).astype(int)\n",
    "training_labels['3y_OS'] = (training_labels['OSm'] >= three_year_os).astype(int)\n",
    "training_labels['5y_OS'] = (training_labels['OSm'] >= five_year_os).astype(int)\n",
    "\n",
    "training_labels.drop(columns=[\"SubjectKey\", \"PFSm\", \"OSm\", \"TRG_cat\"], inplace= True)\n",
    "\n",
    "# Save the training labels to a CSV file\n",
    "training_labels.to_csv('training_labels.csv', index=False)"
   ]
  },
  {
   "cell_type": "code",
   "execution_count": null,
   "metadata": {},
   "outputs": [
    {
     "data": {
      "application/vnd.microsoft.datawrangler.viewer.v0+json": {
       "columns": [
        {
         "name": "index",
         "rawType": "int64",
         "type": "integer"
        },
        {
         "name": "TRG_no_resp",
         "rawType": "int32",
         "type": "integer"
        },
        {
         "name": "TRG_partial_resp",
         "rawType": "int32",
         "type": "integer"
        },
        {
         "name": "TRG_major_resp",
         "rawType": "int32",
         "type": "integer"
        },
        {
         "name": "6m_PFS",
         "rawType": "int32",
         "type": "integer"
        },
        {
         "name": "1y_PFS",
         "rawType": "int32",
         "type": "integer"
        },
        {
         "name": "2y_PFS",
         "rawType": "int32",
         "type": "integer"
        },
        {
         "name": "1y_OS",
         "rawType": "int32",
         "type": "integer"
        },
        {
         "name": "3y_OS",
         "rawType": "int32",
         "type": "integer"
        },
        {
         "name": "5y_OS",
         "rawType": "int32",
         "type": "integer"
        }
       ],
       "conversionMethod": "pd.DataFrame",
       "ref": "0138566b-cd47-49c4-b9b1-f284759f5095",
       "rows": [
        [
         "0",
         "0",
         "0",
         "0",
         "1",
         "0",
         "0",
         "1",
         "0",
         "0"
        ],
        [
         "1",
         "0",
         "0",
         "0",
         "1",
         "1",
         "0",
         "1",
         "1",
         "0"
        ],
        [
         "2",
         "0",
         "0",
         "1",
         "1",
         "1",
         "1",
         "1",
         "1",
         "1"
        ],
        [
         "3",
         "1",
         "0",
         "0",
         "1",
         "0",
         "0",
         "1",
         "1",
         "0"
        ],
        [
         "4",
         "0",
         "0",
         "0",
         "1",
         "0",
         "0",
         "1",
         "1",
         "0"
        ],
        [
         "5",
         "1",
         "0",
         "0",
         "1",
         "1",
         "1",
         "1",
         "1",
         "1"
        ],
        [
         "6",
         "0",
         "1",
         "0",
         "1",
         "1",
         "1",
         "1",
         "1",
         "1"
        ],
        [
         "7",
         "0",
         "0",
         "0",
         "0",
         "0",
         "0",
         "0",
         "0",
         "0"
        ],
        [
         "8",
         "1",
         "0",
         "0",
         "1",
         "0",
         "0",
         "1",
         "1",
         "0"
        ],
        [
         "9",
         "0",
         "1",
         "0",
         "1",
         "0",
         "0",
         "1",
         "0",
         "0"
        ],
        [
         "10",
         "0",
         "0",
         "0",
         "1",
         "1",
         "0",
         "1",
         "0",
         "0"
        ],
        [
         "11",
         "0",
         "0",
         "0",
         "1",
         "0",
         "0",
         "1",
         "1",
         "0"
        ],
        [
         "12",
         "0",
         "0",
         "0",
         "1",
         "0",
         "0",
         "1",
         "0",
         "0"
        ],
        [
         "13",
         "0",
         "1",
         "0",
         "0",
         "0",
         "0",
         "0",
         "0",
         "0"
        ],
        [
         "14",
         "0",
         "0",
         "0",
         "1",
         "1",
         "0",
         "1",
         "0",
         "0"
        ],
        [
         "15",
         "0",
         "1",
         "0",
         "1",
         "0",
         "0",
         "1",
         "1",
         "0"
        ],
        [
         "16",
         "1",
         "0",
         "0",
         "1",
         "0",
         "0",
         "1",
         "0",
         "0"
        ],
        [
         "17",
         "0",
         "0",
         "0",
         "1",
         "0",
         "0",
         "1",
         "0",
         "0"
        ],
        [
         "18",
         "1",
         "0",
         "0",
         "1",
         "1",
         "0",
         "1",
         "0",
         "0"
        ],
        [
         "19",
         "0",
         "0",
         "0",
         "1",
         "0",
         "0",
         "1",
         "0",
         "0"
        ],
        [
         "20",
         "0",
         "0",
         "0",
         "1",
         "0",
         "0",
         "1",
         "0",
         "0"
        ],
        [
         "21",
         "1",
         "0",
         "0",
         "1",
         "1",
         "0",
         "1",
         "0",
         "0"
        ],
        [
         "22",
         "0",
         "0",
         "0",
         "0",
         "0",
         "0",
         "0",
         "0",
         "0"
        ],
        [
         "23",
         "0",
         "0",
         "0",
         "1",
         "0",
         "0",
         "0",
         "0",
         "0"
        ],
        [
         "24",
         "0",
         "1",
         "0",
         "1",
         "1",
         "1",
         "1",
         "1",
         "1"
        ],
        [
         "25",
         "0",
         "1",
         "0",
         "0",
         "0",
         "0",
         "0",
         "0",
         "0"
        ],
        [
         "26",
         "0",
         "1",
         "0",
         "1",
         "1",
         "0",
         "1",
         "1",
         "1"
        ],
        [
         "27",
         "0",
         "0",
         "0",
         "1",
         "1",
         "1",
         "1",
         "0",
         "0"
        ],
        [
         "28",
         "0",
         "0",
         "0",
         "0",
         "0",
         "0",
         "0",
         "0",
         "0"
        ],
        [
         "29",
         "0",
         "0",
         "0",
         "1",
         "0",
         "0",
         "1",
         "0",
         "0"
        ],
        [
         "30",
         "1",
         "0",
         "0",
         "1",
         "0",
         "0",
         "1",
         "0",
         "0"
        ],
        [
         "31",
         "0",
         "1",
         "0",
         "1",
         "1",
         "0",
         "1",
         "1",
         "1"
        ],
        [
         "32",
         "0",
         "0",
         "0",
         "1",
         "0",
         "0",
         "1",
         "0",
         "0"
        ],
        [
         "33",
         "0",
         "0",
         "0",
         "1",
         "0",
         "0",
         "1",
         "1",
         "0"
        ],
        [
         "34",
         "1",
         "0",
         "0",
         "1",
         "0",
         "0",
         "0",
         "0",
         "0"
        ],
        [
         "35",
         "0",
         "0",
         "0",
         "1",
         "1",
         "1",
         "1",
         "0",
         "0"
        ],
        [
         "36",
         "0",
         "0",
         "1",
         "1",
         "0",
         "0",
         "1",
         "1",
         "0"
        ],
        [
         "37",
         "0",
         "0",
         "0",
         "1",
         "0",
         "0",
         "1",
         "0",
         "0"
        ],
        [
         "38",
         "0",
         "0",
         "0",
         "1",
         "1",
         "0",
         "1",
         "0",
         "0"
        ],
        [
         "39",
         "0",
         "0",
         "0",
         "1",
         "1",
         "1",
         "1",
         "1",
         "1"
        ],
        [
         "40",
         "0",
         "0",
         "0",
         "1",
         "0",
         "0",
         "0",
         "0",
         "0"
        ],
        [
         "41",
         "0",
         "0",
         "0",
         "1",
         "1",
         "0",
         "1",
         "0",
         "0"
        ],
        [
         "42",
         "0",
         "0",
         "0",
         "0",
         "0",
         "0",
         "1",
         "0",
         "0"
        ],
        [
         "43",
         "0",
         "0",
         "1",
         "1",
         "1",
         "0",
         "1",
         "0",
         "0"
        ],
        [
         "44",
         "0",
         "0",
         "0",
         "0",
         "0",
         "0",
         "1",
         "1",
         "0"
        ],
        [
         "45",
         "0",
         "0",
         "0",
         "0",
         "0",
         "0",
         "0",
         "0",
         "0"
        ],
        [
         "46",
         "0",
         "0",
         "0",
         "0",
         "0",
         "0",
         "1",
         "0",
         "0"
        ],
        [
         "47",
         "0",
         "0",
         "0",
         "1",
         "0",
         "0",
         "0",
         "0",
         "0"
        ],
        [
         "48",
         "0",
         "0",
         "0",
         "1",
         "0",
         "0",
         "0",
         "0",
         "0"
        ],
        [
         "49",
         "0",
         "0",
         "0",
         "1",
         "0",
         "0",
         "1",
         "0",
         "0"
        ]
       ],
       "shape": {
        "columns": 9,
        "rows": 288
       }
      },
      "text/html": [
       "<div>\n",
       "<style scoped>\n",
       "    .dataframe tbody tr th:only-of-type {\n",
       "        vertical-align: middle;\n",
       "    }\n",
       "\n",
       "    .dataframe tbody tr th {\n",
       "        vertical-align: top;\n",
       "    }\n",
       "\n",
       "    .dataframe thead th {\n",
       "        text-align: right;\n",
       "    }\n",
       "</style>\n",
       "<table border=\"1\" class=\"dataframe\">\n",
       "  <thead>\n",
       "    <tr style=\"text-align: right;\">\n",
       "      <th></th>\n",
       "      <th>TRG_no_resp</th>\n",
       "      <th>TRG_partial_resp</th>\n",
       "      <th>TRG_major_resp</th>\n",
       "      <th>6m_PFS</th>\n",
       "      <th>1y_PFS</th>\n",
       "      <th>2y_PFS</th>\n",
       "      <th>1y_OS</th>\n",
       "      <th>3y_OS</th>\n",
       "      <th>5y_OS</th>\n",
       "    </tr>\n",
       "  </thead>\n",
       "  <tbody>\n",
       "    <tr>\n",
       "      <th>0</th>\n",
       "      <td>0</td>\n",
       "      <td>0</td>\n",
       "      <td>0</td>\n",
       "      <td>1</td>\n",
       "      <td>0</td>\n",
       "      <td>0</td>\n",
       "      <td>1</td>\n",
       "      <td>0</td>\n",
       "      <td>0</td>\n",
       "    </tr>\n",
       "    <tr>\n",
       "      <th>1</th>\n",
       "      <td>0</td>\n",
       "      <td>0</td>\n",
       "      <td>0</td>\n",
       "      <td>1</td>\n",
       "      <td>1</td>\n",
       "      <td>0</td>\n",
       "      <td>1</td>\n",
       "      <td>1</td>\n",
       "      <td>0</td>\n",
       "    </tr>\n",
       "    <tr>\n",
       "      <th>2</th>\n",
       "      <td>0</td>\n",
       "      <td>0</td>\n",
       "      <td>1</td>\n",
       "      <td>1</td>\n",
       "      <td>1</td>\n",
       "      <td>1</td>\n",
       "      <td>1</td>\n",
       "      <td>1</td>\n",
       "      <td>1</td>\n",
       "    </tr>\n",
       "    <tr>\n",
       "      <th>3</th>\n",
       "      <td>1</td>\n",
       "      <td>0</td>\n",
       "      <td>0</td>\n",
       "      <td>1</td>\n",
       "      <td>0</td>\n",
       "      <td>0</td>\n",
       "      <td>1</td>\n",
       "      <td>1</td>\n",
       "      <td>0</td>\n",
       "    </tr>\n",
       "    <tr>\n",
       "      <th>4</th>\n",
       "      <td>0</td>\n",
       "      <td>0</td>\n",
       "      <td>0</td>\n",
       "      <td>1</td>\n",
       "      <td>0</td>\n",
       "      <td>0</td>\n",
       "      <td>1</td>\n",
       "      <td>1</td>\n",
       "      <td>0</td>\n",
       "    </tr>\n",
       "    <tr>\n",
       "      <th>...</th>\n",
       "      <td>...</td>\n",
       "      <td>...</td>\n",
       "      <td>...</td>\n",
       "      <td>...</td>\n",
       "      <td>...</td>\n",
       "      <td>...</td>\n",
       "      <td>...</td>\n",
       "      <td>...</td>\n",
       "      <td>...</td>\n",
       "    </tr>\n",
       "    <tr>\n",
       "      <th>283</th>\n",
       "      <td>0</td>\n",
       "      <td>0</td>\n",
       "      <td>0</td>\n",
       "      <td>1</td>\n",
       "      <td>1</td>\n",
       "      <td>0</td>\n",
       "      <td>1</td>\n",
       "      <td>0</td>\n",
       "      <td>0</td>\n",
       "    </tr>\n",
       "    <tr>\n",
       "      <th>284</th>\n",
       "      <td>0</td>\n",
       "      <td>0</td>\n",
       "      <td>0</td>\n",
       "      <td>1</td>\n",
       "      <td>0</td>\n",
       "      <td>0</td>\n",
       "      <td>1</td>\n",
       "      <td>0</td>\n",
       "      <td>0</td>\n",
       "    </tr>\n",
       "    <tr>\n",
       "      <th>285</th>\n",
       "      <td>0</td>\n",
       "      <td>1</td>\n",
       "      <td>0</td>\n",
       "      <td>1</td>\n",
       "      <td>0</td>\n",
       "      <td>0</td>\n",
       "      <td>1</td>\n",
       "      <td>0</td>\n",
       "      <td>0</td>\n",
       "    </tr>\n",
       "    <tr>\n",
       "      <th>286</th>\n",
       "      <td>1</td>\n",
       "      <td>0</td>\n",
       "      <td>0</td>\n",
       "      <td>1</td>\n",
       "      <td>0</td>\n",
       "      <td>0</td>\n",
       "      <td>1</td>\n",
       "      <td>0</td>\n",
       "      <td>0</td>\n",
       "    </tr>\n",
       "    <tr>\n",
       "      <th>287</th>\n",
       "      <td>0</td>\n",
       "      <td>0</td>\n",
       "      <td>0</td>\n",
       "      <td>1</td>\n",
       "      <td>0</td>\n",
       "      <td>0</td>\n",
       "      <td>1</td>\n",
       "      <td>0</td>\n",
       "      <td>0</td>\n",
       "    </tr>\n",
       "  </tbody>\n",
       "</table>\n",
       "<p>288 rows × 9 columns</p>\n",
       "</div>"
      ],
      "text/plain": [
       "     TRG_no_resp  TRG_partial_resp  TRG_major_resp  6m_PFS  1y_PFS  2y_PFS  \\\n",
       "0              0                 0               0       1       0       0   \n",
       "1              0                 0               0       1       1       0   \n",
       "2              0                 0               1       1       1       1   \n",
       "3              1                 0               0       1       0       0   \n",
       "4              0                 0               0       1       0       0   \n",
       "..           ...               ...             ...     ...     ...     ...   \n",
       "283            0                 0               0       1       1       0   \n",
       "284            0                 0               0       1       0       0   \n",
       "285            0                 1               0       1       0       0   \n",
       "286            1                 0               0       1       0       0   \n",
       "287            0                 0               0       1       0       0   \n",
       "\n",
       "     1y_OS  3y_OS  5y_OS  \n",
       "0        1      0      0  \n",
       "1        1      1      0  \n",
       "2        1      1      1  \n",
       "3        1      1      0  \n",
       "4        1      1      0  \n",
       "..     ...    ...    ...  \n",
       "283      1      0      0  \n",
       "284      1      0      0  \n",
       "285      1      0      0  \n",
       "286      1      0      0  \n",
       "287      1      0      0  \n",
       "\n",
       "[288 rows x 9 columns]"
      ]
     },
     "execution_count": 49,
     "metadata": {},
     "output_type": "execute_result"
    }
   ],
   "source": [
    "training_labels.head()"
   ]
  },
  {
   "cell_type": "markdown",
   "metadata": {},
   "source": [
    "## Plots & Exploration"
   ]
  },
  {
   "cell_type": "markdown",
   "metadata": {},
   "source": [
    "### Mutation status"
   ]
  },
  {
   "cell_type": "code",
   "execution_count": null,
   "metadata": {},
   "outputs": [
    {
     "data": {
      "image/png": "[encoded data removed]",
      "text/plain": [
       "<Figure size 1500x500 with 3 Axes>"
      ]
     },
     "metadata": {},
     "output_type": "display_data"
    }
   ],
   "source": [
    "# Define the list of mutation columns to plot\n",
    "mutation_columns = [\"KRAS\", \"BRAF\", \"NRAS\"]\n",
    "\n",
    "# Create a figure with subplots\n",
    "fig, axes = plt.subplots(nrows=1, ncols=len(mutation_columns), figsize=(15, 5))\n",
    "\n",
    "# Create bar plots for each mutation type\n",
    "for ax, mutation in zip(axes, mutation_columns):\n",
    "    mutation_counts = training_data[mutation].value_counts()\n",
    "\n",
    "    # Create a bar plot\n",
    "    ax.bar(mutation_counts.index, mutation_counts.values, color='lightblue')\n",
    "\n",
    "    # Add labels and title\n",
    "    ax.set_xlabel(mutation)\n",
    "    ax.set_ylabel('Count')\n",
    "    ax.set_title(f'Distribution of {mutation} Mutations')\n",
    "\n",
    "    # Fix the x-axis to display only 0 and 1\n",
    "    ax.set_xticks([0, 1])\n",
    "\n",
    "# Adjust layout\n",
    "plt.tight_layout()\n",
    "\n",
    "# Display the combined figure\n",
    "plt.show()\n"
   ]
  },
  {
   "cell_type": "markdown",
   "metadata": {},
   "source": [
    "### Treatment"
   ]
  },
  {
   "cell_type": "code",
   "execution_count": null,
   "metadata": {},
   "outputs": [
    {
     "data": {
      "image/png": "[encoded data removed]",
      "text/plain": [
       "<Figure size 1000x600 with 1 Axes>"
      ]
     },
     "metadata": {},
     "output_type": "display_data"
    }
   ],
   "source": [
    "# Count the occurrences of each treatment type\n",
    "treatment_counts = training_data[\"treatment\"].value_counts()\n",
    "\n",
    "# Create a bar plot\n",
    "plt.figure(figsize=(10, 6))\n",
    "plt.bar(treatment_counts.index, treatment_counts.values, color='skyblue')\n",
    "\n",
    "# Add labels and title\n",
    "plt.xlabel('Treatment')\n",
    "plt.ylabel('Count')\n",
    "plt.title('Distribution of Treatments')\n",
    "\n",
    "# Rotate x-axis labels for better readability\n",
    "plt.xticks(rotation=45)\n",
    "\n",
    "# Display the plot\n",
    "plt.show()\n"
   ]
  },
  {
   "cell_type": "markdown",
   "metadata": {},
   "source": [
    "### Overall survival"
   ]
  },
  {
   "cell_type": "code",
   "execution_count": null,
   "metadata": {},
   "outputs": [
    {
     "data": {
      "image/png": "[encoded data removed]",
      "text/plain": [
       "<Figure size 1000x600 with 1 Axes>"
      ]
     },
     "metadata": {},
     "output_type": "display_data"
    }
   ],
   "source": [
    "# Initialize the Kaplan-Meier fitter\n",
    "kmf = KaplanMeierFitter()\n",
    "\n",
    "# Fit the data\n",
    "kmf.fit(durations=training_data['OSm'], event_observed=None)\n",
    "\n",
    "# Plot the Kaplan-Meier survival curve\n",
    "plt.figure(figsize=(10, 6))\n",
    "kmf.plot_survival_function()\n",
    "plt.title('Kaplan-Meier Curve for Overall Survival')\n",
    "plt.xlabel('Time (months)')\n",
    "plt.ylabel('Survival Probability')\n",
    "plt.grid(True)\n",
    "plt.show()"
   ]
  },
  {
   "cell_type": "markdown",
   "metadata": {},
   "source": [
    "### Progression Free Survival"
   ]
  },
  {
   "cell_type": "code",
   "execution_count": null,
   "metadata": {},
   "outputs": [
    {
     "data": {
      "image/png": "[encoded data removed]",
      "text/plain": [
       "<Figure size 1000x600 with 1 Axes>"
      ]
     },
     "metadata": {},
     "output_type": "display_data"
    }
   ],
   "source": [
    "# Create a histogram plot for the distribution of progression free survival (PFSm)\n",
    "# make this kaplan meier curve\n",
    "\n",
    "plt.figure(figsize=(10, 6))\n",
    "plt.hist(training_data['PFSm'], bins=30, color='skyblue', edgecolor='black')\n",
    "\n",
    "# Add labels and title\n",
    "plt.xlabel('Progression Free Survival (months)')\n",
    "plt.ylabel('Frequency')\n",
    "plt.title('Distribution of Progression Free Survival')\n",
    "\n",
    "# Display the plot\n",
    "plt.show()"
   ]
  },
  {
   "cell_type": "markdown",
   "metadata": {},
   "source": [
    "### Pathological response"
   ]
  },
  {
   "cell_type": "code",
   "execution_count": null,
   "metadata": {},
   "outputs": [],
   "source": [
    "# Create plot with path. response"
   ]
  },
  {
   "cell_type": "markdown",
   "metadata": {},
   "source": [
    "## Check for missing values"
   ]
  },
  {
   "cell_type": "code",
   "execution_count": null,
   "metadata": {},
   "outputs": [],
   "source": [
    "# Check for columns with NaN values\n",
    "nan_columns = training_data.columns[training_data.isnull().any()]\n",
    "\n",
    "# Print the columns with NaN values\n",
    "print(\"Columns with NaN values:\")\n",
    "print(nan_columns)"
   ]
  },
  {
   "cell_type": "markdown",
   "metadata": {},
   "source": [
    "## Determining outcome variable"
   ]
  },
  {
   "cell_type": "code",
   "execution_count": null,
   "metadata": {},
   "outputs": [],
   "source": [
    "# Filter the data for patients with overall survival longer than 24 months\n",
    "long_survival_patients = training_data[training_data['OSm'] > 24]\n",
    "\n",
    "# Count the number of such patients\n",
    "num_long_survival_patients = len(long_survival_patients)\n",
    "\n",
    "print(f\"Number of patients with overall survival longer than 24 months: {num_long_survival_patients}\")\n",
    "print(f\"Total number of patients: {len(training_data)}\")"
   ]
  },
  {
   "cell_type": "code",
   "execution_count": null,
   "metadata": {},
   "outputs": [],
   "source": [
    "# Filter the data for patients with progression free survival longer than 12 months\n",
    "long_pfs_patients = data[data['PFSm'] > 12]\n",
    "\n",
    "# Count the number of such patients\n",
    "num_long_pfs_patients = len(long_pfs_patients)\n",
    "\n",
    "print(f\"Number of patients with progression free survival longer than 24 months: {num_long_pfs_patients}\")\n",
    "print(f\"Total number of patients: {len(data)}\")"
   ]
  }
 ],
 "metadata": {
  "kernelspec": {
   "display_name": ".venv",
   "language": "python",
   "name": "python3"
  },
  "language_info": {
   "codemirror_mode": {
    "name": "ipython",
    "version": 3
   },
   "file_extension": ".py",
   "mimetype": "text/x-python",
   "name": "python",
   "nbconvert_exporter": "python",
   "pygments_lexer": "ipython3",
   "version": "3.10.0"
  }
 },
 "nbformat": 4,
 "nbformat_minor": 2
}
