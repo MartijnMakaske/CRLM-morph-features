{
 "cells": [
  {
   "cell_type": "markdown",
   "metadata": {},
   "source": [
    "# Liver segmentations"
   ]
  },
  {
   "cell_type": "code",
   "execution_count": 35,
   "metadata": {},
   "outputs": [],
   "source": [
    "#imports\n",
    "import nibabel as nib\n",
    "import os\n",
    "import numpy as np\n",
    "import matplotlib.pyplot as plt\n",
    "import cv2\n",
    "import math\n",
    "\n",
    "# Set numpy print options to avoid truncation\n",
    "#np.set_printoptions(threshold=np.inf)"
   ]
  },
  {
   "cell_type": "code",
   "execution_count": null,
   "metadata": {},
   "outputs": [
    {
     "name": "stdout",
     "output_type": "stream",
     "text": [
      "[162 119   3] [459 349  52]\n"
     ]
    }
   ],
   "source": [
    "#use first image as example\n",
    "\n",
    "#12 and 13 are liver\n",
    "#image and segmentation have the same affine matrix\n",
    "#did not yet update affine and header (not necessary?)\n",
    "\n",
    "scans_path = \"L:/Basic/divi/jstoker/slicer_pdac/Master Students WS 24/Martijn/data/last scan niftis cropped\"\n",
    "segmentations_path = \"L:/Basic/divi/jstoker/slicer_pdac/Master Students WS 24/Martijn/data/last segmentations cropped\"\n",
    "\n",
    "#load first image and segmentation\n",
    "image = nib.load(os.path.join(scans_path, \"CAESAR001_1_0000.nii.gz\"))\n",
    "segmentation = nib.load(os.path.join(segmentations_path, \"CAESAR001_1.nii.gz\"))\n",
    "\n",
    "image_data = image.get_fdata()\n",
    "segmentation_data = segmentation.get_fdata()\n",
    "\n",
    "liver_mask = (segmentation_data == 12) | (segmentation_data == 13)\n",
    "\n",
    "#apply mask to image\n",
    "liver_image = np.copy(image_data)\n",
    "liver_image[~liver_mask] = 0\n",
    "\n",
    "# Find the indices of the liver mask\n",
    "mask_indices = np.argwhere(liver_mask)\n",
    "\n",
    "# Calculate the bounding box\n",
    "min_indices = mask_indices.min(axis=0)\n",
    "max_indices = mask_indices.max(axis=0)\n",
    "\n",
    "print(min_indices, max_indices)\n",
    "\n",
    "# Crop the liver image using the bounding box\n",
    "cropped_liver_image = liver_image[min_indices[0]:max_indices[0]+1, min_indices[1]:max_indices[1]+1, min_indices[2]:max_indices[2]+1]\n",
    "#print(cropped_liver_image.shape)\n",
    "#padd with required number of zeros to correct size\n",
    "\n",
    "\n",
    "# # Create a new NIfTI image\n",
    "new_image = nib.Nifti1Image(cropped_liver_image, affine=image.affine, header=image.header)\n",
    "\n",
    "# # Save the new NIfTI image to a file\n",
    "output_path = \"L:/Basic/divi/jstoker/slicer_pdac/Master Students WS 24/Martijn/data/boundingbox_liver_segmentations/test_liver_image.nii.gz\"\n",
    "nib.save(new_image, output_path)\n",
    "\n",
    "# Display multiple plots\n",
    "# for i in range(cropped_liver_image.shape[2]):\n",
    "#     plt.figure()  # Create a new figure for each slice\n",
    "#     plt.imshow(cropped_liver_image[:, :, i], cmap='gray')\n",
    "#     plt.title(f'Slice {i}')\n",
    "#     plt.axis('off')\n",
    "#     plt.show()"
   ]
  },
  {
   "cell_type": "markdown",
   "metadata": {},
   "source": [
    "### Distribution of number of slices"
   ]
  },
  {
   "cell_type": "code",
   "execution_count": 44,
   "metadata": {},
   "outputs": [
    {
     "name": "stdout",
     "output_type": "stream",
     "text": [
      "328\n",
      "376\n"
     ]
    }
   ],
   "source": [
    "#distribution of slices\n",
    "scans_path = \"L:/Basic/divi/jstoker/slicer_pdac/Master Students WS 24/Martijn/data/last scan niftis cropped\"\n",
    "\n",
    "max_slices = 0\n",
    "\n",
    "number_of_slices = []\n",
    "for scan in os.listdir(scans_path):\n",
    "    image = nib.load(os.path.join(scans_path, scan))\n",
    "    image_shape = image.header.get_data_shape()\n",
    "    max_slices = max(max_slices, image_shape[2])    \n",
    "    if image_shape[2] < 150:\n",
    "        number_of_slices.append(image_shape[2])\n",
    "\n",
    "print(len(number_of_slices))\n",
    "print(max_slices)\n",
    "#plt.hist(number_of_slices)\n",
    "#plt.show() "
   ]
  },
  {
   "cell_type": "markdown",
   "metadata": {},
   "source": [
    "### Create segmentation and bounding box"
   ]
  },
  {
   "cell_type": "code",
   "execution_count": null,
   "metadata": {},
   "outputs": [],
   "source": [
    "#does not update affine and header\n",
    "\n",
    "scans_path = \"L:/Basic/divi/jstoker/slicer_pdac/Master Students WS 24/Martijn/data/last scan niftis cropped\"\n",
    "segmentations_path = \"L:/Basic/divi/jstoker/slicer_pdac/Master Students WS 24/Martijn/data/last segmentations cropped\"\n",
    "output_path = \"L:/Basic/divi/jstoker/slicer_pdac/Master Students WS 24/Martijn/data/boundingbox_liver_segmentations\"\n",
    "\n",
    "max_dimensions = [0, 0, 0]\n",
    "\n",
    "for scan in os.listdir(scans_path):\n",
    "    print(scan)\n",
    "    \n",
    "    #load image and corresponding segmentation\n",
    "    image = nib.load(os.path.join(scans_path, scan))\n",
    "\n",
    "    segm_filename = scan.replace(\"_0000\", \"\")\n",
    "    segmentation = nib.load(os.path.join(segmentations_path, segm_filename))\n",
    "\n",
    "    image_data = image.get_fdata()\n",
    "    segmentation_data = segmentation.get_fdata()\n",
    "\n",
    "    liver_mask = (segmentation_data == 12) | (segmentation_data == 13)\n",
    "\n",
    "    #apply mask to image\n",
    "    liver_image = np.copy(image_data)\n",
    "    liver_image[~liver_mask] = 0\n",
    "\n",
    "    # Find the indices of the liver mask\n",
    "    mask_indices = np.argwhere(liver_mask)\n",
    "\n",
    "    # Calculate the bounding box\n",
    "    min_indices = mask_indices.min(axis=0)\n",
    "    max_indices = mask_indices.max(axis=0)\n",
    "\n",
    "    # Crop the liver image using the bounding box\n",
    "    cropped_liver_image = liver_image[min_indices[0]:max_indices[0]+1, min_indices[1]:max_indices[1]+1, min_indices[2]:max_indices[2]+1]\n",
    "    \n",
    "    # Update the maximum dimensions\n",
    "    max_dimensions = np.maximum(max_dimensions, cropped_liver_image.shape)\n",
    "\n",
    "    # Create a new NIfTI image\n",
    "    new_image = nib.Nifti1Image(cropped_liver_image, affine=image.affine, header=image.header)\n",
    "\n",
    "    # Save the new NIfTI image to a file with the original name\n",
    "    new_filename = scan.split(\".\")[0] + \"_cropped.nii.gz\"\n",
    "    output_file_path = os.path.join(output_path, new_filename)\n",
    "    nib.save(new_image, output_file_path)\n",
    "\n",
    "print(max_dimensions)"
   ]
  },
  {
   "cell_type": "code",
   "execution_count": null,
   "metadata": {},
   "outputs": [
    {
     "name": "stdout",
     "output_type": "stream",
     "text": [
      "366\n"
     ]
    }
   ],
   "source": [
    "#check the shape of every image\n",
    "scans_path = \"L:/Basic/divi/jstoker/slicer_pdac/Master Students WS 24/Martijn/data/boundingbox_liver_segmentations\"\n",
    "\n",
    "first_dim = []\n",
    "second_dim = []\n",
    "third_dim = []\n",
    "max_slices = 0\n",
    "\n",
    "for scan in os.listdir(scans_path):\n",
    "    image = nib.load(os.path.join(scans_path, scan))\n",
    "    image_data = image.get_fdata()\n",
    "    first_dim.append(image_data.shape[0])\n",
    "    second_dim.append(image_data.shape[1])\n",
    "    third_dim.append(image_data.shape[2])\n",
    "    max_slices = max(max_slices, image_data.shape[2])\n",
    "\n",
    "print(max_slices)\n"
   ]
  },
  {
   "cell_type": "code",
   "execution_count": 42,
   "metadata": {},
   "outputs": [
    {
     "data": {
      "image/png": "[encoded data removed]",
      "text/plain": [
       "<Figure size 640x480 with 1 Axes>"
      ]
     },
     "metadata": {},
     "output_type": "display_data"
    }
   ],
   "source": [
    "plt.hist(first_dim, color='red')\n",
    "plt.hist(second_dim, color='blue')\n",
    "plt.hist(third_dim, color='green')\n",
    "plt.show()"
   ]
  },
  {
   "cell_type": "markdown",
   "metadata": {},
   "source": [
    "### Add appropriate padding for every scan"
   ]
  },
  {
   "cell_type": "code",
   "execution_count": null,
   "metadata": {},
   "outputs": [],
   "source": [
    "#add padding for all images with a 100 slices or less\n",
    "\n",
    "boundingbox_segm_path = \"L:/Basic/divi/jstoker/slicer_pdac/Master Students WS 24/Martijn/data/boundingbox_liver_segmentations\"\n",
    "padded_segm_path = \"L:/Basic/divi/jstoker/slicer_pdac/Master Students WS 24/Martijn/data/padded_liver_segmentations\"\n",
    "\n",
    "#largest dimensions of all images\n",
    "#biggest image is: [429, 341, 366]\n",
    "max_dimensions = [430, 345, 100]\n",
    "\n",
    "for scan in os.listdir(boundingbox_segm_path):\n",
    "    print(scan)\n",
    "    #load image\n",
    "    image = nib.load(os.path.join(boundingbox_segm_path, scan))\n",
    "\n",
    "    image_data = image.get_fdata()\n",
    "    liver_image = np.copy(image_data)\n",
    "\n",
    "    if image_data.shape[2]  <= 100:\n",
    "\n",
    "        # Calculate the padding widths for each dimension\n",
    "        pad_widths = []\n",
    "        for max_dim, curr_dim in zip(max_dimensions, liver_image.shape):\n",
    "            total_pad = max_dim - curr_dim\n",
    "            pad_before = total_pad // 2\n",
    "            pad_after = total_pad - pad_before\n",
    "            pad_widths.append((pad_before, pad_after))\n",
    "\n",
    "        # Pad the liver image with zeros to the desired size\n",
    "        padded_liver_image = np.pad(liver_image, pad_widths, mode='constant', constant_values=0)\n",
    "\n",
    "        # Modify the header to update the dimensions\n",
    "        new_header = image.header.copy()\n",
    "        new_header['dim'][0] = 3  # Number of dimensions\n",
    "        new_header['dim'][1:4] = padded_liver_image.shape  # Update dimensions\n",
    "\n",
    "        # Create a new NIfTI image\n",
    "        new_image = nib.Nifti1Image(padded_liver_image, affine=image.affine, header=new_header)\n",
    "\n",
    "        # Save the new NIfTI image to a file with the original name\n",
    "        output_file_path = os.path.join(padded_segm_path, f\"{scan[:-14]}padded.nii.gz\")\n",
    "        nib.save(new_image, output_file_path)"
   ]
  },
  {
   "cell_type": "code",
   "execution_count": 24,
   "metadata": {},
   "outputs": [
    {
     "ename": "error",
     "evalue": "OpenCV(4.11.0) :-1: error: (-5:Bad argument) in function 'resize'\n> Overload resolution failed:\n>  - Can't parse 'dsize'. Expected sequence length 2, got 3\n>  - Can't parse 'dsize'. Expected sequence length 2, got 3\n",
     "output_type": "error",
     "traceback": [
      "\u001b[31m---------------------------------------------------------------------------\u001b[39m",
      "\u001b[31merror\u001b[39m                                     Traceback (most recent call last)",
      "\u001b[36mCell\u001b[39m\u001b[36m \u001b[39m\u001b[32mIn[24]\u001b[39m\u001b[32m, line 13\u001b[39m\n\u001b[32m     11\u001b[39m image_data = image.get_fdata()\n\u001b[32m     12\u001b[39m \u001b[38;5;28;01mif\u001b[39;00m image_data.shape[\u001b[32m2\u001b[39m] > \u001b[32m100\u001b[39m:\n\u001b[32m---> \u001b[39m\u001b[32m13\u001b[39m     downsized = \u001b[43mcv2\u001b[49m\u001b[43m.\u001b[49m\u001b[43mresize\u001b[49m\u001b[43m(\u001b[49m\u001b[43mimage_data\u001b[49m\u001b[43m,\u001b[49m\u001b[43m \u001b[49m\u001b[43mdsize\u001b[49m\u001b[43m=\u001b[49m\u001b[43m(\u001b[49m\u001b[43mimage_data\u001b[49m\u001b[43m.\u001b[49m\u001b[43mshape\u001b[49m\u001b[43m[\u001b[49m\u001b[32;43m0\u001b[39;49m\u001b[43m]\u001b[49m\u001b[43m,\u001b[49m\u001b[43m \u001b[49m\u001b[43mimage_data\u001b[49m\u001b[43m.\u001b[49m\u001b[43mshape\u001b[49m\u001b[43m[\u001b[49m\u001b[32;43m1\u001b[39;49m\u001b[43m]\u001b[49m\u001b[43m,\u001b[49m\u001b[43m \u001b[49m\u001b[32;43m100\u001b[39;49m\u001b[43m)\u001b[49m\u001b[43m)\u001b[49m\n\u001b[32m     15\u001b[39m     \u001b[38;5;66;03m# Create a new NIfTI image\u001b[39;00m\n\u001b[32m     16\u001b[39m     new_image = nib.Nifti1Image(downsized, affine=image.affine, header=image.header)\n",
      "\u001b[31merror\u001b[39m: OpenCV(4.11.0) :-1: error: (-5:Bad argument) in function 'resize'\n> Overload resolution failed:\n>  - Can't parse 'dsize'. Expected sequence length 2, got 3\n>  - Can't parse 'dsize'. Expected sequence length 2, got 3\n"
     ]
    }
   ],
   "source": [
    "#downsize imgages with more than a 100 slices and pad\n",
    "\n",
    "\n",
    "boundingbox_segm_path = \"L:/Basic/divi/jstoker/slicer_pdac/Master Students WS 24/Martijn/data/boundingbox_liver_segmentations\"\n",
    "padded_segm_path = \"L:/Basic/divi/jstoker/slicer_pdac/Master Students WS 24/Martijn/data/downsized_padded_liver_segmentations\"\n",
    "\n",
    "for scan in os.listdir(boundingbox_segm_path):\n",
    "    #load first image and segmentation\n",
    "    image = nib.load(os.path.join(boundingbox_segm_path, scan))\n",
    "\n",
    "    image_data = image.get_fdata()\n",
    "    if image_data.shape[2] > 100:\n",
    "        downsized = cv2.resize(image_data, dsize=(image_data.shape[0], image_data.shape[1], 100))\n",
    "\n",
    "        # Create a new NIfTI image\n",
    "        new_image = nib.Nifti1Image(downsized, affine=image.affine, header=image.header)\n",
    "\n",
    "        # Save the new NIfTI image to a file\n",
    "        output_path = \"L:/Basic/divi/jstoker/slicer_pdac/Master Students WS 24/Martijn/data/downsized_padded_liver_segmentations/test_liver_image.nii.gz\"\n",
    "        nib.save(new_image, output_path)\n",
    "        break\n",
    "\n"
   ]
  },
  {
   "cell_type": "markdown",
   "metadata": {},
   "source": [
    "## Sanity checks"
   ]
  },
  {
   "cell_type": "code",
   "execution_count": 18,
   "metadata": {},
   "outputs": [
    {
     "name": "stdout",
     "output_type": "stream",
     "text": [
      "All images have the same size.\n"
     ]
    }
   ],
   "source": [
    "# Path to the folder containing padded liver segmentations\n",
    "padded_segm_path = \"L:/Basic/divi/jstoker/slicer_pdac/Master Students WS 24/Martijn/data/padded_liver_segmentations\"\n",
    "\n",
    "# Initialize a variable to store the shape of the first image\n",
    "reference_shape = None\n",
    "all_same_size = True\n",
    "\n",
    "# Iterate through all files in the folder\n",
    "for scan in os.listdir(padded_segm_path):\n",
    "    # Load the image\n",
    "    image = nib.load(os.path.join(padded_segm_path, scan))\n",
    "    image_data = image.get_fdata()\n",
    "    \n",
    "    # Get the shape of the current image\n",
    "    current_shape = image_data.shape\n",
    "    \n",
    "    # If reference_shape is None, set it to the shape of the first image\n",
    "    if reference_shape is None:\n",
    "        reference_shape = current_shape\n",
    "    else:\n",
    "        # Compare the shape of the current image with the reference shape\n",
    "        if current_shape != reference_shape:\n",
    "            all_same_size = False\n",
    "            print(f\"Image {scan} has a different size: {current_shape}\")\n",
    "            break\n",
    "\n",
    "if all_same_size:\n",
    "    print(\"All images have the same size.\")\n",
    "else:\n",
    "    print(\"Not all images have the same size.\")"
   ]
  },
  {
   "cell_type": "code",
   "execution_count": null,
   "metadata": {},
   "outputs": [
    {
     "name": "stdout",
     "output_type": "stream",
     "text": [
      "CAESAR032_1_0000_cropped.nii.gz\n"
     ]
    },
    {
     "ename": "NameError",
     "evalue": "name 'max_slices' is not defined",
     "output_type": "error",
     "traceback": [
      "\u001b[31m---------------------------------------------------------------------------\u001b[39m",
      "\u001b[31mNameError\u001b[39m                                 Traceback (most recent call last)",
      "\u001b[36mCell\u001b[39m\u001b[36m \u001b[39m\u001b[32mIn[36]\u001b[39m\u001b[32m, line 17\u001b[39m\n\u001b[32m     14\u001b[39m \u001b[38;5;28mprint\u001b[39m(scan)\n\u001b[32m     16\u001b[39m \u001b[38;5;66;03m# Calculate the step size to keep the number of slices under 100\u001b[39;00m\n\u001b[32m---> \u001b[39m\u001b[32m17\u001b[39m step_size = math.ceil(image_data.shape[\u001b[32m2\u001b[39m] / \u001b[43mmax_slices\u001b[49m)\n\u001b[32m     19\u001b[39m \u001b[38;5;66;03m# Use the slicer object to extract a specific slice\u001b[39;00m\n\u001b[32m     20\u001b[39m resampled_image = image.slicer[:, :, ::step_size]  \n",
      "\u001b[31mNameError\u001b[39m: name 'max_slices' is not defined"
     ]
    }
   ],
   "source": [
    "# Define paths\n",
    "input_path = \"L:/Basic/divi/jstoker/slicer_pdac/Master Students WS 24/Martijn/data/boundingbox_liver_segmentations\"\n",
    "output_path = \"L:/Basic/divi/jstoker/slicer_pdac/Master Students WS 24/Martijn/data/downsized_padded_liver_segmentations\"\n",
    "\n",
    "max_dimensions = [430, 345, 100] \n",
    "\n",
    "for scan in os.listdir(input_path):\n",
    "\n",
    "    # Load image\n",
    "    image = nib.load(os.path.join(input_path, scan))\n",
    "    image_data = image.get_fdata()\n",
    "\n",
    "    if image_data.shape[2] > 100:\n",
    "        print(scan)\n",
    "\n",
    "        # Calculate the step size to keep the number of slices under 100\n",
    "        step_size = math.ceil(image_data.shape[2] / 100)\n",
    "\n",
    "        # Use the slicer object to extract a specific slice\n",
    "        resampled_image = image.slicer[:, :, ::step_size]  \n",
    "\n",
    "        image_data = resampled_image.get_fdata()\n",
    "\n",
    "         # Calculate the padding widths for each dimension\n",
    "        pad_widths = []\n",
    "        for max_dim, curr_dim in zip(max_dimensions, image_data.shape):\n",
    "            total_pad = max_dim - curr_dim\n",
    "            pad_before = total_pad // 2\n",
    "            pad_after = total_pad - pad_before\n",
    "            pad_widths.append((pad_before, pad_after))\n",
    "\n",
    "        # Pad the liver image with zeros to the desired size\n",
    "        padded_image = np.pad(image_data, pad_widths, mode='constant', constant_values=0)\n",
    "\n",
    "        # Modify the header to update the dimensions\n",
    "        new_header = resampled_image.header.copy()\n",
    "        new_header['dim'][0] = 3  # Number of dimensions\n",
    "        new_header['dim'][1:4] = padded_liver_image.shape  # Update dimensions\n",
    "\n",
    "        # Create a new NIfTI image\n",
    "        new_image = nib.Nifti1Image(padded_image, affine=image.affine, header=new_filename)\n",
    "\n",
    "        \n",
    "        # Save the resampled image to a file with the original name\n",
    "        output_file_path = os.path.join(output_path, scan)\n",
    "        nib.save(new_image, output_file_path)\n",
    "        break\n",
    "\n"
   ]
  },
  {
   "cell_type": "code",
   "execution_count": null,
   "metadata": {},
   "outputs": [
    {
     "data": {
      "text/plain": [
       "122.0"
      ]
     },
     "execution_count": 34,
     "metadata": {},
     "output_type": "execute_result"
    }
   ],
   "source": []
  }
 ],
 "metadata": {
  "kernelspec": {
   "display_name": "venv",
   "language": "python",
   "name": "python3"
  },
  "language_info": {
   "codemirror_mode": {
    "name": "ipython",
    "version": 3
   },
   "file_extension": ".py",
   "mimetype": "text/x-python",
   "name": "python",
   "nbconvert_exporter": "python",
   "pygments_lexer": "ipython3",
   "version": "3.13.2"
  }
 },
 "nbformat": 4,
 "nbformat_minor": 2
}
