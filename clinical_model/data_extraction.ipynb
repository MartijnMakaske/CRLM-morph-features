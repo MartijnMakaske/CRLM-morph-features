{
 "cells": [
  {
   "cell_type": "code",
   "execution_count": 1,
   "id": "72fa207e",
   "metadata": {},
   "outputs": [],
   "source": [
    "# Imports\n",
    "import os\n",
    "import pandas as pd\n",
    "import numpy as np\n"
   ]
  },
  {
   "cell_type": "markdown",
   "id": "61f8435f",
   "metadata": {},
   "source": [
    "# Clinical data extraction"
   ]
  },
  {
   "cell_type": "code",
   "execution_count": 2,
   "id": "f3bc7fce",
   "metadata": {},
   "outputs": [],
   "source": [
    "#Read in the data\n",
    "data_path = \"L:/Basic/divi/jstoker/slicer_pdac/Master Students WS 24/Martijn/data/dataset_CAESAR_dec23_MASTER.xlsx\"\n",
    "all_data = pd.read_excel(data_path)\n",
    "\n",
    "pat_resp_data_path = \"C:/Users/P095550/OneDrive - Amsterdam UMC/Documenten/GitHub/CRLM-morph-features/CAIRO5_path_responseTRG__dec2023.xlsx\"\n",
    "pat_resp_data = pd.read_excel(pat_resp_data_path)"
   ]
  },
  {
   "cell_type": "markdown",
   "id": "c55292b5",
   "metadata": {},
   "source": [
    "### Training input"
   ]
  },
  {
   "cell_type": "code",
   "execution_count": 11,
   "id": "c5df13f9",
   "metadata": {},
   "outputs": [
    {
     "data": {
      "application/vnd.microsoft.datawrangler.viewer.v0+json": {
       "columns": [
        {
         "name": "index",
         "rawType": "int64",
         "type": "integer"
        },
        {
         "name": "SubjectKey",
         "rawType": "int64",
         "type": "integer"
        },
        {
         "name": "sex",
         "rawType": "object",
         "type": "string"
        },
        {
         "name": "Age",
         "rawType": "int64",
         "type": "integer"
        },
        {
         "name": "largestsize",
         "rawType": "int64",
         "type": "integer"
        },
        {
         "name": "distribution",
         "rawType": "object",
         "type": "string"
        },
        {
         "name": "synchr",
         "rawType": "object",
         "type": "string"
        },
        {
         "name": "sidedness",
         "rawType": "object",
         "type": "string"
        },
        {
         "name": "KRAS",
         "rawType": "int64",
         "type": "integer"
        },
        {
         "name": "NRAS",
         "rawType": "int64",
         "type": "integer"
        },
        {
         "name": "BRAF",
         "rawType": "int64",
         "type": "integer"
        },
        {
         "name": "treatment",
         "rawType": "object",
         "type": "string"
        },
        {
         "name": "CEALEVEL",
         "rawType": "float64",
         "type": "float"
        },
        {
         "name": "TOTMETAS",
         "rawType": "int64",
         "type": "integer"
        },
        {
         "name": "nodalstatus",
         "rawType": "object",
         "type": "string"
        }
       ],
       "conversionMethod": "pd.DataFrame",
       "ref": "cae48cfb-3eda-4ec5-9147-20518d079291",
       "rows": [
        [
         "0",
         "1",
         "Female",
         "56",
         "62",
         "Bilobar",
         "Synchronous",
         "Left",
         "0",
         "0",
         "1",
         "FOLFOX-B",
         "71.8",
         "50",
         "Positive"
        ],
        [
         "1",
         "2",
         "Male",
         "65",
         "34",
         "Bilobar",
         "Synchronous",
         "Left",
         "0",
         "0",
         "0",
         "FOLFOX-P",
         "1200.0",
         "9",
         "Missing"
        ],
        [
         "2",
         "3",
         "Male",
         "55",
         "48",
         "Bilobar",
         "Synchronous",
         "Left",
         "1",
         "0",
         "0",
         "FOLFOX-B",
         "357.0",
         "6",
         "Missing"
        ],
        [
         "3",
         "4",
         "Female",
         "35",
         "67",
         "Bilobar",
         "Synchronous",
         "Left",
         "0",
         "0",
         "0",
         "FOLFOX-P",
         "8090.0",
         "68",
         "Missing"
        ],
        [
         "4",
         "5",
         "Female",
         "57",
         "38",
         "Bilobar",
         "Synchronous",
         "Right",
         "0",
         "0",
         "0",
         "FOLFIRI-B",
         "148.0",
         "9",
         "Positive"
        ]
       ],
       "shape": {
        "columns": 14,
        "rows": 5
       }
      },
      "text/html": [
       "<div>\n",
       "<style scoped>\n",
       "    .dataframe tbody tr th:only-of-type {\n",
       "        vertical-align: middle;\n",
       "    }\n",
       "\n",
       "    .dataframe tbody tr th {\n",
       "        vertical-align: top;\n",
       "    }\n",
       "\n",
       "    .dataframe thead th {\n",
       "        text-align: right;\n",
       "    }\n",
       "</style>\n",
       "<table border=\"1\" class=\"dataframe\">\n",
       "  <thead>\n",
       "    <tr style=\"text-align: right;\">\n",
       "      <th></th>\n",
       "      <th>SubjectKey</th>\n",
       "      <th>sex</th>\n",
       "      <th>Age</th>\n",
       "      <th>largestsize</th>\n",
       "      <th>distribution</th>\n",
       "      <th>synchr</th>\n",
       "      <th>sidedness</th>\n",
       "      <th>KRAS</th>\n",
       "      <th>NRAS</th>\n",
       "      <th>BRAF</th>\n",
       "      <th>treatment</th>\n",
       "      <th>CEALEVEL</th>\n",
       "      <th>TOTMETAS</th>\n",
       "      <th>nodalstatus</th>\n",
       "    </tr>\n",
       "  </thead>\n",
       "  <tbody>\n",
       "    <tr>\n",
       "      <th>0</th>\n",
       "      <td>1</td>\n",
       "      <td>Female</td>\n",
       "      <td>56</td>\n",
       "      <td>62</td>\n",
       "      <td>Bilobar</td>\n",
       "      <td>Synchronous</td>\n",
       "      <td>Left</td>\n",
       "      <td>0</td>\n",
       "      <td>0</td>\n",
       "      <td>1</td>\n",
       "      <td>FOLFOX-B</td>\n",
       "      <td>71.8</td>\n",
       "      <td>50</td>\n",
       "      <td>Positive</td>\n",
       "    </tr>\n",
       "    <tr>\n",
       "      <th>1</th>\n",
       "      <td>2</td>\n",
       "      <td>Male</td>\n",
       "      <td>65</td>\n",
       "      <td>34</td>\n",
       "      <td>Bilobar</td>\n",
       "      <td>Synchronous</td>\n",
       "      <td>Left</td>\n",
       "      <td>0</td>\n",
       "      <td>0</td>\n",
       "      <td>0</td>\n",
       "      <td>FOLFOX-P</td>\n",
       "      <td>1200.0</td>\n",
       "      <td>9</td>\n",
       "      <td>Missing</td>\n",
       "    </tr>\n",
       "    <tr>\n",
       "      <th>2</th>\n",
       "      <td>3</td>\n",
       "      <td>Male</td>\n",
       "      <td>55</td>\n",
       "      <td>48</td>\n",
       "      <td>Bilobar</td>\n",
       "      <td>Synchronous</td>\n",
       "      <td>Left</td>\n",
       "      <td>1</td>\n",
       "      <td>0</td>\n",
       "      <td>0</td>\n",
       "      <td>FOLFOX-B</td>\n",
       "      <td>357.0</td>\n",
       "      <td>6</td>\n",
       "      <td>Missing</td>\n",
       "    </tr>\n",
       "    <tr>\n",
       "      <th>3</th>\n",
       "      <td>4</td>\n",
       "      <td>Female</td>\n",
       "      <td>35</td>\n",
       "      <td>67</td>\n",
       "      <td>Bilobar</td>\n",
       "      <td>Synchronous</td>\n",
       "      <td>Left</td>\n",
       "      <td>0</td>\n",
       "      <td>0</td>\n",
       "      <td>0</td>\n",
       "      <td>FOLFOX-P</td>\n",
       "      <td>8090.0</td>\n",
       "      <td>68</td>\n",
       "      <td>Missing</td>\n",
       "    </tr>\n",
       "    <tr>\n",
       "      <th>4</th>\n",
       "      <td>5</td>\n",
       "      <td>Female</td>\n",
       "      <td>57</td>\n",
       "      <td>38</td>\n",
       "      <td>Bilobar</td>\n",
       "      <td>Synchronous</td>\n",
       "      <td>Right</td>\n",
       "      <td>0</td>\n",
       "      <td>0</td>\n",
       "      <td>0</td>\n",
       "      <td>FOLFIRI-B</td>\n",
       "      <td>148.0</td>\n",
       "      <td>9</td>\n",
       "      <td>Positive</td>\n",
       "    </tr>\n",
       "  </tbody>\n",
       "</table>\n",
       "</div>"
      ],
      "text/plain": [
       "   SubjectKey     sex  Age  largestsize distribution       synchr sidedness  \\\n",
       "0           1  Female   56           62      Bilobar  Synchronous      Left   \n",
       "1           2    Male   65           34      Bilobar  Synchronous      Left   \n",
       "2           3    Male   55           48      Bilobar  Synchronous      Left   \n",
       "3           4  Female   35           67      Bilobar  Synchronous      Left   \n",
       "4           5  Female   57           38      Bilobar  Synchronous     Right   \n",
       "\n",
       "   KRAS  NRAS  BRAF  treatment  CEALEVEL  TOTMETAS nodalstatus  \n",
       "0     0     0     1   FOLFOX-B      71.8        50    Positive  \n",
       "1     0     0     0   FOLFOX-P    1200.0         9     Missing  \n",
       "2     1     0     0   FOLFOX-B     357.0         6     Missing  \n",
       "3     0     0     0   FOLFOX-P    8090.0        68     Missing  \n",
       "4     0     0     0  FOLFIRI-B     148.0         9    Positive  "
      ]
     },
     "execution_count": 11,
     "metadata": {},
     "output_type": "execute_result"
    }
   ],
   "source": [
    "training_data = all_data[[\"SubjectKey\", \"sex\", \"Age\", \"largestsize\", \"distribution\", \"synchr\", \"sidedness\", \"KRAS\", \"NRAS\", \"BRAF\", \"treatment\", \"CEALEVEL\", \"TOTMETAS\", \"nodalstatus\"]]\n",
    "training_data.head()\n"
   ]
  },
  {
   "cell_type": "code",
   "execution_count": 12,
   "id": "fa053eaa",
   "metadata": {},
   "outputs": [
    {
     "name": "stderr",
     "output_type": "stream",
     "text": [
      "C:\\Users\\P095550\\AppData\\Local\\Temp\\ipykernel_17220\\1652726995.py:2: SettingWithCopyWarning: \n",
      "A value is trying to be set on a copy of a slice from a DataFrame.\n",
      "Try using .loc[row_indexer,col_indexer] = value instead\n",
      "\n",
      "See the caveats in the documentation: https://pandas.pydata.org/pandas-docs/stable/user_guide/indexing.html#returning-a-view-versus-a-copy\n",
      "  training_data[\"male\"] = training_data[\"sex\"].apply(lambda x: 1 if x == \"Male\" else 0)\n",
      "C:\\Users\\P095550\\AppData\\Local\\Temp\\ipykernel_17220\\1652726995.py:3: SettingWithCopyWarning: \n",
      "A value is trying to be set on a copy of a slice from a DataFrame.\n",
      "Try using .loc[row_indexer,col_indexer] = value instead\n",
      "\n",
      "See the caveats in the documentation: https://pandas.pydata.org/pandas-docs/stable/user_guide/indexing.html#returning-a-view-versus-a-copy\n",
      "  training_data[\"synchr\"] = training_data[\"synchr\"].apply(lambda x: 1 if x == \"Synchronous\" else 0)\n",
      "C:\\Users\\P095550\\AppData\\Local\\Temp\\ipykernel_17220\\1652726995.py:4: SettingWithCopyWarning: \n",
      "A value is trying to be set on a copy of a slice from a DataFrame.\n",
      "Try using .loc[row_indexer,col_indexer] = value instead\n",
      "\n",
      "See the caveats in the documentation: https://pandas.pydata.org/pandas-docs/stable/user_guide/indexing.html#returning-a-view-versus-a-copy\n",
      "  training_data[\"left_sidedness\"] = training_data[\"sidedness\"].apply(lambda x: 1 if x == \"Left\" else 0)\n",
      "C:\\Users\\P095550\\AppData\\Local\\Temp\\ipykernel_17220\\1652726995.py:5: SettingWithCopyWarning: \n",
      "A value is trying to be set on a copy of a slice from a DataFrame.\n",
      "Try using .loc[row_indexer,col_indexer] = value instead\n",
      "\n",
      "See the caveats in the documentation: https://pandas.pydata.org/pandas-docs/stable/user_guide/indexing.html#returning-a-view-versus-a-copy\n",
      "  training_data[\"bevacizumab\"] = training_data[\"treatment\"].apply(lambda x: 1 if x.endswith(\"B\") else 0)\n",
      "C:\\Users\\P095550\\AppData\\Local\\Temp\\ipykernel_17220\\1652726995.py:6: SettingWithCopyWarning: \n",
      "A value is trying to be set on a copy of a slice from a DataFrame.\n",
      "Try using .loc[row_indexer,col_indexer] = value instead\n",
      "\n",
      "See the caveats in the documentation: https://pandas.pydata.org/pandas-docs/stable/user_guide/indexing.html#returning-a-view-versus-a-copy\n",
      "  training_data[\"bilobar\"] = training_data[\"distribution\"].apply(lambda x: 1 if x == \"Bilobar\" else 0)\n",
      "C:\\Users\\P095550\\AppData\\Local\\Temp\\ipykernel_17220\\1652726995.py:8: SettingWithCopyWarning: \n",
      "A value is trying to be set on a copy of a slice from a DataFrame.\n",
      "Try using .loc[row_indexer,col_indexer] = value instead\n",
      "\n",
      "See the caveats in the documentation: https://pandas.pydata.org/pandas-docs/stable/user_guide/indexing.html#returning-a-view-versus-a-copy\n",
      "  training_data[\"nodalstatus\"] = training_data[\"nodalstatus\"].apply(lambda x: 1 if x == \"Positive\" else (0 if x == \"Negative\" else np.nan))\n",
      "C:\\Users\\P095550\\AppData\\Local\\Temp\\ipykernel_17220\\1652726995.py:12: SettingWithCopyWarning: \n",
      "A value is trying to be set on a copy of a slice from a DataFrame\n",
      "\n",
      "See the caveats in the documentation: https://pandas.pydata.org/pandas-docs/stable/user_guide/indexing.html#returning-a-view-versus-a-copy\n",
      "  training_data.drop(columns=[\"sex\", \"sidedness\", \"treatment\", \"distribution\"], inplace=True)\n"
     ]
    }
   ],
   "source": [
    "# Correctly apply transformations to columns\n",
    "training_data[\"male\"] = training_data[\"sex\"].apply(lambda x: 1 if x == \"Male\" else 0)\n",
    "training_data[\"synchr\"] = training_data[\"synchr\"].apply(lambda x: 1 if x == \"Synchronous\" else 0)\n",
    "training_data[\"left_sidedness\"] = training_data[\"sidedness\"].apply(lambda x: 1 if x == \"Left\" else 0)\n",
    "training_data[\"bevacizumab\"] = training_data[\"treatment\"].apply(lambda x: 1 if x.endswith(\"B\") else 0)\n",
    "training_data[\"bilobar\"] = training_data[\"distribution\"].apply(lambda x: 1 if x == \"Bilobar\" else 0)\n",
    "#training_data[\"nodalstatus\"] = training_data[\"nodalstatus\"].replace(\"Missing\", np.nan)\n",
    "training_data[\"nodalstatus\"] = training_data[\"nodalstatus\"].apply(lambda x: 1 if x == \"Positive\" else (0 if x == \"Negative\" else np.nan))\n",
    "\n",
    "\n",
    "# Drop the original columns if they are no longer needed\n",
    "training_data.drop(columns=[\"sex\", \"sidedness\", \"treatment\", \"distribution\"], inplace=True)"
   ]
  },
  {
   "cell_type": "code",
   "execution_count": 13,
   "id": "5392ed7e",
   "metadata": {},
   "outputs": [
    {
     "name": "stdout",
     "output_type": "stream",
     "text": [
      "SubjectKey          0\n",
      "Age                 0\n",
      "largestsize         0\n",
      "synchr              0\n",
      "KRAS                0\n",
      "NRAS                0\n",
      "BRAF                0\n",
      "CEALEVEL            1\n",
      "TOTMETAS            0\n",
      "nodalstatus       361\n",
      "male                0\n",
      "left_sidedness      0\n",
      "bevacizumab         0\n",
      "bilobar             0\n",
      "dtype: int64\n"
     ]
    }
   ],
   "source": [
    "nan_counts = training_data.isna().sum()\n",
    "print(nan_counts)"
   ]
  },
  {
   "cell_type": "code",
   "execution_count": 14,
   "id": "cc85cf4b",
   "metadata": {},
   "outputs": [
    {
     "data": {
      "application/vnd.microsoft.datawrangler.viewer.v0+json": {
       "columns": [
        {
         "name": "index",
         "rawType": "int64",
         "type": "integer"
        },
        {
         "name": "SubjectKey",
         "rawType": "int64",
         "type": "integer"
        },
        {
         "name": "Age",
         "rawType": "int64",
         "type": "integer"
        },
        {
         "name": "largestsize",
         "rawType": "int64",
         "type": "integer"
        },
        {
         "name": "synchr",
         "rawType": "int64",
         "type": "integer"
        },
        {
         "name": "KRAS",
         "rawType": "int64",
         "type": "integer"
        },
        {
         "name": "NRAS",
         "rawType": "int64",
         "type": "integer"
        },
        {
         "name": "BRAF",
         "rawType": "int64",
         "type": "integer"
        },
        {
         "name": "CEALEVEL",
         "rawType": "float64",
         "type": "float"
        },
        {
         "name": "TOTMETAS",
         "rawType": "int64",
         "type": "integer"
        },
        {
         "name": "nodalstatus",
         "rawType": "float64",
         "type": "float"
        },
        {
         "name": "male",
         "rawType": "int64",
         "type": "integer"
        },
        {
         "name": "left_sidedness",
         "rawType": "int64",
         "type": "integer"
        },
        {
         "name": "bevacizumab",
         "rawType": "int64",
         "type": "integer"
        },
        {
         "name": "bilobar",
         "rawType": "int64",
         "type": "integer"
        }
       ],
       "conversionMethod": "pd.DataFrame",
       "ref": "6beb3827-7d18-4637-a10a-7e33f2d2dbda",
       "rows": [
        [
         "0",
         "1",
         "56",
         "62",
         "1",
         "0",
         "0",
         "1",
         "71.8",
         "50",
         "1.0",
         "0",
         "1",
         "1",
         "1"
        ],
        [
         "1",
         "2",
         "65",
         "34",
         "1",
         "0",
         "0",
         "0",
         "1200.0",
         "9",
         null,
         "1",
         "1",
         "0",
         "1"
        ],
        [
         "2",
         "3",
         "55",
         "48",
         "1",
         "1",
         "0",
         "0",
         "357.0",
         "6",
         null,
         "1",
         "1",
         "1",
         "1"
        ],
        [
         "3",
         "4",
         "35",
         "67",
         "1",
         "0",
         "0",
         "0",
         "8090.0",
         "68",
         null,
         "0",
         "1",
         "0",
         "1"
        ],
        [
         "4",
         "5",
         "57",
         "38",
         "1",
         "0",
         "0",
         "0",
         "148.0",
         "9",
         "1.0",
         "0",
         "0",
         "1",
         "1"
        ]
       ],
       "shape": {
        "columns": 14,
        "rows": 5
       }
      },
      "text/html": [
       "<div>\n",
       "<style scoped>\n",
       "    .dataframe tbody tr th:only-of-type {\n",
       "        vertical-align: middle;\n",
       "    }\n",
       "\n",
       "    .dataframe tbody tr th {\n",
       "        vertical-align: top;\n",
       "    }\n",
       "\n",
       "    .dataframe thead th {\n",
       "        text-align: right;\n",
       "    }\n",
       "</style>\n",
       "<table border=\"1\" class=\"dataframe\">\n",
       "  <thead>\n",
       "    <tr style=\"text-align: right;\">\n",
       "      <th></th>\n",
       "      <th>SubjectKey</th>\n",
       "      <th>Age</th>\n",
       "      <th>largestsize</th>\n",
       "      <th>synchr</th>\n",
       "      <th>KRAS</th>\n",
       "      <th>NRAS</th>\n",
       "      <th>BRAF</th>\n",
       "      <th>CEALEVEL</th>\n",
       "      <th>TOTMETAS</th>\n",
       "      <th>nodalstatus</th>\n",
       "      <th>male</th>\n",
       "      <th>left_sidedness</th>\n",
       "      <th>bevacizumab</th>\n",
       "      <th>bilobar</th>\n",
       "    </tr>\n",
       "  </thead>\n",
       "  <tbody>\n",
       "    <tr>\n",
       "      <th>0</th>\n",
       "      <td>1</td>\n",
       "      <td>56</td>\n",
       "      <td>62</td>\n",
       "      <td>1</td>\n",
       "      <td>0</td>\n",
       "      <td>0</td>\n",
       "      <td>1</td>\n",
       "      <td>71.8</td>\n",
       "      <td>50</td>\n",
       "      <td>1.0</td>\n",
       "      <td>0</td>\n",
       "      <td>1</td>\n",
       "      <td>1</td>\n",
       "      <td>1</td>\n",
       "    </tr>\n",
       "    <tr>\n",
       "      <th>1</th>\n",
       "      <td>2</td>\n",
       "      <td>65</td>\n",
       "      <td>34</td>\n",
       "      <td>1</td>\n",
       "      <td>0</td>\n",
       "      <td>0</td>\n",
       "      <td>0</td>\n",
       "      <td>1200.0</td>\n",
       "      <td>9</td>\n",
       "      <td>NaN</td>\n",
       "      <td>1</td>\n",
       "      <td>1</td>\n",
       "      <td>0</td>\n",
       "      <td>1</td>\n",
       "    </tr>\n",
       "    <tr>\n",
       "      <th>2</th>\n",
       "      <td>3</td>\n",
       "      <td>55</td>\n",
       "      <td>48</td>\n",
       "      <td>1</td>\n",
       "      <td>1</td>\n",
       "      <td>0</td>\n",
       "      <td>0</td>\n",
       "      <td>357.0</td>\n",
       "      <td>6</td>\n",
       "      <td>NaN</td>\n",
       "      <td>1</td>\n",
       "      <td>1</td>\n",
       "      <td>1</td>\n",
       "      <td>1</td>\n",
       "    </tr>\n",
       "    <tr>\n",
       "      <th>3</th>\n",
       "      <td>4</td>\n",
       "      <td>35</td>\n",
       "      <td>67</td>\n",
       "      <td>1</td>\n",
       "      <td>0</td>\n",
       "      <td>0</td>\n",
       "      <td>0</td>\n",
       "      <td>8090.0</td>\n",
       "      <td>68</td>\n",
       "      <td>NaN</td>\n",
       "      <td>0</td>\n",
       "      <td>1</td>\n",
       "      <td>0</td>\n",
       "      <td>1</td>\n",
       "    </tr>\n",
       "    <tr>\n",
       "      <th>4</th>\n",
       "      <td>5</td>\n",
       "      <td>57</td>\n",
       "      <td>38</td>\n",
       "      <td>1</td>\n",
       "      <td>0</td>\n",
       "      <td>0</td>\n",
       "      <td>0</td>\n",
       "      <td>148.0</td>\n",
       "      <td>9</td>\n",
       "      <td>1.0</td>\n",
       "      <td>0</td>\n",
       "      <td>0</td>\n",
       "      <td>1</td>\n",
       "      <td>1</td>\n",
       "    </tr>\n",
       "  </tbody>\n",
       "</table>\n",
       "</div>"
      ],
      "text/plain": [
       "   SubjectKey  Age  largestsize  synchr  KRAS  NRAS  BRAF  CEALEVEL  TOTMETAS  \\\n",
       "0           1   56           62       1     0     0     1      71.8        50   \n",
       "1           2   65           34       1     0     0     0    1200.0         9   \n",
       "2           3   55           48       1     1     0     0     357.0         6   \n",
       "3           4   35           67       1     0     0     0    8090.0        68   \n",
       "4           5   57           38       1     0     0     0     148.0         9   \n",
       "\n",
       "   nodalstatus  male  left_sidedness  bevacizumab  bilobar  \n",
       "0          1.0     0               1            1        1  \n",
       "1          NaN     1               1            0        1  \n",
       "2          NaN     1               1            1        1  \n",
       "3          NaN     0               1            0        1  \n",
       "4          1.0     0               0            1        1  "
      ]
     },
     "execution_count": 14,
     "metadata": {},
     "output_type": "execute_result"
    }
   ],
   "source": [
    "training_data.head()"
   ]
  },
  {
   "cell_type": "code",
   "execution_count": 15,
   "id": "534459f9",
   "metadata": {},
   "outputs": [],
   "source": [
    "# Subset the data to only include patients which we have CT scans for\n",
    "\n",
    "paired_scans_path = \"L:/Basic/divi/jstoker/slicer_pdac/Master Students WS 24/Martijn/data/Training/paired_scans\"\n",
    "subject_keys = set()\n",
    "for filename in os.listdir(paired_scans_path):\n",
    "    subject_keys.add(int(filename[6:9]))\n",
    "\n",
    "training_data = training_data[training_data[\"SubjectKey\"].isin(subject_keys)]\n",
    "\n",
    "training_data.drop(columns=[\"SubjectKey\"], inplace=True)"
   ]
  },
  {
   "cell_type": "code",
   "execution_count": 9,
   "id": "412fcf13",
   "metadata": {},
   "outputs": [
    {
     "data": {
      "application/vnd.microsoft.datawrangler.viewer.v0+json": {
       "columns": [
        {
         "name": "index",
         "rawType": "int64",
         "type": "integer"
        },
        {
         "name": "Age",
         "rawType": "int64",
         "type": "integer"
        },
        {
         "name": "largestsize",
         "rawType": "int64",
         "type": "integer"
        },
        {
         "name": "synchr",
         "rawType": "int64",
         "type": "integer"
        },
        {
         "name": "KRAS",
         "rawType": "int64",
         "type": "integer"
        },
        {
         "name": "NRAS",
         "rawType": "int64",
         "type": "integer"
        },
        {
         "name": "BRAF",
         "rawType": "int64",
         "type": "integer"
        },
        {
         "name": "CEALEVEL",
         "rawType": "float64",
         "type": "float"
        },
        {
         "name": "TOTMETAS",
         "rawType": "int64",
         "type": "integer"
        },
        {
         "name": "male",
         "rawType": "int64",
         "type": "integer"
        },
        {
         "name": "left_sidedness",
         "rawType": "int64",
         "type": "integer"
        },
        {
         "name": "bevacizumab",
         "rawType": "int64",
         "type": "integer"
        },
        {
         "name": "bilobar",
         "rawType": "int64",
         "type": "integer"
        }
       ],
       "conversionMethod": "pd.DataFrame",
       "ref": "0b0d3a4f-fbd3-4c31-bf85-32ee35441401",
       "rows": [
        [
         "0",
         "56",
         "62",
         "1",
         "0",
         "0",
         "1",
         "71.8",
         "50",
         "0",
         "1",
         "1",
         "1"
        ],
        [
         "3",
         "35",
         "67",
         "1",
         "0",
         "0",
         "0",
         "8090.0",
         "68",
         "0",
         "1",
         "0",
         "1"
        ],
        [
         "6",
         "54",
         "25",
         "1",
         "1",
         "0",
         "0",
         "1.9",
         "3",
         "1",
         "0",
         "1",
         "0"
        ],
        [
         "7",
         "33",
         "59",
         "1",
         "0",
         "0",
         "0",
         "231.0",
         "17",
         "0",
         "1",
         "1",
         "1"
        ],
        [
         "9",
         "72",
         "85",
         "1",
         "0",
         "0",
         "0",
         "104.2",
         "15",
         "0",
         "1",
         "0",
         "1"
        ]
       ],
       "shape": {
        "columns": 12,
        "rows": 5
       }
      },
      "text/html": [
       "<div>\n",
       "<style scoped>\n",
       "    .dataframe tbody tr th:only-of-type {\n",
       "        vertical-align: middle;\n",
       "    }\n",
       "\n",
       "    .dataframe tbody tr th {\n",
       "        vertical-align: top;\n",
       "    }\n",
       "\n",
       "    .dataframe thead th {\n",
       "        text-align: right;\n",
       "    }\n",
       "</style>\n",
       "<table border=\"1\" class=\"dataframe\">\n",
       "  <thead>\n",
       "    <tr style=\"text-align: right;\">\n",
       "      <th></th>\n",
       "      <th>Age</th>\n",
       "      <th>largestsize</th>\n",
       "      <th>synchr</th>\n",
       "      <th>KRAS</th>\n",
       "      <th>NRAS</th>\n",
       "      <th>BRAF</th>\n",
       "      <th>CEALEVEL</th>\n",
       "      <th>TOTMETAS</th>\n",
       "      <th>male</th>\n",
       "      <th>left_sidedness</th>\n",
       "      <th>bevacizumab</th>\n",
       "      <th>bilobar</th>\n",
       "    </tr>\n",
       "  </thead>\n",
       "  <tbody>\n",
       "    <tr>\n",
       "      <th>0</th>\n",
       "      <td>56</td>\n",
       "      <td>62</td>\n",
       "      <td>1</td>\n",
       "      <td>0</td>\n",
       "      <td>0</td>\n",
       "      <td>1</td>\n",
       "      <td>71.8</td>\n",
       "      <td>50</td>\n",
       "      <td>0</td>\n",
       "      <td>1</td>\n",
       "      <td>1</td>\n",
       "      <td>1</td>\n",
       "    </tr>\n",
       "    <tr>\n",
       "      <th>3</th>\n",
       "      <td>35</td>\n",
       "      <td>67</td>\n",
       "      <td>1</td>\n",
       "      <td>0</td>\n",
       "      <td>0</td>\n",
       "      <td>0</td>\n",
       "      <td>8090.0</td>\n",
       "      <td>68</td>\n",
       "      <td>0</td>\n",
       "      <td>1</td>\n",
       "      <td>0</td>\n",
       "      <td>1</td>\n",
       "    </tr>\n",
       "    <tr>\n",
       "      <th>6</th>\n",
       "      <td>54</td>\n",
       "      <td>25</td>\n",
       "      <td>1</td>\n",
       "      <td>1</td>\n",
       "      <td>0</td>\n",
       "      <td>0</td>\n",
       "      <td>1.9</td>\n",
       "      <td>3</td>\n",
       "      <td>1</td>\n",
       "      <td>0</td>\n",
       "      <td>1</td>\n",
       "      <td>0</td>\n",
       "    </tr>\n",
       "    <tr>\n",
       "      <th>7</th>\n",
       "      <td>33</td>\n",
       "      <td>59</td>\n",
       "      <td>1</td>\n",
       "      <td>0</td>\n",
       "      <td>0</td>\n",
       "      <td>0</td>\n",
       "      <td>231.0</td>\n",
       "      <td>17</td>\n",
       "      <td>0</td>\n",
       "      <td>1</td>\n",
       "      <td>1</td>\n",
       "      <td>1</td>\n",
       "    </tr>\n",
       "    <tr>\n",
       "      <th>9</th>\n",
       "      <td>72</td>\n",
       "      <td>85</td>\n",
       "      <td>1</td>\n",
       "      <td>0</td>\n",
       "      <td>0</td>\n",
       "      <td>0</td>\n",
       "      <td>104.2</td>\n",
       "      <td>15</td>\n",
       "      <td>0</td>\n",
       "      <td>1</td>\n",
       "      <td>0</td>\n",
       "      <td>1</td>\n",
       "    </tr>\n",
       "  </tbody>\n",
       "</table>\n",
       "</div>"
      ],
      "text/plain": [
       "   Age  largestsize  synchr  KRAS  NRAS  BRAF  CEALEVEL  TOTMETAS  male  \\\n",
       "0   56           62       1     0     0     1      71.8        50     0   \n",
       "3   35           67       1     0     0     0    8090.0        68     0   \n",
       "6   54           25       1     1     0     0       1.9         3     1   \n",
       "7   33           59       1     0     0     0     231.0        17     0   \n",
       "9   72           85       1     0     0     0     104.2        15     0   \n",
       "\n",
       "   left_sidedness  bevacizumab  bilobar  \n",
       "0               1            1        1  \n",
       "3               1            0        1  \n",
       "6               0            1        0  \n",
       "7               1            1        1  \n",
       "9               1            0        1  "
      ]
     },
     "execution_count": 9,
     "metadata": {},
     "output_type": "execute_result"
    }
   ],
   "source": [
    "training_data.head()"
   ]
  },
  {
   "cell_type": "code",
   "execution_count": 16,
   "id": "38f5c949",
   "metadata": {},
   "outputs": [],
   "source": [
    "\n",
    "# Save the dataframe as a CSV file\n",
    "training_data.to_csv(\"training_data/training_data.csv\", index=False)"
   ]
  },
  {
   "cell_type": "markdown",
   "id": "556a9eac",
   "metadata": {},
   "source": [
    "### Training labels"
   ]
  },
  {
   "cell_type": "code",
   "execution_count": 19,
   "id": "8844d8cb",
   "metadata": {},
   "outputs": [
    {
     "name": "stderr",
     "output_type": "stream",
     "text": [
      "C:\\Users\\P095550\\AppData\\Local\\Temp\\ipykernel_13828\\1611155101.py:4: SettingWithCopyWarning: \n",
      "A value is trying to be set on a copy of a slice from a DataFrame.\n",
      "Try using .loc[row_indexer,col_indexer] = value instead\n",
      "\n",
      "See the caveats in the documentation: https://pandas.pydata.org/pandas-docs/stable/user_guide/indexing.html#returning-a-view-versus-a-copy\n",
      "  training_targets['log_OSm'] = np.log(training_targets['OSm'])\n",
      "C:\\Users\\P095550\\AppData\\Local\\Temp\\ipykernel_13828\\1611155101.py:5: SettingWithCopyWarning: \n",
      "A value is trying to be set on a copy of a slice from a DataFrame\n",
      "\n",
      "See the caveats in the documentation: https://pandas.pydata.org/pandas-docs/stable/user_guide/indexing.html#returning-a-view-versus-a-copy\n",
      "  training_targets.drop(columns=[\"OSm\"], inplace=True)\n"
     ]
    }
   ],
   "source": [
    "training_targets = all_data[[\"OSm\"]]\n",
    "\n",
    "# Save log survival times\n",
    "training_targets['log_OSm'] = np.log(training_targets['OSm'])\n",
    "training_targets.drop(columns=[\"OSm\"], inplace=True)\n",
    "training_targets.to_csv('training_data/training_targets_OS_log_whole.csv', index=False)"
   ]
  },
  {
   "cell_type": "code",
   "execution_count": 21,
   "id": "03a695d5",
   "metadata": {},
   "outputs": [
    {
     "name": "stdout",
     "output_type": "stream",
     "text": [
      "OSSTAT    0\n",
      "dtype: int64\n"
     ]
    }
   ],
   "source": [
    "nan_counts_targets = training_targets.isna().sum()\n",
    "print(nan_counts_targets)"
   ]
  },
  {
   "cell_type": "markdown",
   "id": "f831e55a",
   "metadata": {},
   "source": [
    "### Training occurences"
   ]
  },
  {
   "cell_type": "code",
   "execution_count": null,
   "id": "2363be50",
   "metadata": {},
   "outputs": [],
   "source": [
    "training_targets_occurences = all_data[[\"OSSTAT\"]]\n",
    "training_targets_occurences.to_csv('training_data/training_targets_OS_occurence_whole.csv', index=False)"
   ]
  },
  {
   "cell_type": "code",
   "execution_count": null,
   "id": "1f66a7aa",
   "metadata": {},
   "outputs": [],
   "source": [
    "print(all_data.isna().sum())"
   ]
  }
 ],
 "metadata": {
  "kernelspec": {
   "display_name": ".venv",
   "language": "python",
   "name": "python3"
  },
  "language_info": {
   "codemirror_mode": {
    "name": "ipython",
    "version": 3
   },
   "file_extension": ".py",
   "mimetype": "text/x-python",
   "name": "python",
   "nbconvert_exporter": "python",
   "pygments_lexer": "ipython3",
   "version": "3.10.0"
  }
 },
 "nbformat": 4,
 "nbformat_minor": 5
}
