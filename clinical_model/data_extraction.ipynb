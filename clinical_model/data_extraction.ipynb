{
 "cells": [
  {
   "cell_type": "code",
   "execution_count": 1,
   "id": "72fa207e",
   "metadata": {},
   "outputs": [],
   "source": [
    "# Imports\n",
    "import os\n",
    "import pandas as pd\n"
   ]
  },
  {
   "cell_type": "markdown",
   "id": "61f8435f",
   "metadata": {},
   "source": [
    "# Clinical data extraction"
   ]
  },
  {
   "cell_type": "code",
   "execution_count": 2,
   "id": "f3bc7fce",
   "metadata": {},
   "outputs": [],
   "source": [
    "#Read in the data\n",
    "data_path = \"L:/Basic/divi/jstoker/slicer_pdac/Master Students WS 24/Martijn/data/dataset_CAESAR_dec23_MASTER.xlsx\"\n",
    "all_data = pd.read_excel(data_path)\n",
    "\n",
    "pat_resp_data_path = \"C:/Users/P095550/OneDrive - Amsterdam UMC/Documenten/GitHub/CRLM-morph-features/CAIRO5_path_responseTRG__dec2023.xlsx\"\n",
    "pat_resp_data = pd.read_excel(pat_resp_data_path)"
   ]
  },
  {
   "cell_type": "markdown",
   "id": "c55292b5",
   "metadata": {},
   "source": [
    "### Training input"
   ]
  },
  {
   "cell_type": "code",
   "execution_count": 3,
   "id": "c5df13f9",
   "metadata": {},
   "outputs": [
    {
     "data": {
      "application/vnd.microsoft.datawrangler.viewer.v0+json": {
       "columns": [
        {
         "name": "index",
         "rawType": "int64",
         "type": "integer"
        },
        {
         "name": "SubjectKey",
         "rawType": "int64",
         "type": "integer"
        },
        {
         "name": "sex",
         "rawType": "object",
         "type": "string"
        },
        {
         "name": "Age",
         "rawType": "int64",
         "type": "integer"
        },
        {
         "name": "largestsize",
         "rawType": "int64",
         "type": "integer"
        },
        {
         "name": "distribution",
         "rawType": "object",
         "type": "string"
        },
        {
         "name": "synchr",
         "rawType": "object",
         "type": "string"
        },
        {
         "name": "sidedness",
         "rawType": "object",
         "type": "string"
        },
        {
         "name": "KRAS",
         "rawType": "int64",
         "type": "integer"
        },
        {
         "name": "NRAS",
         "rawType": "int64",
         "type": "integer"
        },
        {
         "name": "BRAF",
         "rawType": "int64",
         "type": "integer"
        },
        {
         "name": "treatment",
         "rawType": "object",
         "type": "string"
        }
       ],
       "conversionMethod": "pd.DataFrame",
       "ref": "176cafc4-24ab-442c-b641-748bdb3a3d02",
       "rows": [
        [
         "0",
         "1",
         "Female",
         "56",
         "62",
         "Bilobar",
         "Synchronous",
         "Left",
         "0",
         "0",
         "1",
         "FOLFOX-B"
        ],
        [
         "1",
         "2",
         "Male",
         "65",
         "34",
         "Bilobar",
         "Synchronous",
         "Left",
         "0",
         "0",
         "0",
         "FOLFOX-P"
        ],
        [
         "2",
         "3",
         "Male",
         "55",
         "48",
         "Bilobar",
         "Synchronous",
         "Left",
         "1",
         "0",
         "0",
         "FOLFOX-B"
        ],
        [
         "3",
         "4",
         "Female",
         "35",
         "67",
         "Bilobar",
         "Synchronous",
         "Left",
         "0",
         "0",
         "0",
         "FOLFOX-P"
        ],
        [
         "4",
         "5",
         "Female",
         "57",
         "38",
         "Bilobar",
         "Synchronous",
         "Right",
         "0",
         "0",
         "0",
         "FOLFIRI-B"
        ]
       ],
       "shape": {
        "columns": 11,
        "rows": 5
       }
      },
      "text/html": [
       "<div>\n",
       "<style scoped>\n",
       "    .dataframe tbody tr th:only-of-type {\n",
       "        vertical-align: middle;\n",
       "    }\n",
       "\n",
       "    .dataframe tbody tr th {\n",
       "        vertical-align: top;\n",
       "    }\n",
       "\n",
       "    .dataframe thead th {\n",
       "        text-align: right;\n",
       "    }\n",
       "</style>\n",
       "<table border=\"1\" class=\"dataframe\">\n",
       "  <thead>\n",
       "    <tr style=\"text-align: right;\">\n",
       "      <th></th>\n",
       "      <th>SubjectKey</th>\n",
       "      <th>sex</th>\n",
       "      <th>Age</th>\n",
       "      <th>largestsize</th>\n",
       "      <th>distribution</th>\n",
       "      <th>synchr</th>\n",
       "      <th>sidedness</th>\n",
       "      <th>KRAS</th>\n",
       "      <th>NRAS</th>\n",
       "      <th>BRAF</th>\n",
       "      <th>treatment</th>\n",
       "    </tr>\n",
       "  </thead>\n",
       "  <tbody>\n",
       "    <tr>\n",
       "      <th>0</th>\n",
       "      <td>1</td>\n",
       "      <td>Female</td>\n",
       "      <td>56</td>\n",
       "      <td>62</td>\n",
       "      <td>Bilobar</td>\n",
       "      <td>Synchronous</td>\n",
       "      <td>Left</td>\n",
       "      <td>0</td>\n",
       "      <td>0</td>\n",
       "      <td>1</td>\n",
       "      <td>FOLFOX-B</td>\n",
       "    </tr>\n",
       "    <tr>\n",
       "      <th>1</th>\n",
       "      <td>2</td>\n",
       "      <td>Male</td>\n",
       "      <td>65</td>\n",
       "      <td>34</td>\n",
       "      <td>Bilobar</td>\n",
       "      <td>Synchronous</td>\n",
       "      <td>Left</td>\n",
       "      <td>0</td>\n",
       "      <td>0</td>\n",
       "      <td>0</td>\n",
       "      <td>FOLFOX-P</td>\n",
       "    </tr>\n",
       "    <tr>\n",
       "      <th>2</th>\n",
       "      <td>3</td>\n",
       "      <td>Male</td>\n",
       "      <td>55</td>\n",
       "      <td>48</td>\n",
       "      <td>Bilobar</td>\n",
       "      <td>Synchronous</td>\n",
       "      <td>Left</td>\n",
       "      <td>1</td>\n",
       "      <td>0</td>\n",
       "      <td>0</td>\n",
       "      <td>FOLFOX-B</td>\n",
       "    </tr>\n",
       "    <tr>\n",
       "      <th>3</th>\n",
       "      <td>4</td>\n",
       "      <td>Female</td>\n",
       "      <td>35</td>\n",
       "      <td>67</td>\n",
       "      <td>Bilobar</td>\n",
       "      <td>Synchronous</td>\n",
       "      <td>Left</td>\n",
       "      <td>0</td>\n",
       "      <td>0</td>\n",
       "      <td>0</td>\n",
       "      <td>FOLFOX-P</td>\n",
       "    </tr>\n",
       "    <tr>\n",
       "      <th>4</th>\n",
       "      <td>5</td>\n",
       "      <td>Female</td>\n",
       "      <td>57</td>\n",
       "      <td>38</td>\n",
       "      <td>Bilobar</td>\n",
       "      <td>Synchronous</td>\n",
       "      <td>Right</td>\n",
       "      <td>0</td>\n",
       "      <td>0</td>\n",
       "      <td>0</td>\n",
       "      <td>FOLFIRI-B</td>\n",
       "    </tr>\n",
       "  </tbody>\n",
       "</table>\n",
       "</div>"
      ],
      "text/plain": [
       "   SubjectKey     sex  Age  largestsize distribution       synchr sidedness  \\\n",
       "0           1  Female   56           62      Bilobar  Synchronous      Left   \n",
       "1           2    Male   65           34      Bilobar  Synchronous      Left   \n",
       "2           3    Male   55           48      Bilobar  Synchronous      Left   \n",
       "3           4  Female   35           67      Bilobar  Synchronous      Left   \n",
       "4           5  Female   57           38      Bilobar  Synchronous     Right   \n",
       "\n",
       "   KRAS  NRAS  BRAF  treatment  \n",
       "0     0     0     1   FOLFOX-B  \n",
       "1     0     0     0   FOLFOX-P  \n",
       "2     1     0     0   FOLFOX-B  \n",
       "3     0     0     0   FOLFOX-P  \n",
       "4     0     0     0  FOLFIRI-B  "
      ]
     },
     "execution_count": 3,
     "metadata": {},
     "output_type": "execute_result"
    }
   ],
   "source": [
    "training_data = all_data[[\"SubjectKey\", \"sex\", \"Age\", \"largestsize\", \"distribution\", \"synchr\", \"sidedness\", \"KRAS\", \"NRAS\", \"BRAF\", \"treatment\"]]\n",
    "training_data.head()\n"
   ]
  },
  {
   "cell_type": "code",
   "execution_count": 4,
   "id": "fa053eaa",
   "metadata": {},
   "outputs": [
    {
     "name": "stderr",
     "output_type": "stream",
     "text": [
      "C:\\Users\\P095550\\AppData\\Local\\Temp\\ipykernel_20448\\1339409709.py:2: SettingWithCopyWarning: \n",
      "A value is trying to be set on a copy of a slice from a DataFrame.\n",
      "Try using .loc[row_indexer,col_indexer] = value instead\n",
      "\n",
      "See the caveats in the documentation: https://pandas.pydata.org/pandas-docs/stable/user_guide/indexing.html#returning-a-view-versus-a-copy\n",
      "  training_data[\"male\"] = training_data[\"sex\"].apply(lambda x: 1 if x == \"Male\" else 0)\n",
      "C:\\Users\\P095550\\AppData\\Local\\Temp\\ipykernel_20448\\1339409709.py:3: SettingWithCopyWarning: \n",
      "A value is trying to be set on a copy of a slice from a DataFrame.\n",
      "Try using .loc[row_indexer,col_indexer] = value instead\n",
      "\n",
      "See the caveats in the documentation: https://pandas.pydata.org/pandas-docs/stable/user_guide/indexing.html#returning-a-view-versus-a-copy\n",
      "  training_data[\"synchr\"] = training_data[\"synchr\"].apply(lambda x: 1 if x == \"Synchronous\" else 0)\n",
      "C:\\Users\\P095550\\AppData\\Local\\Temp\\ipykernel_20448\\1339409709.py:4: SettingWithCopyWarning: \n",
      "A value is trying to be set on a copy of a slice from a DataFrame.\n",
      "Try using .loc[row_indexer,col_indexer] = value instead\n",
      "\n",
      "See the caveats in the documentation: https://pandas.pydata.org/pandas-docs/stable/user_guide/indexing.html#returning-a-view-versus-a-copy\n",
      "  training_data[\"left_sidedness\"] = training_data[\"sidedness\"].apply(lambda x: 1 if x == \"Left\" else 0)\n",
      "C:\\Users\\P095550\\AppData\\Local\\Temp\\ipykernel_20448\\1339409709.py:5: SettingWithCopyWarning: \n",
      "A value is trying to be set on a copy of a slice from a DataFrame.\n",
      "Try using .loc[row_indexer,col_indexer] = value instead\n",
      "\n",
      "See the caveats in the documentation: https://pandas.pydata.org/pandas-docs/stable/user_guide/indexing.html#returning-a-view-versus-a-copy\n",
      "  training_data[\"bevacizumab\"] = training_data[\"treatment\"].apply(lambda x: 1 if x.endswith(\"B\") else 0)\n",
      "C:\\Users\\P095550\\AppData\\Local\\Temp\\ipykernel_20448\\1339409709.py:6: SettingWithCopyWarning: \n",
      "A value is trying to be set on a copy of a slice from a DataFrame.\n",
      "Try using .loc[row_indexer,col_indexer] = value instead\n",
      "\n",
      "See the caveats in the documentation: https://pandas.pydata.org/pandas-docs/stable/user_guide/indexing.html#returning-a-view-versus-a-copy\n",
      "  training_data[\"bilobar\"] = training_data[\"distribution\"].apply(lambda x: 1 if x == \"Bilobar\" else 0)\n",
      "C:\\Users\\P095550\\AppData\\Local\\Temp\\ipykernel_20448\\1339409709.py:9: SettingWithCopyWarning: \n",
      "A value is trying to be set on a copy of a slice from a DataFrame\n",
      "\n",
      "See the caveats in the documentation: https://pandas.pydata.org/pandas-docs/stable/user_guide/indexing.html#returning-a-view-versus-a-copy\n",
      "  training_data.drop(columns=[\"sex\", \"sidedness\", \"treatment\", \"distribution\"], inplace=True)\n"
     ]
    }
   ],
   "source": [
    "# Correctly apply transformations to columns\n",
    "training_data[\"male\"] = training_data[\"sex\"].apply(lambda x: 1 if x == \"Male\" else 0)\n",
    "training_data[\"synchr\"] = training_data[\"synchr\"].apply(lambda x: 1 if x == \"Synchronous\" else 0)\n",
    "training_data[\"left_sidedness\"] = training_data[\"sidedness\"].apply(lambda x: 1 if x == \"Left\" else 0)\n",
    "training_data[\"bevacizumab\"] = training_data[\"treatment\"].apply(lambda x: 1 if x.endswith(\"B\") else 0)\n",
    "training_data[\"bilobar\"] = training_data[\"distribution\"].apply(lambda x: 1 if x == \"Bilobar\" else 0)\n",
    "\n",
    "# Drop the original columns if they are no longer needed\n",
    "training_data.drop(columns=[\"sex\", \"sidedness\", \"treatment\", \"distribution\"], inplace=True)"
   ]
  },
  {
   "cell_type": "code",
   "execution_count": 5,
   "id": "5392ed7e",
   "metadata": {},
   "outputs": [
    {
     "name": "stdout",
     "output_type": "stream",
     "text": [
      "SubjectKey        0\n",
      "Age               0\n",
      "largestsize       0\n",
      "synchr            0\n",
      "KRAS              0\n",
      "NRAS              0\n",
      "BRAF              0\n",
      "male              0\n",
      "left_sidedness    0\n",
      "bevacizumab       0\n",
      "bilobar           0\n",
      "dtype: int64\n"
     ]
    }
   ],
   "source": [
    "nan_counts = training_data.isna().sum()\n",
    "print(nan_counts)"
   ]
  },
  {
   "cell_type": "code",
   "execution_count": 6,
   "id": "534459f9",
   "metadata": {},
   "outputs": [],
   "source": [
    "# Subset the data to only include patients which we have CT scans for\n",
    "\n",
    "paired_scans_path = \"L:/Basic/divi/jstoker/slicer_pdac/Master Students WS 24/Martijn/data/Training/paired_scans\"\n",
    "subject_keys = set()\n",
    "for filename in os.listdir(paired_scans_path):\n",
    "    subject_keys.add(int(filename[6:9]))\n",
    "\n",
    "training_data = training_data[training_data[\"SubjectKey\"].isin(subject_keys)]\n",
    "\n",
    "training_data.drop(columns=[\"SubjectKey\"], inplace=True)"
   ]
  },
  {
   "cell_type": "code",
   "execution_count": 7,
   "id": "412fcf13",
   "metadata": {},
   "outputs": [
    {
     "data": {
      "application/vnd.microsoft.datawrangler.viewer.v0+json": {
       "columns": [
        {
         "name": "index",
         "rawType": "int64",
         "type": "integer"
        },
        {
         "name": "Age",
         "rawType": "int64",
         "type": "integer"
        },
        {
         "name": "largestsize",
         "rawType": "int64",
         "type": "integer"
        },
        {
         "name": "synchr",
         "rawType": "int64",
         "type": "integer"
        },
        {
         "name": "KRAS",
         "rawType": "int64",
         "type": "integer"
        },
        {
         "name": "NRAS",
         "rawType": "int64",
         "type": "integer"
        },
        {
         "name": "BRAF",
         "rawType": "int64",
         "type": "integer"
        },
        {
         "name": "male",
         "rawType": "int64",
         "type": "integer"
        },
        {
         "name": "left_sidedness",
         "rawType": "int64",
         "type": "integer"
        },
        {
         "name": "bevacizumab",
         "rawType": "int64",
         "type": "integer"
        },
        {
         "name": "bilobar",
         "rawType": "int64",
         "type": "integer"
        }
       ],
       "conversionMethod": "pd.DataFrame",
       "ref": "c41ae09a-dc6c-4381-8420-c55eb670094d",
       "rows": [
        [
         "0",
         "56",
         "62",
         "1",
         "0",
         "0",
         "1",
         "0",
         "1",
         "1",
         "1"
        ],
        [
         "3",
         "35",
         "67",
         "1",
         "0",
         "0",
         "0",
         "0",
         "1",
         "0",
         "1"
        ],
        [
         "6",
         "54",
         "25",
         "1",
         "1",
         "0",
         "0",
         "1",
         "0",
         "1",
         "0"
        ],
        [
         "7",
         "33",
         "59",
         "1",
         "0",
         "0",
         "0",
         "0",
         "1",
         "1",
         "1"
        ],
        [
         "9",
         "72",
         "85",
         "1",
         "0",
         "0",
         "0",
         "0",
         "1",
         "0",
         "1"
        ]
       ],
       "shape": {
        "columns": 10,
        "rows": 5
       }
      },
      "text/html": [
       "<div>\n",
       "<style scoped>\n",
       "    .dataframe tbody tr th:only-of-type {\n",
       "        vertical-align: middle;\n",
       "    }\n",
       "\n",
       "    .dataframe tbody tr th {\n",
       "        vertical-align: top;\n",
       "    }\n",
       "\n",
       "    .dataframe thead th {\n",
       "        text-align: right;\n",
       "    }\n",
       "</style>\n",
       "<table border=\"1\" class=\"dataframe\">\n",
       "  <thead>\n",
       "    <tr style=\"text-align: right;\">\n",
       "      <th></th>\n",
       "      <th>Age</th>\n",
       "      <th>largestsize</th>\n",
       "      <th>synchr</th>\n",
       "      <th>KRAS</th>\n",
       "      <th>NRAS</th>\n",
       "      <th>BRAF</th>\n",
       "      <th>male</th>\n",
       "      <th>left_sidedness</th>\n",
       "      <th>bevacizumab</th>\n",
       "      <th>bilobar</th>\n",
       "    </tr>\n",
       "  </thead>\n",
       "  <tbody>\n",
       "    <tr>\n",
       "      <th>0</th>\n",
       "      <td>56</td>\n",
       "      <td>62</td>\n",
       "      <td>1</td>\n",
       "      <td>0</td>\n",
       "      <td>0</td>\n",
       "      <td>1</td>\n",
       "      <td>0</td>\n",
       "      <td>1</td>\n",
       "      <td>1</td>\n",
       "      <td>1</td>\n",
       "    </tr>\n",
       "    <tr>\n",
       "      <th>3</th>\n",
       "      <td>35</td>\n",
       "      <td>67</td>\n",
       "      <td>1</td>\n",
       "      <td>0</td>\n",
       "      <td>0</td>\n",
       "      <td>0</td>\n",
       "      <td>0</td>\n",
       "      <td>1</td>\n",
       "      <td>0</td>\n",
       "      <td>1</td>\n",
       "    </tr>\n",
       "    <tr>\n",
       "      <th>6</th>\n",
       "      <td>54</td>\n",
       "      <td>25</td>\n",
       "      <td>1</td>\n",
       "      <td>1</td>\n",
       "      <td>0</td>\n",
       "      <td>0</td>\n",
       "      <td>1</td>\n",
       "      <td>0</td>\n",
       "      <td>1</td>\n",
       "      <td>0</td>\n",
       "    </tr>\n",
       "    <tr>\n",
       "      <th>7</th>\n",
       "      <td>33</td>\n",
       "      <td>59</td>\n",
       "      <td>1</td>\n",
       "      <td>0</td>\n",
       "      <td>0</td>\n",
       "      <td>0</td>\n",
       "      <td>0</td>\n",
       "      <td>1</td>\n",
       "      <td>1</td>\n",
       "      <td>1</td>\n",
       "    </tr>\n",
       "    <tr>\n",
       "      <th>9</th>\n",
       "      <td>72</td>\n",
       "      <td>85</td>\n",
       "      <td>1</td>\n",
       "      <td>0</td>\n",
       "      <td>0</td>\n",
       "      <td>0</td>\n",
       "      <td>0</td>\n",
       "      <td>1</td>\n",
       "      <td>0</td>\n",
       "      <td>1</td>\n",
       "    </tr>\n",
       "  </tbody>\n",
       "</table>\n",
       "</div>"
      ],
      "text/plain": [
       "   Age  largestsize  synchr  KRAS  NRAS  BRAF  male  left_sidedness  \\\n",
       "0   56           62       1     0     0     1     0               1   \n",
       "3   35           67       1     0     0     0     0               1   \n",
       "6   54           25       1     1     0     0     1               0   \n",
       "7   33           59       1     0     0     0     0               1   \n",
       "9   72           85       1     0     0     0     0               1   \n",
       "\n",
       "   bevacizumab  bilobar  \n",
       "0            1        1  \n",
       "3            0        1  \n",
       "6            1        0  \n",
       "7            1        1  \n",
       "9            0        1  "
      ]
     },
     "execution_count": 7,
     "metadata": {},
     "output_type": "execute_result"
    }
   ],
   "source": [
    "training_data.head()"
   ]
  },
  {
   "cell_type": "code",
   "execution_count": 8,
   "id": "38f5c949",
   "metadata": {},
   "outputs": [],
   "source": [
    "\n",
    "# Save the dataframe as a CSV file\n",
    "training_data.to_csv(\"training_data/training_data.csv\", index=False)"
   ]
  },
  {
   "cell_type": "markdown",
   "id": "556a9eac",
   "metadata": {},
   "source": [
    "### Training labels"
   ]
  }
 ],
 "metadata": {
  "kernelspec": {
   "display_name": ".venv",
   "language": "python",
   "name": "python3"
  },
  "language_info": {
   "codemirror_mode": {
    "name": "ipython",
    "version": 3
   },
   "file_extension": ".py",
   "mimetype": "text/x-python",
   "name": "python",
   "nbconvert_exporter": "python",
   "pygments_lexer": "ipython3",
   "version": "3.10.0"
  }
 },
 "nbformat": 4,
 "nbformat_minor": 5
}
