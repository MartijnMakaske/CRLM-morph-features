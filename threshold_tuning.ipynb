{
 "cells": [
  {
   "cell_type": "code",
   "execution_count": 23,
   "id": "61aa550d",
   "metadata": {},
   "outputs": [],
   "source": [
    "# Imports\n",
    "import optuna\n",
    "import pandas as pd\n",
    "\n",
    "import torch\n",
    "import numpy as np\n",
    "from sklearn.metrics import roc_auc_score, f1_score, accuracy_score, hamming_loss"
   ]
  },
  {
   "cell_type": "markdown",
   "id": "220f7d87",
   "metadata": {},
   "source": [
    "# Threshold tuning"
   ]
  },
  {
   "cell_type": "code",
   "execution_count": 19,
   "id": "2fc9fafa",
   "metadata": {},
   "outputs": [],
   "source": [
    "# Import predictions\n",
    "\n",
    "# Load the CSV file\n",
    "data = pd.read_csv('output_probs_labels.csv')\n",
    "\n",
    "# Extract probabilities and labels as numpy arrays\n",
    "probs = data.iloc[:, 0:9]  # Assuming all columns except the last are probabilities\n",
    "labels = data.iloc[:, 9:18] # Assuming the last column contains labels\n",
    "\n",
    "# Convert to numpy arrays\n",
    "probs = probs.to_numpy()\n",
    "labels = labels.to_numpy()"
   ]
  },
  {
   "cell_type": "code",
   "execution_count": 21,
   "id": "1880e859",
   "metadata": {},
   "outputs": [],
   "source": [
    "\n",
    "# probs: [num_samples, num_classes] – sigmoid outputs\n",
    "# labels: [num_samples, num_classes] – binary labels\n",
    "# device: torch.device\n",
    "\n",
    "def tune_thresholds(probs, labels, num_classes):\n",
    "    probs = np.array(probs)\n",
    "    labels = np.array(labels)\n",
    "\n",
    "    # Create a mask where labels are valid (not -1)\n",
    "    valid_mask = (labels != -1)\n",
    "\n",
    "    def objective(trial):\n",
    "        thresholds = np.array([trial.suggest_float(f\"thresh_{i}\", 0.1, 0.9) for i in range(num_classes)])\n",
    "        preds = (probs > thresholds).astype(int)\n",
    "\n",
    "        # Mask invalid labels\n",
    "        masked_preds = preds[valid_mask]\n",
    "        masked_labels = labels[valid_mask]\n",
    "\n",
    "        return f1_score(masked_labels, masked_preds, average=\"macro\")\n",
    "\n",
    "    study = optuna.create_study(direction=\"maximize\")\n",
    "    study.optimize(objective, n_trials=50)\n",
    "\n",
    "    best_thresholds = [study.best_trial.params[f\"thresh_{i}\"] for i in range(num_classes)]\n",
    "    return best_thresholds\n"
   ]
  },
  {
   "cell_type": "code",
   "execution_count": 22,
   "id": "c33f7e3a",
   "metadata": {},
   "outputs": [
    {
     "name": "stderr",
     "output_type": "stream",
     "text": [
      "[I 2025-04-10 10:59:38,790] A new study created in memory with name: no-name-0a6ae7b3-8ced-41c3-88e1-15d6faec3755\n",
      "[I 2025-04-10 10:59:38,810] Trial 0 finished with value: 0.42187819168951246 and parameters: {'thresh_0': 0.24497960445408218, 'thresh_1': 0.47019718307957725, 'thresh_2': 0.34537339120488175, 'thresh_3': 0.8492670484151638, 'thresh_4': 0.2921411211825372, 'thresh_5': 0.5402323698383705, 'thresh_6': 0.6442364727453451, 'thresh_7': 0.40935180191480447, 'thresh_8': 0.4466391425059346}. Best is trial 0 with value: 0.42187819168951246.\n",
      "[I 2025-04-10 10:59:38,811] Trial 1 finished with value: 0.4020066036080583 and parameters: {'thresh_0': 0.5712085325640709, 'thresh_1': 0.5314428741109303, 'thresh_2': 0.7169625698025673, 'thresh_3': 0.45541769111340646, 'thresh_4': 0.7309855960268788, 'thresh_5': 0.3681825722531584, 'thresh_6': 0.40320592500746566, 'thresh_7': 0.2532487918284769, 'thresh_8': 0.2533512218155428}. Best is trial 0 with value: 0.42187819168951246.\n",
      "[I 2025-04-10 10:59:38,823] Trial 2 finished with value: 0.30217942231417655 and parameters: {'thresh_0': 0.5427950893834228, 'thresh_1': 0.49142210674975695, 'thresh_2': 0.4584461405193827, 'thresh_3': 0.12126178511184538, 'thresh_4': 0.13193746275134144, 'thresh_5': 0.23996846477184422, 'thresh_6': 0.49694755587478123, 'thresh_7': 0.12823827392715606, 'thresh_8': 0.3773934631511261}. Best is trial 0 with value: 0.42187819168951246.\n",
      "[I 2025-04-10 10:59:38,830] Trial 3 finished with value: 0.6101404692951984 and parameters: {'thresh_0': 0.7440599990577063, 'thresh_1': 0.7296803469941693, 'thresh_2': 0.48427667108989014, 'thresh_3': 0.6898807468035547, 'thresh_4': 0.8243573184322995, 'thresh_5': 0.2204002903891188, 'thresh_6': 0.2838406281633393, 'thresh_7': 0.8776992484230027, 'thresh_8': 0.6826166012615119}. Best is trial 3 with value: 0.6101404692951984.\n",
      "[I 2025-04-10 10:59:38,838] Trial 4 finished with value: 0.6629794010028459 and parameters: {'thresh_0': 0.22245431054240017, 'thresh_1': 0.6952927425501741, 'thresh_2': 0.7911366150795427, 'thresh_3': 0.39748330765799167, 'thresh_4': 0.583107912466395, 'thresh_5': 0.8533016842829503, 'thresh_6': 0.37533481472621844, 'thresh_7': 0.16310279250891516, 'thresh_8': 0.5777629497937239}. Best is trial 4 with value: 0.6629794010028459.\n",
      "[I 2025-04-10 10:59:38,844] Trial 5 finished with value: 0.6888703005430556 and parameters: {'thresh_0': 0.10453807231215856, 'thresh_1': 0.636404348382885, 'thresh_2': 0.6487383466843106, 'thresh_3': 0.563657559960604, 'thresh_4': 0.46816885783669526, 'thresh_5': 0.8554937329962088, 'thresh_6': 0.6560494072985399, 'thresh_7': 0.7840286478125699, 'thresh_8': 0.7015110371854629}. Best is trial 5 with value: 0.6888703005430556.\n",
      "[I 2025-04-10 10:59:38,851] Trial 6 finished with value: 0.4772671074557867 and parameters: {'thresh_0': 0.5874587946757049, 'thresh_1': 0.31615510187152013, 'thresh_2': 0.2937739719800148, 'thresh_3': 0.464543333760434, 'thresh_4': 0.891030302220253, 'thresh_5': 0.12428272460840484, 'thresh_6': 0.32556921033244846, 'thresh_7': 0.7969799930028587, 'thresh_8': 0.1691438544948441}. Best is trial 5 with value: 0.6888703005430556.\n",
      "[I 2025-04-10 10:59:38,855] Trial 7 finished with value: 0.4914777763707737 and parameters: {'thresh_0': 0.3825177725955443, 'thresh_1': 0.41321680719665166, 'thresh_2': 0.5013479410387713, 'thresh_3': 0.7029044467807578, 'thresh_4': 0.463846605362382, 'thresh_5': 0.6509877312450197, 'thresh_6': 0.7594558887870337, 'thresh_7': 0.5255813015766272, 'thresh_8': 0.5179029805873494}. Best is trial 5 with value: 0.6888703005430556.\n",
      "[I 2025-04-10 10:59:38,855] Trial 8 finished with value: 0.7026596819835602 and parameters: {'thresh_0': 0.16832885970912514, 'thresh_1': 0.7830107947665147, 'thresh_2': 0.5113242476631689, 'thresh_3': 0.4795673162774169, 'thresh_4': 0.5770303911491185, 'thresh_5': 0.7032405203690771, 'thresh_6': 0.8453867836128334, 'thresh_7': 0.6874832644245508, 'thresh_8': 0.6425605437401074}. Best is trial 8 with value: 0.7026596819835602.\n",
      "[I 2025-04-10 10:59:38,855] Trial 9 finished with value: 0.36565172080945096 and parameters: {'thresh_0': 0.24842115250614052, 'thresh_1': 0.8190311719257619, 'thresh_2': 0.7435693430874273, 'thresh_3': 0.5664733084859362, 'thresh_4': 0.4551119039437398, 'thresh_5': 0.2752677406193835, 'thresh_6': 0.6751584873915362, 'thresh_7': 0.19852179285453797, 'thresh_8': 0.45858859501280747}. Best is trial 8 with value: 0.7026596819835602.\n",
      "[I 2025-04-10 10:59:38,905] Trial 10 finished with value: 0.6034777521214432 and parameters: {'thresh_0': 0.8921673931647229, 'thresh_1': 0.8892808836392915, 'thresh_2': 0.11783071143319407, 'thresh_3': 0.260458929782924, 'thresh_4': 0.6737236248797889, 'thresh_5': 0.6623532005130258, 'thresh_6': 0.8963449860977941, 'thresh_7': 0.6260628341072344, 'thresh_8': 0.8294594764373946}. Best is trial 8 with value: 0.7026596819835602.\n",
      "[I 2025-04-10 10:59:38,941] Trial 11 finished with value: 0.6893632086975781 and parameters: {'thresh_0': 0.11007695945091028, 'thresh_1': 0.6431638969656049, 'thresh_2': 0.6549700029634618, 'thresh_3': 0.6298095348765788, 'thresh_4': 0.350949963003939, 'thresh_5': 0.8936430228186303, 'thresh_6': 0.1060854482904382, 'thresh_7': 0.7090625799990877, 'thresh_8': 0.7764734551480755}. Best is trial 8 with value: 0.7026596819835602.\n",
      "[I 2025-04-10 10:59:38,972] Trial 12 finished with value: 0.6907646758397765 and parameters: {'thresh_0': 0.12060797828317704, 'thresh_1': 0.1195323921380318, 'thresh_2': 0.6098607435548644, 'thresh_3': 0.6913704210542354, 'thresh_4': 0.3105114581169369, 'thresh_5': 0.7334282430163239, 'thresh_6': 0.10434770300848402, 'thresh_7': 0.6615789597633878, 'thresh_8': 0.869934304830292}. Best is trial 8 with value: 0.7026596819835602.\n",
      "[I 2025-04-10 10:59:39,024] Trial 13 finished with value: 0.5965780853390052 and parameters: {'thresh_0': 0.390088727265559, 'thresh_1': 0.11148810460015175, 'thresh_2': 0.574986432812767, 'thresh_3': 0.8480306893595241, 'thresh_4': 0.21818316623531941, 'thresh_5': 0.703351096486459, 'thresh_6': 0.12518039075497273, 'thresh_7': 0.5875244762989777, 'thresh_8': 0.888829291295625}. Best is trial 8 with value: 0.7026596819835602.\n",
      "[I 2025-04-10 10:59:39,057] Trial 14 finished with value: 0.5753598130841122 and parameters: {'thresh_0': 0.3752848905979876, 'thresh_1': 0.10778230356616114, 'thresh_2': 0.8748104989823943, 'thresh_3': 0.32852692016497387, 'thresh_4': 0.6137816829846284, 'thresh_5': 0.517144596726774, 'thresh_6': 0.8961477316891188, 'thresh_7': 0.41493104231909106, 'thresh_8': 0.6359931779938652}. Best is trial 8 with value: 0.7026596819835602.\n",
      "[I 2025-04-10 10:59:39,105] Trial 15 finished with value: 0.6883265858367702 and parameters: {'thresh_0': 0.19272163935004538, 'thresh_1': 0.3318253285390626, 'thresh_2': 0.3772309059614729, 'thresh_3': 0.7560116631224689, 'thresh_4': 0.35974769434516496, 'thresh_5': 0.7301120131694555, 'thresh_6': 0.21905945646705777, 'thresh_7': 0.6682425537988014, 'thresh_8': 0.7645995115843693}. Best is trial 8 with value: 0.7026596819835602.\n",
      "[I 2025-04-10 10:59:39,143] Trial 16 finished with value: 0.6340849858356941 and parameters: {'thresh_0': 0.4487275208162823, 'thresh_1': 0.24505975594381138, 'thresh_2': 0.1905182033854036, 'thresh_3': 0.5719930543695517, 'thresh_4': 0.5464120261105544, 'thresh_5': 0.7779701831106117, 'thresh_6': 0.5087829232476054, 'thresh_7': 0.4756708266738845, 'thresh_8': 0.8860047134114648}. Best is trial 8 with value: 0.7026596819835602.\n",
      "[I 2025-04-10 10:59:39,172] Trial 17 finished with value: 0.5630530087572992 and parameters: {'thresh_0': 0.3037566455446097, 'thresh_1': 0.23961857797545688, 'thresh_2': 0.5684925772171994, 'thresh_3': 0.26669973426964744, 'thresh_4': 0.14313449506222797, 'thresh_5': 0.5715847962267618, 'thresh_6': 0.7849492928373139, 'thresh_7': 0.7424622746201277, 'thresh_8': 0.34533255332436924}. Best is trial 8 with value: 0.7026596819835602.\n",
      "[I 2025-04-10 10:59:39,222] Trial 18 finished with value: 0.5738185010207363 and parameters: {'thresh_0': 0.17429160195314217, 'thresh_1': 0.5748490762615681, 'thresh_2': 0.5850415857467357, 'thresh_3': 0.7797273194372839, 'thresh_4': 0.35104641257948144, 'thresh_5': 0.4205416375270745, 'thresh_6': 0.5492305411314276, 'thresh_7': 0.8850706295799202, 'thresh_8': 0.6047294615399337}. Best is trial 8 with value: 0.7026596819835602.\n",
      "[I 2025-04-10 10:59:39,256] Trial 19 finished with value: 0.584245656251174 and parameters: {'thresh_0': 0.676926286843021, 'thresh_1': 0.7941335077242587, 'thresh_2': 0.4083725030890484, 'thresh_3': 0.8979670186457934, 'thresh_4': 0.7373552339113412, 'thresh_5': 0.6078942574469528, 'thresh_6': 0.1843912532314423, 'thresh_7': 0.5629524625978525, 'thresh_8': 0.7446755452613694}. Best is trial 8 with value: 0.7026596819835602.\n",
      "[I 2025-04-10 10:59:39,294] Trial 20 finished with value: 0.6894140809046241 and parameters: {'thresh_0': 0.31858218001783856, 'thresh_1': 0.8995896509213066, 'thresh_2': 0.898293050842194, 'thresh_3': 0.6389596532368794, 'thresh_4': 0.28112848132878493, 'thresh_5': 0.7733697964099685, 'thresh_6': 0.4569131957812902, 'thresh_7': 0.3255641145884493, 'thresh_8': 0.8136920697549741}. Best is trial 8 with value: 0.7026596819835602.\n",
      "[I 2025-04-10 10:59:39,324] Trial 21 finished with value: 0.6899090926299805 and parameters: {'thresh_0': 0.3162538217080387, 'thresh_1': 0.8983887958076195, 'thresh_2': 0.878344886261035, 'thresh_3': 0.6179800514107014, 'thresh_4': 0.2466783742680211, 'thresh_5': 0.7847232739174186, 'thresh_6': 0.4573200755636852, 'thresh_7': 0.3155462098483805, 'thresh_8': 0.8251129005899116}. Best is trial 8 with value: 0.7026596819835602.\n",
      "[I 2025-04-10 10:59:39,373] Trial 22 finished with value: 0.6899090926299805 and parameters: {'thresh_0': 0.1599378475037429, 'thresh_1': 0.8008177766531445, 'thresh_2': 0.8112851179475561, 'thresh_3': 0.4778680002375316, 'thresh_4': 0.20879813862274782, 'thresh_5': 0.7786635132232888, 'thresh_6': 0.5948842331931018, 'thresh_7': 0.3120007498217725, 'thresh_8': 0.8939408825386772}. Best is trial 8 with value: 0.7026596819835602.\n",
      "[I 2025-04-10 10:59:39,405] Trial 23 finished with value: 0.5779906867205481 and parameters: {'thresh_0': 0.2874087121263845, 'thresh_1': 0.734120666115899, 'thresh_2': 0.650453355400148, 'thresh_3': 0.6312425637712873, 'thresh_4': 0.4299077801900769, 'thresh_5': 0.4371179535554812, 'thresh_6': 0.773326429696016, 'thresh_7': 0.6586076894906501, 'thresh_8': 0.6984005157873191}. Best is trial 8 with value: 0.7026596819835602.\n",
      "[I 2025-04-10 10:59:39,454] Trial 24 finished with value: 0.6594191862902412 and parameters: {'thresh_0': 0.1458573561629675, 'thresh_1': 0.8448399067827815, 'thresh_2': 0.2732206314498331, 'thresh_3': 0.5361875389937616, 'thresh_4': 0.5245746793701637, 'thresh_5': 0.815552142804576, 'thresh_6': 0.2830869003623064, 'thresh_7': 0.4309273292173079, 'thresh_8': 0.8184425706425399}. Best is trial 8 with value: 0.7026596819835602.\n",
      "[I 2025-04-10 10:59:39,498] Trial 25 finished with value: 0.6316753249575883 and parameters: {'thresh_0': 0.4852634556361874, 'thresh_1': 0.17665040202269294, 'thresh_2': 0.5304828756009256, 'thresh_3': 0.40825103665680595, 'thresh_4': 0.22420838863760767, 'thresh_5': 0.7043002421567508, 'thresh_6': 0.42812560432947194, 'thresh_7': 0.32948613427919277, 'thresh_8': 0.5566275536691496}. Best is trial 8 with value: 0.7026596819835602.\n",
      "[I 2025-04-10 10:59:39,541] Trial 26 finished with value: 0.6328822684004631 and parameters: {'thresh_0': 0.33875778204742535, 'thresh_1': 0.39807467434079047, 'thresh_2': 0.4289658630513101, 'thresh_3': 0.7364775760299795, 'thresh_4': 0.2979563802522313, 'thresh_5': 0.6262138719359339, 'thresh_6': 0.7142204341438949, 'thresh_7': 0.4991938025333308, 'thresh_8': 0.6497369665546511}. Best is trial 8 with value: 0.7026596819835602.\n",
      "[I 2025-04-10 10:59:39,581] Trial 27 finished with value: 0.6854748755910607 and parameters: {'thresh_0': 0.23490993413445804, 'thresh_1': 0.7627594559755432, 'thresh_2': 0.7136211736254703, 'thresh_3': 0.6590260801626533, 'thresh_4': 0.3924503907412564, 'thresh_5': 0.7322109475396751, 'thresh_6': 0.8447435837476127, 'thresh_7': 0.8045239996162923, 'thresh_8': 0.7353547173071913}. Best is trial 8 with value: 0.7026596819835602.\n",
      "[I 2025-04-10 10:59:39,622] Trial 28 finished with value: 0.7155381301743287 and parameters: {'thresh_0': 0.16368454428737375, 'thresh_1': 0.6500212947257235, 'thresh_2': 0.8306846854829893, 'thresh_3': 0.5147172238827242, 'thresh_4': 0.10601143516339809, 'thresh_5': 0.8185803320302935, 'thresh_6': 0.5872814205262229, 'thresh_7': 0.6022174583574716, 'thresh_8': 0.8261792254225147}. Best is trial 28 with value: 0.7155381301743287.\n",
      "[I 2025-04-10 10:59:39,660] Trial 29 finished with value: 0.6278192012508301 and parameters: {'thresh_0': 0.10169503447016667, 'thresh_1': 0.6050304086545462, 'thresh_2': 0.8126633299223646, 'thresh_3': 0.3829386534025615, 'thresh_4': 0.6371219689803431, 'thresh_5': 0.5688268875415733, 'thresh_6': 0.5723916866059553, 'thresh_7': 0.5914204967613037, 'thresh_8': 0.49384500091261097}. Best is trial 28 with value: 0.7155381301743287.\n",
      "[I 2025-04-10 10:59:39,701] Trial 30 finished with value: 0.6840505974607917 and parameters: {'thresh_0': 0.24273791676171258, 'thresh_1': 0.5625704675709422, 'thresh_2': 0.3100582139067916, 'thresh_3': 0.8064401059201012, 'thresh_4': 0.13575021943874668, 'thresh_5': 0.8872528687643705, 'thresh_6': 0.6071302423284566, 'thresh_7': 0.7146854634377293, 'thresh_8': 0.8517132288256405}. Best is trial 28 with value: 0.7155381301743287.\n",
      "[I 2025-04-10 10:59:39,742] Trial 31 finished with value: 0.7154277281445895 and parameters: {'thresh_0': 0.18928756684229361, 'thresh_1': 0.6883909604432369, 'thresh_2': 0.8452904651197545, 'thresh_3': 0.5044812562163905, 'thresh_4': 0.2777697585528558, 'thresh_5': 0.7942467210922927, 'thresh_6': 0.34980685625494634, 'thresh_7': 0.6658033788713423, 'thresh_8': 0.7916163905390334}. Best is trial 28 with value: 0.7155381301743287.\n",
      "[I 2025-04-10 10:59:39,788] Trial 32 finished with value: 0.6908186584218309 and parameters: {'thresh_0': 0.19673930860126265, 'thresh_1': 0.6790184660595939, 'thresh_2': 0.7598836241030118, 'thresh_3': 0.5088998207053177, 'thresh_4': 0.17290005155672217, 'thresh_5': 0.8340470696117447, 'thresh_6': 0.3491425409375666, 'thresh_7': 0.6484838507890409, 'thresh_8': 0.792705812328445}. Best is trial 28 with value: 0.7155381301743287.\n",
      "[I 2025-04-10 10:59:39,825] Trial 33 finished with value: 0.6379137259673886 and parameters: {'thresh_0': 0.19093398255450406, 'thresh_1': 0.6769920931207569, 'thresh_2': 0.758657289562243, 'thresh_3': 0.512781579273379, 'thresh_4': 0.11101966098003016, 'thresh_5': 0.8295587086196147, 'thresh_6': 0.37247372877019425, 'thresh_7': 0.5434230377954213, 'thresh_8': 0.7769162294645362}. Best is trial 28 with value: 0.7155381301743287.\n",
      "[I 2025-04-10 10:59:39,867] Trial 34 finished with value: 0.7160321955909493 and parameters: {'thresh_0': 0.2684579310207177, 'thresh_1': 0.5153097943378675, 'thresh_2': 0.8484662331486825, 'thresh_3': 0.43864843149424354, 'thresh_4': 0.16256121344828503, 'thresh_5': 0.8184312314595698, 'thresh_6': 0.31601423361218256, 'thresh_7': 0.6203681036442394, 'thresh_8': 0.691648505808507}. Best is trial 34 with value: 0.7160321955909493.\n",
      "[I 2025-04-10 10:59:39,907] Trial 35 finished with value: 0.7164412727532842 and parameters: {'thresh_0': 0.2619899678330458, 'thresh_1': 0.5073775821325586, 'thresh_2': 0.8374730224888538, 'thresh_3': 0.4339860079050472, 'thresh_4': 0.17968339604323846, 'thresh_5': 0.8977345209634406, 'thresh_6': 0.28093364058662007, 'thresh_7': 0.608701235031006, 'thresh_8': 0.729248863860323}. Best is trial 35 with value: 0.7164412727532842.\n",
      "[I 2025-04-10 10:59:39,942] Trial 36 finished with value: 0.7164412727532842 and parameters: {'thresh_0': 0.2685657956848569, 'thresh_1': 0.50545035226164, 'thresh_2': 0.8388140054393518, 'thresh_3': 0.3391160610979297, 'thresh_4': 0.16961381792588007, 'thresh_5': 0.8802581945132916, 'thresh_6': 0.2588928286680877, 'thresh_7': 0.6113546321929589, 'thresh_8': 0.7145499188554159}. Best is trial 35 with value: 0.7164412727532842.\n",
      "[I 2025-04-10 10:59:39,985] Trial 37 finished with value: 0.6922497748337013 and parameters: {'thresh_0': 0.43617952948332317, 'thresh_1': 0.5040306947717377, 'thresh_2': 0.7046918831754965, 'thresh_3': 0.13921691960582788, 'thresh_4': 0.1779939299371042, 'thresh_5': 0.8940991720237649, 'thresh_6': 0.2696694998760353, 'thresh_7': 0.5999449728008058, 'thresh_8': 0.7082510101123486}. Best is trial 35 with value: 0.7164412727532842.\n",
      "[I 2025-04-10 10:59:40,026] Trial 38 finished with value: 0.529760704927002 and parameters: {'thresh_0': 0.29127259844693515, 'thresh_1': 0.4444908026843424, 'thresh_2': 0.8467644470401836, 'thresh_3': 0.3256491868718293, 'thresh_4': 0.10296006027345844, 'thresh_5': 0.8644821786984015, 'thresh_6': 0.22212427899951548, 'thresh_7': 0.4628514275791278, 'thresh_8': 0.35989568366835917}. Best is trial 35 with value: 0.7164412727532842.\n",
      "[I 2025-04-10 10:59:40,069] Trial 39 finished with value: 0.7154734955271862 and parameters: {'thresh_0': 0.26318356059679315, 'thresh_1': 0.5367904111737146, 'thresh_2': 0.7920843394053358, 'thresh_3': 0.42383220820348827, 'thresh_4': 0.1724061966105718, 'thresh_5': 0.8451460030343685, 'thresh_6': 0.16919596525078756, 'thresh_7': 0.7625177917126585, 'thresh_8': 0.6674928161589929}. Best is trial 35 with value: 0.7164412727532842.\n",
      "[I 2025-04-10 10:59:40,107] Trial 40 finished with value: 0.690317277344431 and parameters: {'thresh_0': 0.5230594051951447, 'thresh_1': 0.4635199958152793, 'thresh_2': 0.6889873255547211, 'thresh_3': 0.3567206417476244, 'thresh_4': 0.25007684425909515, 'thresh_5': 0.8187360523697769, 'thresh_6': 0.3060718737159163, 'thresh_7': 0.834102244588964, 'thresh_8': 0.5888001759329589}. Best is trial 35 with value: 0.7164412727532842.\n",
      "[I 2025-04-10 10:59:40,142] Trial 41 finished with value: 0.7144597952471221 and parameters: {'thresh_0': 0.260087671389084, 'thresh_1': 0.5201879704707492, 'thresh_2': 0.8077271588369638, 'thresh_3': 0.42726464099103384, 'thresh_4': 0.1675630070309523, 'thresh_5': 0.8633748831681488, 'thresh_6': 0.16873778722378444, 'thresh_7': 0.737716937594495, 'thresh_8': 0.67472654738562}. Best is trial 35 with value: 0.7164412727532842.\n",
      "[I 2025-04-10 10:59:40,188] Trial 42 finished with value: 0.7158760226244143 and parameters: {'thresh_0': 0.34418694278875583, 'thresh_1': 0.5653186228545081, 'thresh_2': 0.7746192887490632, 'thresh_3': 0.4415192837601869, 'thresh_4': 0.1956004547691739, 'thresh_5': 0.8992764090978549, 'thresh_6': 0.23930722456851994, 'thresh_7': 0.7638220494195126, 'thresh_8': 0.7233351387192919}. Best is trial 35 with value: 0.7164412727532842.\n",
      "[I 2025-04-10 10:59:40,234] Trial 43 finished with value: 0.5966803149205595 and parameters: {'thresh_0': 0.35591579957364666, 'thresh_1': 0.6096443739521689, 'thresh_2': 0.8540187791518172, 'thresh_3': 0.25996528325117485, 'thresh_4': 0.2076952238223022, 'thresh_5': 0.8987291240464385, 'thresh_6': 0.243031527490322, 'thresh_7': 0.6149225962346494, 'thresh_8': 0.11726632615152671}. Best is trial 35 with value: 0.7164412727532842.\n",
      "[I 2025-04-10 10:59:40,273] Trial 44 finished with value: 0.637425998749154 and parameters: {'thresh_0': 0.43268835507677017, 'thresh_1': 0.4092941491246492, 'thresh_2': 0.7504546630518641, 'thresh_3': 0.4508181490589812, 'thresh_4': 0.13474876116130477, 'thresh_5': 0.7549284039268107, 'thresh_6': 0.39745834332628166, 'thresh_7': 0.5369019465229664, 'thresh_8': 0.7119834589450393}. Best is trial 35 with value: 0.7164412727532842.\n",
      "[I 2025-04-10 10:59:40,315] Trial 45 finished with value: 0.6658427374530421 and parameters: {'thresh_0': 0.41195943643805144, 'thresh_1': 0.48220901180761744, 'thresh_2': 0.8306857948706432, 'thresh_3': 0.36439794519526053, 'thresh_4': 0.10789733674999148, 'thresh_5': 0.852076609076291, 'thresh_6': 0.2571588406514807, 'thresh_7': 0.5103954867079024, 'thresh_8': 0.7453652279033239}. Best is trial 35 with value: 0.7164412727532842.\n",
      "[I 2025-04-10 10:59:40,354] Trial 46 finished with value: 0.6067972579917376 and parameters: {'thresh_0': 0.21804499773214228, 'thresh_1': 0.5545416215902367, 'thresh_2': 0.7708388556209189, 'thresh_3': 0.3009930783239145, 'thresh_4': 0.25525972951123943, 'thresh_5': 0.3075941780458675, 'thresh_6': 0.3153851554052376, 'thresh_7': 0.8363062342853207, 'thresh_8': 0.6040294011725255}. Best is trial 35 with value: 0.7164412727532842.\n",
      "[I 2025-04-10 10:59:40,395] Trial 47 finished with value: 0.5989745649345852 and parameters: {'thresh_0': 0.6119856851262133, 'thresh_1': 0.6312984076005932, 'thresh_2': 0.8970653557594795, 'thresh_3': 0.21356422855209206, 'thresh_4': 0.19503189787708888, 'thresh_5': 0.1600060180572611, 'thresh_6': 0.1901453841478291, 'thresh_7': 0.7068779077634032, 'thresh_8': 0.5310484422209577}. Best is trial 35 with value: 0.7164412727532842.\n",
      "[I 2025-04-10 10:59:40,435] Trial 48 finished with value: 0.4876573813396823 and parameters: {'thresh_0': 0.13685855879879974, 'thresh_1': 0.34174696592237036, 'thresh_2': 0.6719822034407436, 'thresh_3': 0.5936967938808377, 'thresh_4': 0.31701531470424793, 'thresh_5': 0.815576926153844, 'thresh_6': 0.4991572047382145, 'thresh_7': 0.5609730646223366, 'thresh_8': 0.294407334929879}. Best is trial 35 with value: 0.7164412727532842.\n",
      "[I 2025-04-10 10:59:40,474] Trial 49 finished with value: 0.7194741834936983 and parameters: {'thresh_0': 0.8390524090165663, 'thresh_1': 0.586388421787202, 'thresh_2': 0.7906251831029367, 'thresh_3': 0.4528015348405562, 'thresh_4': 0.14460909399916977, 'thresh_5': 0.6657532460300565, 'thresh_6': 0.2179021854659861, 'thresh_7': 0.6275462075758141, 'thresh_8': 0.8449389609779214}. Best is trial 49 with value: 0.7194741834936983.\n"
     ]
    },
    {
     "name": "stdout",
     "output_type": "stream",
     "text": [
      "Optimal thresholds per class: [0.8390524090165663, 0.586388421787202, 0.7906251831029367, 0.4528015348405562, 0.14460909399916977, 0.6657532460300565, 0.2179021854659861, 0.6275462075758141, 0.8449389609779214]\n"
     ]
    }
   ],
   "source": [
    "best_thresholds = tune_thresholds(probs, labels, num_classes=9)\n",
    "print(\"Optimal thresholds per class:\", best_thresholds)"
   ]
  },
  {
   "cell_type": "code",
   "execution_count": 34,
   "id": "4d4cb507",
   "metadata": {},
   "outputs": [],
   "source": [
    "\n",
    "\n",
    "def evaluate_metrics_with_mask(preds, targets, thresholds=None):\n",
    "    \"\"\"\n",
    "    Calculate metrics for multi-label predictions with masking support.\n",
    "    \n",
    "    Args:\n",
    "        preds (torch.Tensor): Raw logits or probabilities (B x C)\n",
    "        targets (torch.Tensor): Ground truth labels (B x C), with -1 for missing\n",
    "        thresholds (float or list/array of floats): Threshold(s) to binarize predictions. Default: 0.5 for all.\n",
    "        \n",
    "    Returns:\n",
    "        dict with accuracy, F1, AUC-ROC, Hamming loss\n",
    "    \"\"\"\n",
    "    preds = torch.sigmoid(torch.tensor(preds))\n",
    "    \n",
    "    # Create a binary mask for valid (non -1) entries\n",
    "    mask = (targets != -1)\n",
    "    \n",
    "    # Apply thresholding\n",
    "    if thresholds is None:\n",
    "        thresholds = 0.5\n",
    "    if isinstance(thresholds, float):\n",
    "        thresholds = torch.full_like(preds, thresholds)\n",
    "    elif isinstance(thresholds, (list, np.ndarray)):\n",
    "        thresholds = torch.tensor(thresholds).repeat(preds.shape[0], 1)\n",
    "    \n",
    "    binarized_preds = (preds > thresholds).float()\n",
    "    \n",
    "    # Masked predictions and targets\n",
    "    masked_preds = binarized_preds[mask]\n",
    "    masked_targets = targets[mask]\n",
    "    masked_probs = preds[mask]\n",
    "\n",
    "\n",
    "\n",
    "    # Metrics\n",
    "    accuracy = accuracy_score(masked_targets, masked_preds)\n",
    "    f1 = f1_score(masked_targets, masked_preds, average=\"macro\")\n",
    "    hamming = hamming_loss(masked_targets, masked_preds)\n",
    "    \n",
    "    try:\n",
    "        auc_roc = roc_auc_score(masked_targets, masked_probs)\n",
    "    except:\n",
    "        auc_roc = float(\"nan\")  # Might fail if only one class is present\n",
    "    \n",
    "    return {\n",
    "        \"accuracy\": accuracy,\n",
    "        \"f1_macro\": f1,\n",
    "        \"hamming_loss\": hamming,\n",
    "        \"auc_roc\": auc_roc\n",
    "    }\n"
   ]
  },
  {
   "cell_type": "code",
   "execution_count": 35,
   "id": "ef4851f1",
   "metadata": {},
   "outputs": [
    {
     "name": "stdout",
     "output_type": "stream",
     "text": [
      "Metrics with optimal thresholds: {'accuracy': 0.6753623188405797, 'f1_macro': 0.6748767091270305, 'hamming_loss': 0.32463768115942027, 'auc_roc': 0.8047450868043412}\n"
     ]
    }
   ],
   "source": [
    "metrics = evaluate_metrics_with_mask(probs, labels, thresholds=best_thresholds)\n",
    "print(\"Metrics with optimal thresholds:\", metrics)"
   ]
  }
 ],
 "metadata": {
  "kernelspec": {
   "display_name": ".venv",
   "language": "python",
   "name": "python3"
  },
  "language_info": {
   "codemirror_mode": {
    "name": "ipython",
    "version": 3
   },
   "file_extension": ".py",
   "mimetype": "text/x-python",
   "name": "python",
   "nbconvert_exporter": "python",
   "pygments_lexer": "ipython3",
   "version": "3.10.0"
  }
 },
 "nbformat": 4,
 "nbformat_minor": 5
}
